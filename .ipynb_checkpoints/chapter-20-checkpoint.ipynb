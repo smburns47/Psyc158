{
 "cells": [
  {
   "cell_type": "markdown",
   "id": "1bfb9d4c",
   "metadata": {},
   "source": [
    "[Back to Table of Contents](https://www.shannonmburns.com/Psyc158/intro.html)\n",
    "\n",
    "[Previous: Chapter 19 - Model Bias](https://colab.research.google.com/github/smburns47/Psyc158/blob/main/chapter-19.ipynb)"
   ]
  },
  {
   "cell_type": "code",
   "execution_count": null,
   "id": "14b5dbee",
   "metadata": {},
   "outputs": [],
   "source": [
    "# Run this first so it's ready by the time you need it\n",
    "install.packages(\"dplyr\")\n",
    "install.packages(\"ggformula\")\n",
    "library(dplyr)\n",
    "library(ggformula)\n",
    "studentdata <- read.csv(\"https://raw.githubusercontent.com/smburns47/Psyc158/main/studentdata.csv\")"
   ]
  },
  {
   "cell_type": "markdown",
   "id": "5ddafa7b",
   "metadata": {},
   "source": [
    "# Chapter 20 - Alternate Approaches - Traditional Statistical Tools\n",
    "\n",
    "## 20.1 Different teaching philosophies\n",
    "\n",
    "In this course you have spent a long time learning about how to make predictions and do inference with the general linear model. However, most statistics students don't learn this framework for doing analysis. Instead, they learn an assortment of different statistical procedures like the t-test, ANOVA, chi-square, etc. Indeed many practicing researchers also use these tools instead of the GLM.\n",
    "\n",
    "So why learn the GLM at all if not as many people use it? There are two pedagogical reasons for why this course emphasized this method instead of the traditional content:\n",
    "\n",
    "1) **Traditional tools require learning how to do hypothesis testing first** - Traditional methods fundamentally depend on Null Hypothesis Significance testing. They cannot be interpreted without setting a null hypothesis, computing a t/F score, and finding a p-value. This means to learn how to use these tools, students first have to learn about sampling distributions and significance testing. This is a rather abstract thing to learn first and impedes understanding for many people. This leads them to using intellectual short cuts like \"always look for p < 0.05\" despite the dangers of overrelying on that number. \n",
    "\n",
    "2) **Traditional tools are more variable, harder to remember** - When first starting out, the list of all the common statistical tools often seems daunting. They are calculated all different ways with different names and it's hard to remember what goes where. In contrast, the GLM is ultimatly one tool - $Y_i = b_0 + b_1X_i + e_i$. How many predictors you add to the equation and how you interpret the coefficients varies depending on your use situation, but just knowing about this one equation gets you 80% of the way there, making it a better starting point for building conceptual understanding.\n",
    "\n",
    "Despite the advantages of the GLM however, many people still use the traditional tools. Thus, it is good for you to be able to identify them and understand how they map onto what you have learned with the GLM. Ultimately, the GLM and these tools will give you the same answer and you can choose which you prefer in your own research. Knowing both will enable you to read and understand research reports no matter what method the authors used. You may even find that most of these tools build on concepts you've already learned. They're just a different way of showing that information. "
   ]
  },
  {
   "cell_type": "markdown",
   "id": "e74dc2e3",
   "metadata": {},
   "source": [
    "## 20.2 T-tests \n",
    "\n",
    "### One-sample t-test\n",
    "\n",
    "Previously in chapter 11, we were introduced to the idea of a t-test. To explain it in more depth, let's start with the **one-sample t-test**. \n",
    "\n",
    "Let's say you are a track coach and you're assessing the progress of your runners' training. They all recorded their best times for running the 100m when they initially joined the team. Now after a month of pre-season training, you want to know if they, as a group, have improved. \n",
    "\n",
    "Here is some data from your team on the change in their 100m time in seconds. Negative scores mean they got faster (less time to complete the 100m), positive scores mean they ran slower."
   ]
  },
  {
   "cell_type": "code",
   "execution_count": 34,
   "id": "092a6a12",
   "metadata": {
    "scrolled": true
   },
   "outputs": [],
   "source": [
    "original_scores <- c(11.6, 10.3, 10.6, 12.1, 11.0, 10.8, 10.2, 10.7, 12.7, 12.2)\n",
    "new_scores <- c(11.0, 10.8, 10.7, 10.3, 10.7, 10.8, 10.2, 10.3, 11.4, 12.1)\n",
    "time_change <- new_scores - original_scores"
   ]
  },
  {
   "cell_type": "markdown",
   "id": "a67230a4",
   "metadata": {},
   "source": [
    "If our question is restricted to just our team of runners and no one else, we can figure out their improvement really easily. We simply find the mean of their change scores:"
   ]
  },
  {
   "cell_type": "code",
   "execution_count": 32,
   "id": "dbce39f1",
   "metadata": {
    "scrolled": true
   },
   "outputs": [
    {
     "data": {
      "text/html": [
       "-0.39"
      ],
      "text/latex": [
       "-0.39"
      ],
      "text/markdown": [
       "-0.39"
      ],
      "text/plain": [
       "[1] -0.39"
      ]
     },
     "metadata": {},
     "output_type": "display_data"
    }
   ],
   "source": [
    "mean(time_change)"
   ]
  },
  {
   "cell_type": "markdown",
   "id": "0c239b87",
   "metadata": {},
   "source": [
    "Great! This number means that, on average, our team ran faster than before. If we only care about evaluating our current team, we can stop here and don't need to use any more statistics. \n",
    "\n",
    "But let's say our question goes beyond just our team. If we were to recruit new runners the following year, would they also improve their scores with this training regimen?\n",
    "\n",
    "Now we are hypothesizing about data we don't have. At this point we need inferential statistics, and a one-sample t-test can help.\n",
    "\n",
    "A one-sample t-test answers a particular kind of question: is the mean of some data $\\bar{X}$ likely or unlikely to be from a population with a specific $\\mu$? In other words, if we think the population $\\mu$ is a particular value and our data sample is drawn from that population, is it reasonable or surprising to find that our sample's mean is the value we measured? \n",
    "\n",
    "For how this translates to our specific example: is our data sample likely to happen even in a population of runners who on average didn't improve? \n",
    "\n",
    "In order to do a one-sample t-test to answer this question, we first need to set down our idea about what $\\mu$ should be. This is specifying the null hypothesis. For our particular example, the data we are evaluating are improvements in running time. We want to know if these data came from a population of scores where there's no improvement. In such a population some people might run a bit faster than their initial time, some a bit slower, but on average there's no change. Thus, to set our null hypothesis: \n",
    "\n",
    "$$H_0: \\mu = 0$$\n",
    "\n",
    "When we calculated our data sample earlier, it was -0.39, not 0. Does that mean we can conclude these runners did not come from a population of no improvement? \n",
    "\n",
    "Not necessarily. Remember, due to random sampling, it is frequently possible to get a sample mean that is not the same value as the population mean:"
   ]
  },
  {
   "cell_type": "code",
   "execution_count": 12,
   "id": "95dffaf2",
   "metadata": {},
   "outputs": [
    {
     "data": {
      "text/html": [
       "-0.490656847829322"
      ],
      "text/latex": [
       "-0.490656847829322"
      ],
      "text/markdown": [
       "-0.490656847829322"
      ],
      "text/plain": [
       "[1] -0.4906568"
      ]
     },
     "metadata": {},
     "output_type": "display_data"
    }
   ],
   "source": [
    "set.seed(10)\n",
    "sim_sample <- rnorm(10, mean=0, sd=1) #random sample of 10 scores from population with mean 0\n",
    "mean(sim_sample)"
   ]
  },
  {
   "cell_type": "markdown",
   "id": "c5390bab",
   "metadata": {},
   "source": [
    "Thus we need a way refining our question: given a population $\\mu$ *and* an expected variation among samples from that population, is our sample really surprising or not?\n",
    "\n",
    "Enter the t-value. It is a way of scaling the difference between a sample and hypothesized population mean by the standard error of that population. For a one-sample t-test, this is calculated as: \n",
    "\n",
    "$$t = \\frac{\\bar{X} - \\mu}{SEM}$$\n",
    "\n",
    "If you recall from chapter 15, SEM in turn is calculated as:\n",
    "\n",
    "$$SEM = \\frac{\\hat{σ}}{\\sqrt{N}}$$\n",
    "\n",
    "All this together means that a t-value will be larger when there's a bigger difference between our sample mean and the hypothesized population mean, or when the standard error is smaller. \n",
    "\n",
    "The type of t-score we can get falls somewhere in the t distribution that we first encountered in chapter 16:\n",
    "\n",
    "<img src=\"images/ch16-tdist.png\" width=\"600\">\n",
    "\n",
    "You'll notice that the exact shape of the t distribution changes based on the degrees of freedom for our sample. That's because higher sample size Ns reduce the standard error, making it harder to get large t values when a sample really is from a population with mean $\\mu$. Additionally, the cumulative probability outside of our t-value is the corresponding p-value for that t-score.  \n",
    "\n",
    "Altogether, this means that to answer our question about whether our data likely come from a population of no improvement, we need to perform a one-sample t-test. The larger this t-score is, the more suprising it would be to draw a sample with our mean given a true population $\\mu = 0$. If the associated p-value is <0.05, we would decide it's so surprising that our sample probably came from a different sort of population instead - one with some alternative $\\mu$ that suggests improvement due to our training regimen. \n",
    "\n",
    "R provides us with a built-in function to quickly compute a one sample t-test:"
   ]
  },
  {
   "cell_type": "code",
   "execution_count": 27,
   "id": "33cfc32d",
   "metadata": {
    "scrolled": true
   },
   "outputs": [
    {
     "data": {
      "text/plain": [
       "\n",
       "\tOne Sample t-test\n",
       "\n",
       "data:  time_change\n",
       "t = -1.7865, df = 9, p-value = 0.1077\n",
       "alternative hypothesis: true mean is not equal to 0\n",
       "95 percent confidence interval:\n",
       " -0.8838324  0.1038324\n",
       "sample estimates:\n",
       "mean of x \n",
       "    -0.39 \n"
      ]
     },
     "metadata": {},
     "output_type": "display_data"
    }
   ],
   "source": [
    "t.test(time_change)"
   ]
  },
  {
   "cell_type": "markdown",
   "id": "8dea3e09",
   "metadata": {},
   "source": [
    "The output of this function gives us information about the calculated t-score (-1.7865), the degrees of freedom of the test (9, which is N-1), and the p-value (0.1077). It also gives us a 95% CI for our estimate of the mean, [-0.88, 0.10]. Note that a t-value can be positive or negative, signifying if our sample mean is higher or lower than the hypothesized population mean.\n",
    "\n",
    "Based on these results, there is not enough evidence to reject the null hypothesis that our training regimen results in no improvement. In APA format, we would write these results as \"The mean change in running time was -0.39 seconds [-0.88, 0.10]. There was no significant improvement in running time for this sample of runners (*t(9)* = -1.79, *p* = 0.11). \n",
    "\n",
    "The different parts of doing a t-test (calculating a mean, null hypothesis, standard error, and p-value) are all concepts you've learned before. For this reason, a t-test is actually just another way of getting to the same answer as we previously did with the general linear model. Check out the t and p values in the model output below, and compare them to the results of the above t-test:"
   ]
  },
  {
   "cell_type": "code",
   "execution_count": 28,
   "id": "78cf614e",
   "metadata": {
    "scrolled": true
   },
   "outputs": [
    {
     "data": {
      "text/plain": [
       "\n",
       "Call:\n",
       "lm(formula = time_change ~ NULL)\n",
       "\n",
       "Residuals:\n",
       "   Min     1Q Median     3Q    Max \n",
       " -1.41  -0.16   0.19   0.39   0.89 \n",
       "\n",
       "Coefficients:\n",
       "            Estimate Std. Error t value Pr(>|t|)\n",
       "(Intercept)  -0.3900     0.2183  -1.787    0.108\n",
       "\n",
       "Residual standard error: 0.6903 on 9 degrees of freedom\n"
      ]
     },
     "metadata": {},
     "output_type": "display_data"
    }
   ],
   "source": [
    "summary(lm(time_change ~ NULL))"
   ]
  },
  {
   "cell_type": "markdown",
   "id": "cda043e7",
   "metadata": {},
   "source": [
    "In the null model of the GLM framework, we are estimating the sample mean as $b_0$ and evaluating if it is significantly different from 0. In a one-sample t-test, we are evaluating whether a sample mean $\\bar{X}$ is significantly different from the null hypothesis $\\mu = 0$. These are the exact same question, just posed different ways. Thus, you can get the same result using a null model form of the GLM or the one-sample t-test.\n",
    "\n",
    "However, we should also point out that in the null model, the significance of $b_0$ is specifically compared in the context of a null hypothesis where $\\beta_0 = 0$. In the one-sample t-test, we can be more general that this. We don't have to restrict ourselves to a null hypothesis of 0. For instance, let's imagine that instead of running improvement, we are interested in whether our team's new running times are significantly better than the [Division III track and field recruiting cut off](https://www.ncsasports.org/mens-track-and-field/scholarship-standards) of 11.34. First we calculate the mean of everyone's new running times:"
   ]
  },
  {
   "cell_type": "code",
   "execution_count": 29,
   "id": "4b144254",
   "metadata": {},
   "outputs": [
    {
     "data": {
      "text/html": [
       "11.03"
      ],
      "text/latex": [
       "11.03"
      ],
      "text/markdown": [
       "11.03"
      ],
      "text/plain": [
       "[1] 11.03"
      ]
     },
     "metadata": {},
     "output_type": "display_data"
    }
   ],
   "source": [
    "mean(new_scores)"
   ]
  },
  {
   "cell_type": "markdown",
   "id": "79430b8e",
   "metadata": {},
   "source": [
    "Then we specify a null hypothesis:\n",
    "\n",
    "$$H_0: \\mu = 11.34$$\n",
    "\n",
    "This is a different null hypothesis than before. Now, we are wondering if our sample is likely to come from DIII track and field athletes, or if we should conclude they come from an even faster population.\n",
    "\n",
    "To specify a null hypothesis in a t-test that is different than 0, add the ```mu=``` argument to the ```t.test()``` with this specific null hypothesis value."
   ]
  },
  {
   "cell_type": "code",
   "execution_count": 35,
   "id": "0c55c65c",
   "metadata": {
    "scrolled": true
   },
   "outputs": [
    {
     "data": {
      "text/plain": [
       "\n",
       "\tOne Sample t-test\n",
       "\n",
       "data:  new_scores\n",
       "t = -2.8117, df = 9, p-value = 0.02032\n",
       "alternative hypothesis: true mean is not equal to 11.34\n",
       "95 percent confidence interval:\n",
       " 10.41968 11.24032\n",
       "sample estimates:\n",
       "mean of x \n",
       "    10.83 \n"
      ]
     },
     "metadata": {},
     "output_type": "display_data"
    }
   ],
   "source": [
    "t.test(new_scores, mu=11.34)"
   ]
  },
  {
   "cell_type": "markdown",
   "id": "ab7860b8",
   "metadata": {},
   "source": [
    "Based on these results, our sample mean of 11.03 would be very unusual if it were drawn from a population with $\\mu = 11.34$ (p = 0.02). Thus we reject this null hypothesis in favor of the alternative hypothesis that our team is from a faster population.  \n",
    "\n",
    "### independent-samples t-test"
   ]
  },
  {
   "cell_type": "markdown",
   "id": "02524061",
   "metadata": {},
   "source": [
    "## 20.3 ANOVA tests\n"
   ]
  },
  {
   "cell_type": "markdown",
   "id": "91883486",
   "metadata": {},
   "source": [
    "## 20.4 Chi-square\n"
   ]
  },
  {
   "cell_type": "markdown",
   "id": "8569d84d",
   "metadata": {},
   "source": [
    "## 20.5 Repeated measures tests\n"
   ]
  },
  {
   "cell_type": "markdown",
   "id": "52ecb320",
   "metadata": {},
   "source": [
    "[Next: Chapter 21 - Alternate Approaches - Bayesian Statistics](https://colab.research.google.com/github/smburns47/Psyc158/blob/main/chapter-21.ipynb)"
   ]
  }
 ],
 "metadata": {
  "kernelspec": {
   "display_name": "R",
   "language": "R",
   "name": "ir"
  },
  "language_info": {
   "codemirror_mode": "r",
   "file_extension": ".r",
   "mimetype": "text/x-r-source",
   "name": "R",
   "pygments_lexer": "r",
   "version": "4.2.3"
  }
 },
 "nbformat": 4,
 "nbformat_minor": 5
}
