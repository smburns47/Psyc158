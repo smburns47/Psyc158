{
 "cells": [
  {
   "cell_type": "markdown",
   "id": "64bef7be",
   "metadata": {},
   "source": [
    "# Chapter 19 - Evaluating Effect Sizes\n",
    "\n",
    "important to keep the coefficient in mind, don't just look at p-value. Even though we can't be sure of the true population parameter, the range of parameters likely to give us this data have meaning for making real world decisions. If giving someone a psychiatric drug with a lot of side effects will improve depression by [1.1 to 1.3], is that worth the side effects? What if it improved depression by [0.01 to 0.03]? Commonly referred to as **practical significance** \n",
    "\n",
    "interpreting betas as effect sizes\n",
    "\n",
    "Standardized effect sizes:\n",
    "one's we've seen before\n",
    "- correlation coefficient\n",
    "- PRE (As R2)\n",
    "new ones\n",
    "- cohen's d\n",
    "- cohen's f2\n",
    "\n",
    "Effect size is also related to how likely we are to find a statistically significant effect at all. Called statistical power"
   ]
  }
 ],
 "metadata": {
  "kernelspec": {
   "display_name": "R",
   "language": "R",
   "name": "ir"
  },
  "language_info": {
   "codemirror_mode": "r",
   "file_extension": ".r",
   "mimetype": "text/x-r-source",
   "name": "R",
   "pygments_lexer": "r",
   "version": "4.1.2"
  }
 },
 "nbformat": 4,
 "nbformat_minor": 5
}
