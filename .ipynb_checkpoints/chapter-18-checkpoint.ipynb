{
 "cells": [
  {
   "cell_type": "markdown",
   "id": "85b6974d",
   "metadata": {},
   "source": [
    "# Chapter 18 - Model Testing & Comparison\n",
    "\n",
    "## 18.1 Significant effects\n",
    "\n",
    "Last chapter we introduced the idea of significance testing\n",
    "\n",
    "Goal of evaluating whether a certain predictor's effect is significantly different from 0 - whether it is unlikely to not add predictive value \n",
    "\n",
    "- using p-values to evaluate specific effects in each type of model\n",
    "- simple models, multivariable models (controlling), interaction models\n",
    "- pairwise comparisons for group models (Coursekata 10.8) \n",
    "\n",
    "## 18.2 Significant models\n",
    "\n",
    "Goal is to evaluate the performance of the model as a whole. Evaluate your entire picture about the data generation process.\n",
    "\n",
    "Different null model. Rather than some parameter is equal to 0, is the *change* in an error reduction score significantly different than 0 between the null model and the full model. \n",
    "\n",
    "Coursekata 10.1\n",
    "\n",
    "## 18.3 The F-test\n",
    "\n",
    "Coursekata 7.12\n",
    "\n",
    "## 18.4 Sampling distributions of PRE\n",
    "\n",
    "Coursekata 10.2 \n",
    "\n",
    "\n",
    "## 18.5 The F-distribution \n",
    "\n",
    "Coursekata 10.3, 10.4\n",
    "\n",
    "## 18.6 Significance testing a general linear model\n",
    "\n",
    "Coursekata 10.5\n",
    "\n",
    "## 18.7 Comparing different full models\n",
    "\n",
    "Coursekata 10.7\n",
    "\n",
    "## 18.8 Multiple comparisons problem\n",
    "\n",
    "Coursekata 10.8\n",
    "\n"
   ]
  }
 ],
 "metadata": {
  "kernelspec": {
   "display_name": "R",
   "language": "R",
   "name": "ir"
  },
  "language_info": {
   "codemirror_mode": "r",
   "file_extension": ".r",
   "mimetype": "text/x-r-source",
   "name": "R",
   "pygments_lexer": "r",
   "version": "4.1.2"
  }
 },
 "nbformat": 4,
 "nbformat_minor": 5
}
