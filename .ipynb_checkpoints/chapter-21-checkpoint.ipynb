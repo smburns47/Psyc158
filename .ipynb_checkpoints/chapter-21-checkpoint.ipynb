{
 "cells": [
  {
   "cell_type": "markdown",
   "id": "bba2b1e6",
   "metadata": {},
   "source": [
    "[Back to Table of Contents](https://www.shannonmburns.com/Psyc158/intro.html)\n",
    "\n",
    "[Previous: Chapter 20 - Sources of Model Bias](https://colab.research.google.com/github/smburns47/Psyc158/blob/main/chapter-20.ipynb)"
   ]
  },
  {
   "cell_type": "markdown",
   "id": "c8faa2ef",
   "metadata": {},
   "source": [
    "UNDER DEVELOPMENT!!!\n",
    "\n",
    "# Chapter 21 - Bayesian Statistics"
   ]
  },
  {
   "cell_type": "markdown",
   "id": "e088a2fc",
   "metadata": {},
   "source": [
    "[Next: Chapter 22 - Lying with Statistics](https://colab.research.google.com/github/smburns47/Psyc158/blob/main/chapter-22.ipynb)"
   ]
  }
 ],
 "metadata": {
  "kernelspec": {
   "display_name": "R",
   "language": "R",
   "name": "ir"
  },
  "language_info": {
   "codemirror_mode": "r",
   "file_extension": ".r",
   "mimetype": "text/x-r-source",
   "name": "R",
   "pygments_lexer": "r",
   "version": "4.1.2"
  }
 },
 "nbformat": 4,
 "nbformat_minor": 5
}
