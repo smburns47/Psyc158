{
 "cells": [
  {
   "cell_type": "markdown",
   "id": "bbebdc12",
   "metadata": {},
   "source": [
    "[Back to Table of Contents](https://www.shannonmburns.com/Psyc158/intro.html)\n",
    "\n",
    "[Previous: Chapter 13 - Multivariable Models](https://colab.research.google.com/github/smburns47/Psyc158/blob/main/chapter-13.ipynb)"
   ]
  },
  {
   "cell_type": "code",
   "execution_count": 1,
   "id": "d7152597",
   "metadata": {},
   "outputs": [
    {
     "name": "stderr",
     "output_type": "stream",
     "text": [
      "Installing package into ‘/Library/Frameworks/R.framework/Versions/4.2-arm64’\n",
      "(as ‘lib’ is unspecified)\n",
      "\n"
     ]
    },
    {
     "name": "stdout",
     "output_type": "stream",
     "text": [
      "\n",
      "The downloaded binary packages are in\n",
      "\t/var/folders/mg/1wy1xcls587_h0tqnj42l5740000gn/T//RtmpNGTuMu/downloaded_packages\n"
     ]
    },
    {
     "name": "stderr",
     "output_type": "stream",
     "text": [
      "Installing package into ‘/Library/Frameworks/R.framework/Versions/4.2-arm64’\n",
      "(as ‘lib’ is unspecified)\n",
      "\n"
     ]
    },
    {
     "name": "stdout",
     "output_type": "stream",
     "text": [
      "\n",
      "The downloaded binary packages are in\n",
      "\t/var/folders/mg/1wy1xcls587_h0tqnj42l5740000gn/T//RtmpNGTuMu/downloaded_packages\n"
     ]
    },
    {
     "name": "stderr",
     "output_type": "stream",
     "text": [
      "Loading required package: ggplot2\n",
      "\n",
      "Loading required package: ggstance\n",
      "\n",
      "\n",
      "Attaching package: ‘ggstance’\n",
      "\n",
      "\n",
      "The following objects are masked from ‘package:ggplot2’:\n",
      "\n",
      "    geom_errorbarh, GeomErrorbarh\n",
      "\n",
      "\n",
      "Loading required package: scales\n",
      "\n",
      "\n",
      "Attaching package: ‘scales’\n",
      "\n",
      "\n",
      "The following object is masked from ‘package:supernova’:\n",
      "\n",
      "    number\n",
      "\n",
      "\n",
      "Loading required package: ggridges\n",
      "\n",
      "\n",
      "New to ggformula?  Try the tutorials: \n",
      "\tlearnr::run_tutorial(\"introduction\", package = \"ggformula\")\n",
      "\tlearnr::run_tutorial(\"refining\", package = \"ggformula\")\n",
      "\n"
     ]
    }
   ],
   "source": [
    "# Run this first so it's ready by the time you need it\n",
    "install.packages(\"supernova\")\n",
    "install.packages(\"ggformula\")\n",
    "library(supernova)\n",
    "library(ggformula)"
   ]
  },
  {
   "cell_type": "markdown",
   "id": "390fef42",
   "metadata": {},
   "source": [
    "# Chapter 14 - Models with Moderation\n",
    "\n",
    "## 14.1 Independence vs. interaction\n",
    "\n",
    "In all the modeling we've done so far, we've relied on the general *linear* model to combine the effects of predictors in order to make a guess about the value of an outcome. This *linear* keyword means we have combined them with addition in the model equation. It implies that we think each predictor can contribute to explaining variance in the outcome with an effect b, *regardless* of the value of any other predictor. \n",
    "\n",
    "<img src=\"images/ch14-linearmod.png\" width=500>\n",
    "\n",
    "In a data generation process, we would call these predictors **main effects**. The effect of each predictor is independent of any other. \n",
    "\n",
    "However, this isn't always how the data generation process works. Not everything in the world is combined linearly and independently. For example, consider [this work](https://journals-sagepub-com.ccl.idm.oclc.org/doi/full/10.1111/j.1467-9280.2008.02079.x?casa_token=vmfXzncR8pQAAAAA:B9g_7Z1Pm67d_CCN-UDohTeFlDNC0Ci9GJ-qbZaOmw_DChwntgmzU7FJq2WYQOXzSBvD8iotqIUk) on how men and women are treated differently for expressing anger in the workplace. When men show anger in response to a problem, they are conferred higher status. A simple conceptual model of this phenomenon then might have anger expressions explaining workplace status.\n",
    "\n",
    "But this work showed that the effect is different for women. When women show anger during a problem, they are conferred less workplace status and may even be punished for it (\"she's being irrational\"). Thus the nature of the effect of anger expression on explaining workplace status depends on whether or not someone presents as male or female. \n",
    "\n",
    "<img src=\"images/ch14-interactionmod.png\" width=500>\n",
    "\n",
    "This is an example of an **interaction** between the variables of gender and anger expressions. The effect of anger on workplace status is not the same in all situations; it is not independent of other variables. The effect changes based on the context of another variable, gender.  \n",
    "\n",
    "We need more than addition to be able to build this sort of situation into a model. In other words, the model is not linear. But if we think a data generation process in psychology is not linear, is that a fatal flaw in using the general linear model framework? \n",
    "\n",
    "It turns out that the answer is no! The general linear model always combines things linearly. But we can use some tricks of math to turn nonlinear relationships into linear ones. In this chapter we'll learn how to do this.\n",
    "\n",
    "\n",
    "## 14.2 Specifying an interaction model\n",
    "\n",
    "First, let's review multivariable models, and then learn the differece between specifying main effects versus interactions. \n",
    "\n",
    "Suppose that there is a drug being tested in a clinical trial to reduce excess cholesterol. Suppose we are expecting a linear dose-response effect such that the higher the dose of the drug, the less excess cholesterol someone has:\n",
    " \n",
    "<img src=\"images/ch14-lineardrug.png\" width=\"450\">\n",
    "\n",
    "Now, however, suppose that we expect male subjects to have an overall higher level of compared to female subjects, but that the drug will still help both groups of subjects in the same way. In this situation, graph may look like this:\n",
    "\n",
    "<img src=\"images/ch14-maineffectdrug.png\" width=\"450\">\n",
    "\n",
    "This is the multivariable situation we have worked with before. Both of these effects are main effects because the effect is present and the same strength no matter the value of the other variable. The **simple slope** lines (the regression line for just one sex condition) have the same slope, and there is always the same distance between predicted values of cholesterol for male and female subjects no matter the drug dose.  \n",
    "\n",
    "However, maybe male and female subjects actually react differently to the drug dosage, like this:\n",
    "\n",
    "<img src=\"images/ch14-interactiondrug1.png\" width=\"450\">\n",
    "\n",
    "In this situation, being female makes the drug work better. There is a steeper simple slope for female subjects, such that a 1-unit increase in drug dosage results in a larger drop in cholesterol than the same 1-unit increase in drug dosage for male subjects.\n",
    "\n",
    "On the other hand, if the drug works less well in female subjects, they would have a shallower dose-response line compared to male subjects, like this:\n",
    "\n",
    "<img src=\"images/ch14-interactiondrug2.png\" width=\"450\">\n",
    "\n",
    "Of these four graphs, the first indicates no difference in cholesterol between male and female subjects - there is only an effect of drug dose. This is a simple linear regression with one predictor. \n",
    "\n",
    "The second graph illustrates that there is a difference in expected excess cholesterol between male and female subjects and also an expected change in cholesterol level for each 1-unit increase in drug dose. But these effects do not influence each other - taking an increasingly stronger drug will help male and female subjects the same amount. There are only main effects of drug dose and sex. \n",
    "\n",
    "The third and fourth graphs represent situations with an **interaction**. The effect of drug dose (the slope of the regression line) changes depending on the value of another variable, sex. In this case, the change in predicted cholesterol for every one-unit increase of the drug dose depends on whether it is given to male or female subjects. \n",
    "\n",
    "In terms of regression equations, we have:\n",
    "\n",
    "**Simple regression, main effect of dose:** \n",
    "\n",
    "$$cholesterol_i = b_0 + b_1dose_i + e_i$$\n",
    "\n",
    "where Y represents the outcome (amount of excess cholesterol), $b_0$ is the expected cholesterol when dose = 0, and $b_1$ is the difference in expected cholesterol for every one-unit increase in drug dose.\n",
    "\n",
    "**Multiple regression, main effects of dose and sex:** \n",
    "\n",
    "$$cholesterol_i = b_0 + b_1dose_i + b_2sex_i + e_i$$\n",
    "\n",
    "where Y represents the outcome (amount of excess cholesterol), $b_0$ is the expected cholesterol when dose = 0 and sex = 0 (i.e., dose = 0 in the reference group), $b_1$ is the difference in expected cholesterol for every one-unit increase in drug dose regardless of sex, and $b_2$ is the change in expected cholesterol between male and female regardless of dose. The dose and sex components are included linearly in this equation - they are added together. By doing this, we are hypothesizing that the effect of dose is the same regardless of sex, and vice versa. \n",
    "\n",
    "To write an equation for the situation with an interaction, we need a way to modify the strength of the effect of dose depending on what sex value someone has. In this way, someone who is male can have a different effect of dose than someone who is female.\n",
    "\n",
    "Remember that the coefficient b is the effect of a variable. We multiply it by the value of the variable to create predictions. Multiplication enables us to modify our predictions based on the value of the predictor. Therefor, if we want to modify the value of a b coefficient, we can multiply it *also* by the value of a *second* predictor:\n",
    "\n",
    "**Multiple regression, interaction between dose and sex:** \n",
    "\n",
    "$$cholesterol_i = b_0 + b_1dose_i + b_2sex_i + b_3dose_i*sex_i + e_i$$\n",
    "\n",
    "In this equation, we're adding a component to our model that will change our predictions depending on the value of both effects.\n",
    "\n",
    "In an interaction, it's not possible to interpret the strength of the effect of one variable without the context of the other. It's any situation where you might say \"it depends\" for making predictions. Is sun exposure related to skin cancer risk? It depends on if you're wearing sunscreen or not. Does adding more mustard make food more tasty? It depends on if that food is a hot dog or ice cream (or maybe not - you do you.) \n",
    "\n",
    "\n",
    "## 14.3 Interpreting the parameter estimates \n",
    "\n",
    "Because of this interaction between the variables, interpreting the coefficients gets tricky. If the equation looked specifically like: \n",
    "\n",
    "$$cholesterol_i = 40 - 0.5dose_i + 12sex_i - 0.25dose_i*sex_i + e_i$$\n",
    "\n",
    "you should interpret $b_0$, $b_1$, and $b_2$ in the contexts of when the other variable is 0. Here: \n",
    "- $b_0$ (the intercept) is the expected cholesterol when dose = 0 and sex = 0. If \"female\" is the reference group, then this would be the expected cholesterol for someone who is female and who has not received any drug. \n",
    "- $b_1$ (the main effect of dose) is the expected change in cholesterol lowering for every one-unit increase in dose, *when sex = 0* (i.e., for the reference group of female). \n",
    "- $b_2$ (the main effect of sex) is the expected change in cholesterol when you cross from the female to male category, *when dose = 0*. \n",
    "\n",
    "Now, let's get to $b_3$ (the interaction coefficient). Think of this as the change in a *main effect*, for every one-unit increase of another variable. For our case, we could say for every one-unit increase in dose, the difference in predicted cholesterol between females and males is decreasing by 0.25 ($b_3$ = -0.25). Male subjects start with higher predicted cholesterol for the same dose of the drug, but as the drug dose increases they will eventualy be predicted to have a lower cholesterol level than female subjects. In this perspective, we would consider drug dose to be a **moderator** of the effect of sex. The dose of the drug is changing the difference between sex groups. \n",
    "\n",
    "In the pictures above, a negative interaction term means the distance between lines for levels 0 and 1 of the sex variable is shrinking (or flipping negative) as you move up the x-axis. A positive interaction term means the distance between lines for levels 0 and 1 is growing (or flipping positive) as you move up the x-axis. The magnitude of the interaction term describes the speed at which that is happening. \n",
    "\n",
    "You can also interpret an interaction coefficient the other way around: by switching consideration from female to male subjects, we expect the difference in cholestrol between a dose of 0 and a dose of 1 to be 0.25 less. I.e., the simple slope of male subjects is 0.25 less than the simple slope of female subjects (since female subjects have a negative slope, this means the male subject line has an even more negative slope). In this perspective, we would consider sex to be a moderator of the effect of drug dose. The sex of a participant is changing the effect of the drug. When building interaction models, it doesn't matter which variable you consider to be the moderator. Just make sure you interpret the meaning of the coefficient correctly depending on what you choose.  \n",
    "\n",
    "Coefficient interpretation is more complicated for interaction models than main effect models. And it takes a lot of words to write out. But it's important to practice fully writing out what you expect to happen to your predictions under different values of the explanatory variables in concrete terms, not just saying things like \"negative interaction effect between dose and sex.\" That statement is removed from the units and real-world meaning of the variables. When interpreting coefficients, we want to stay as close to the real units as we can so that we keep sight of how important these prediction changes are in a practical sense.\n",
    "\n",
    "\n",
    "## 14.4 Interactions between two categorical variables\n",
    "\n",
    "Let's do some more interpretation practice, this time with the study that we opened this chapter with - emotional reaction and gender interacting to determine how much status someone is conferred.\n",
    "\n",
    "In this study, the researchers gave participants vignette stories about the way hypothetical people reacted to a problem at work. In these stories, the gender and reaction of the target person varied. This target was either portrayed as a man or a woman, and their reaction was described as either one of anger or one of sadness. Participants were then asked several questions about much status, power, hiring potential, and independence the target deserved at work (all combined into one outcome variable, \"status conferral\", ranging from 1 to 11). \n",
    "\n",
    "In this case, the outcome variable is how much status participants think the target should be conferred. There are two predictor variables - target's gender and target's reaction. Both of these predictors are categorical, because they represent qualitatively different categories. \n",
    "\n",
    "As we've learned in previous chapters, there is no difference in the form of the statistical equation for representing categorical vs. quantitative predictor variables. All that changes is the interpretation of the coefficients.\n",
    "\n",
    "Let's say the best-fitting equation for this study is:\n",
    "\n",
    "$$status_i = 3.7 + 2.5gender_i + 1.2reaction_i - 3.4gender_i*reaction_i + e_i$$\n",
    "\n",
    "Visually, this would look like:\n",
    "\n",
    "<img src=\"images/ch14-reactionmod.png\" width=\"800\">\n",
    "\n",
    "To understand what each coefficient means, start with the simplest situation, when the value of every variable is 0 (in this case, the reference group for both predictors). If the reference group of gender is \"female\" and the reference group of reaction is \"anger\" (the blue bar on the left), then putting those values into the equation would reduce it to $status_i = 3.7$. That means we would predict a status value of 3.7 for targets who are female and react with anger. This is the predicted outcome value for a target in both reference groups. \n",
    "\n",
    "Now let's change one of the variable values, but leave the other at 0. For instance, what is the predicted status value for a male who reacts with anger? Inserting 1 for the value of gender and 0 for the value of reaction would make the equation $status_i = 3.7 + 2.5 = 6.2$. Males who react with anger (blue bar on the right) are predicted to be rated with a value of 6.2 for their status. The value $b_1 = 2.5$ thus means the predicted difference in status for women and men when reaction = 0. Since this coefficient is positive, that means men (gender = 1) are conferred higher status than women (gender = 0) when reacting with anger.\n",
    "\n",
    "Let's switch the situation, and this time consider a woman (gender = 0) who reacts with sadness (reaction = 1). This equation would reduce to $status_i = 3.7 + 1.2 = 4.9$. Women who react with sadness (orange bar on the left) are predicted to given a status rating of 4.9. Since this $b_2$ coefficient is positive, that means women who react with sadness (reaction = 1) are conferred higher status than women who react with anger (reaction = 0). \n",
    "\n",
    "Finally, consider the situation for a man (gender = 1) who reacts with sadness (reaction = 1). Neither of these predictor values are 0, so we have to use the full equation: $status_i = 3.7 + 2.5 + 1.2 - 3.4 = 4$. Men who react with sadness are conferred a status level of 4. Since this $b_3$ coefficient is negative, we need to interpret it as one variable moderating the effect of the other in such a way that decreases the value of that effect. If we think about reaction as the moderator, this means the simple slope for men is 3.4 more negative than the simple slope for females. If we think about gender as the moderator, this means the simple slope for sadness is 3.4 more negative than for anger. \n",
    "\n",
    "Depending on which variable you choose as the moderator, it can be helpful to plot that as different lines: \n",
    "\n",
    "<img src=\"images/ch14-genderreactionmod.png\" width=\"800\">\n",
    "\n",
    "\n",
    "## 14.5 Interactions between two quantitative variables\n",
    "\n",
    "Let's go back to the cholesterol example, but with age and dose as predictor variables. Notice that this means we have two quantitative variables. The equation form of this model with an interaction would be, just as before:\n",
    "\n",
    "$$cholesterol_i = b_0 + b_1dose_i + b_2age_i + b_3dose_i*age_i + e_i$$\n",
    "\n",
    "Before, when at least one of the predictor variables was categorical, we could interpret the interaction effect $b_3$ as the difference in effects between one group and another. How do we interpret this coefficient when all variables are quantitative and there are no groups?\n",
    "\n",
    "Even though age will be treated as a quantitative variable here, suppose for an instant it was coded as dichotomous, simply representing “old” and “young” subjects. Now we would be back to the case already discussed above in detail, and the graph would look something like this:\n",
    "\n",
    "<img src=\"images/ch14-interactionage2.png\" width=\"450\">\n",
    "\n",
    "In this hypothetical case, we see that young people are expected to have less cholesterol than old people, but as drug dose increases, their cholesterol is reduced at a slower rate than for old people. The effect of dose on cholesterol (the simple slope) in young people is weaker than the effect in old people. What if we now add a middle category of “middle aged” people? The graph may now look something like this:\n",
    "\n",
    "<img src=\"images/ch14-interactionage3.png\" width=\"450\">\n",
    "\n",
    "And if even more categories of age were added, we might get something like this:\n",
    "\n",
    "<img src=\"images/ch14-interactionagemany.png\" width=\"450\">\n",
    "\n",
    "Now imagine adding finer and finer age categories, slowly transforming the age variable from discrete (categorical) into a continuous variable. At the point where age becomes continuous, we would have an infinite number of different slopes, one for each of the infinite possible age values. This is what we have when we have a model with two quantitative variables that interact with each other.\n",
    "\n",
    "Let's put in some exact numbers for the coefficients and interpret what they mean in this context:\n",
    "\n",
    "$$Y_i = 40 - 1dose_i + 0.5age_i + 0.01dose_i*age_i + e_i$$\n",
    "\n",
    "This means that the effect of dose changes depending on the age of the subject, so that there is really no one effect of dose. It is different for each possible age value. For someone aged 30, their specific model is:\n",
    "\n",
    "$$\\hat{Y} = 40 - 1dose_i + 0.5*30 + 0.01dose_i*30 = 55 - 0.7dose_i$$\n",
    "\n",
    "For someone aged 60, the simple model is: \n",
    "\n",
    "$$\\hat{Y} = 40 - 1dose_i + 0.5*60 - 0.01dose_i*60 = 70 - 0.4dose_i$$\n",
    "\n",
    "This means that the cholesterol drug has a stronger effect on people aged 60 than people aged 30. \n",
    "\n",
    "The effect of age is similarly affected by dose. If dose = 0, then the simple model of age on cholesterol is:\n",
    "\n",
    "$$\\hat{Y} = 40 - 1*0 + 0.5age_i + 0.01*0*age_i = 40 + 0.5age_i$$\n",
    "\n",
    "If the dose is 20, the simple model is: \n",
    "\n",
    "$$\\hat{Y} = 40 - 1*20 + 0.5age_i + 0.01*20*age_i = 20 + 0.7age_i$$\n",
    "\n",
    "I.e., age has a stronger effect on cholesterol with larger doses.\n",
    "\n",
    "\n",
    "## 14.6 Fitting an interaction model \n",
    "\n",
    "To fit an interaction model in R, we need to specify an interaction as part of the model formula when using ```lm()```. Recall how we would fit a multivariable model with just main effects:"
   ]
  },
  {
   "cell_type": "code",
   "execution_count": null,
   "id": "8bee43d4",
   "metadata": {},
   "outputs": [],
   "source": [
    "brescoll2008 <- read.csv(\"https://raw.githubusercontent.com/smburns47/Psyc158/main/GSS.csv\")"
   ]
  },
  {
   "cell_type": "markdown",
   "id": "335201ef",
   "metadata": {},
   "source": [
    "## 14.5 Types of interactions\n",
    "- Cross over\n",
    "- Knock out\n",
    "- Attenuation\n",
    "- how to identify what type from statistical model\n",
    "\n",
    "\n",
    "## 14.6 Interactions explaining error\n",
    "- Comparing error to independent variables form\n",
    "\n",
    "\n",
    "## 14.7 Visualizing interactions\n",
    "\n",
    "\n",
    "\n",
    "## 14.8 Choosing the best model"
   ]
  },
  {
   "cell_type": "markdown",
   "id": "f6115ab5",
   "metadata": {},
   "source": [
    "## 14.4 When to use nonlinear models\n",
    "\n",
    "Model specifications that you use in research should come primarily from existing theories or hypotheses about the data generation process. Thus, you should use nonlinear models when you suspect that variables are related to eachother in a nonlinear way.\n",
    "\n",
    "However, it is actually rare to encounter nonlinear models in psychology. We usually don't understand the data generation process well enough to expect anything more specific than \"as X goes up, Y goes up too.\" Additionally, there is often so much error in our measurements that it's hard to see whether a linear or nonlinear line would fit the data better. Because of this, most people default to using linear models. Yet, there can be clues that point you towards using nonlinear alternatives. \n",
    "\n",
    "Remember back in chapter 10 how we briefly talked about the shape of the error distribution? If the error distribution is roughly normal, our model is in general unbiased. It may be making errors when predicting outcome values for certain data points, even large errors. But if there isn't any systematic pattern in those errors, then the model is likely to make unbiased estimates averaged across many predictions. \n",
    "\n",
    "If the error distribution is skewed, however, our model is going to have problems. This means our model is biased - more often it makes a prediction that is too high or too low. Let's see what the error distribution looks like for the case where we build a simple linear model when the true data generation process is an exponential relationship: "
   ]
  },
  {
   "cell_type": "code",
   "execution_count": null,
   "id": "3a7a0b04",
   "metadata": {},
   "outputs": [],
   "source": [
    "sim_data$linear_resid <- resid(linear_model)\n",
    "gf_histogram( ~ linear_resid, data = sim_data)"
   ]
  },
  {
   "cell_type": "markdown",
   "id": "d5e05369",
   "metadata": {},
   "source": [
    "This definitely looks skewed, and suggests the model is usually making predictions that are too high (more residuals in the negative body of the distribution to balance out the extreme residuals in the positive tail). \n",
    "\n",
    "Another way of investigating this is to make a scatter plot of the residuals, against what the predicted values are. If we're modeling the data generation process in an unbiased way, this scatterplot should look like a random cloud of data points. There shouldn't be any relationship between the value of what the model predicts, and how far off that prediction is from the actual values: "
   ]
  },
  {
   "cell_type": "code",
   "execution_count": null,
   "id": "7d750952",
   "metadata": {
    "scrolled": false
   },
   "outputs": [],
   "source": [
    "sim_data$squared_predicted <- predict(squared_model)\n",
    "sim_data$squared_resid <- resid(squared_model)\n",
    "gf_point(squared_resid ~ squared_predicted, data = sim_data) "
   ]
  },
  {
   "cell_type": "markdown",
   "id": "d200116e",
   "metadata": {},
   "source": [
    "Based on this plot, it looks like there's no systematic problems with our model. There's still error in the model (the residuals are non-zero), but these residuals are randomly distributed for each value of the predicted score. \n",
    "\n",
    "Compare that to the predictions and residuals from the linear, misspecified model:"
   ]
  },
  {
   "cell_type": "code",
   "execution_count": null,
   "id": "0a6b029e",
   "metadata": {
    "scrolled": false
   },
   "outputs": [],
   "source": [
    "sim_data$linear_predicted <- predict(linear_model)\n",
    "sim_data$linear_resid <- resid(linear_model)\n",
    "gf_point(linear_resid ~ linear_predicted, data = sim_data)"
   ]
  },
  {
   "cell_type": "markdown",
   "id": "e313ab20",
   "metadata": {},
   "source": [
    "Clearly there's some structure to this plot. Predicted values at the extremes of the scale are likely to be under-predictions (positive residuals), and values in the middle of the scale are likely to be over-predictions (negative residuals). \n",
    "\n",
    "If you see structure like this in a predicted-by-residual plot, that tells you there's probably a nonlinear relationship between the predictor variable and the outcome variable. It is then your job to figure out what kind of nonlinear relationship it might be. "
   ]
  },
  {
   "cell_type": "markdown",
   "id": "db4b8625",
   "metadata": {},
   "source": [
    "## Visualizing interactions \n",
    "\n",
    "For visualizing interactions, there is a handy package called ```interactions``` with a function ```interact_plot()```."
   ]
  },
  {
   "cell_type": "code",
   "execution_count": null,
   "id": "4cf4aa7d",
   "metadata": {},
   "outputs": [],
   "source": [
    "install.packages(\"interactions\")\n",
    "library(interactions)\n",
    "\n",
    "#plotting interaction\n",
    "interact_plot(cholesterol_model, pred = dose, modx = age)"
   ]
  },
  {
   "cell_type": "markdown",
   "id": "be7875c9",
   "metadata": {},
   "source": [
    "This function takes a model object, a ```pred =``` argument to denote which variable you want to see on the x-axis, and a ```modx = ``` argument to denote which variable should receive different regression lines in the plot. When ```modx``` is a categorical variable, a separate line will be plotted for every level of the variable. If ```modx``` is a continuous variable, some select lines will be plotted that represent the value of +1SD on that variable, the mean, and -1SD. This allows you to look at the spread of the lines and see how an interaction effect amplifies or attenuates a main effect in the context of another variable. \n",
    "\n",
    "You can also make this plot to include the data points:"
   ]
  },
  {
   "cell_type": "code",
   "execution_count": null,
   "id": "970c343c",
   "metadata": {},
   "outputs": [],
   "source": [
    "#plotting interaction with datapoints \n",
    "interact_plot(cholesterol_model, pred = dose, modx = age, plot.points = TRUE)"
   ]
  },
  {
   "cell_type": "markdown",
   "id": "2083177a",
   "metadata": {},
   "source": [
    "But this sometimes makes the graph more confusing to understand, than easier. Remember that a purpose of a graphical plot is to clearly communicate a conclusion you want the viewer to have. With simple models, adding the data points helps with that. But with complex models like interactions, it can be counterproductive. Always consider how well your message is coming across when you make visualization choices.\n",
    "\n",
    "```interact_plot()``` has a lot more features to help you control how it looks. To see more of those, visit [this page](https://cran.r-project.org/web/packages/interactions/vignettes/interactions.html). "
   ]
  },
  {
   "cell_type": "markdown",
   "id": "2ae35a4b",
   "metadata": {},
   "source": [
    "## 14.7 Choosing the best model\n",
    "\n",
    "In just a few chapters, we've learned about so many model forms - simple group model, simple regression, multivariable models, nonlinear transformations, nonparametric, and now interaction models. It may start to feel overwhelming to know what model structure you should choose for any particular research question. \n",
    "\n",
    "Indeed, it is not an easy task. We are trying to understand the data generation process as best we can, in terms of what explanatory variables are included and how they relate to an outcome, but human psychology is very complex and we're almost never sure about what the best model truly is. Researchers argue over these details every day. It's important that you understand the breadth of available models, and some are more obviously wrong than others, but choosing the absolute best one is a difficult feat. \n",
    "\n",
    "It is important to get comfortable with not always being right, and with having opinions that are different than other people. To pick a model structure to work with, start with what you think makes the most sense given what you already know about the topic you are trying to study. Then collect some data, evaluate how right or wrong you are, and update your theories accordingly. This is how science advances.\n",
    "\n",
    "It is important that you stake an opinion on the likely best model for each research question, or perhaps a couple candidates that you want to directly compare. What you should *not* do is test out every possible model you can think of to see which is the best. As we will talk about more in later chapters, practices like testing many models with the same data and picking the best one based on what *that sample of data* tells you is a form of overfitting, and leads to conclusions that don't replicate in other data samples. This practice is part of what lead to the [Replication Crisis](https://en.wikipedia.org/wiki/Replication_crisis) in psychology. \n",
    "\n",
    "To help keep you honest and avoid the inclination to seek out the best model for one dataset, there are some techniques you can practice. If you have an idea about what the likely best model is, you can **pre-register** that idea. A preregistration is when you write down, ideally somewhere public like the repository of the [Open Science Framework](https://osf.io/), what you plan to do in your research and what model specification you are going to test. That way, you can't hide from when your model is maybe not as good as you were hoping. You have to face whether or not this performance refutes your hypotheses, rather than making up a new hypothesis in light of the data and claiming you were right all along (this is a bad practice called HARKing - Hypothesizing After Results are Known). \n",
    "\n",
    "If you don't have a strong hypothesis yet and you're not ready to pre-register, you can do what's called **exploratory analysis**. This is when you do test out many models to see which has the best fit. But, you can't stop there. At this point, you wouldn't know if your best model is a good reflection of the data generation process, or just overfit for this dataset in particular. Then next step is to them do **confirmatory analysis** with a new, fresh set of data. That way, you can investigate if your model is robust and still has good performance no matter the data. \n",
    "\n",
    "If your dataset is large enough, you can do both exploratory and confirmatory analysis without running a whole new study. You can split your data in half, find the best fitting model in one half, then **replicate** that model in the other half. If your replication is pretty similar to the original performance in the first half, you've successfully avoided overfitting. \n",
    "\n",
    "What makes a dataset big enough to run an internal replication, rather than needing to collect a whole new dataset? We'll talk more about that in chapter 18. "
   ]
  },
  {
   "cell_type": "markdown",
   "id": "6e887c6f",
   "metadata": {},
   "source": [
    "## Chapter summary\n",
    "\n",
    "After reading this chapter, you should be able to: \n",
    "- Understand the difference between a linear and nonlinear model\n",
    "- Fit a nonlinear model with transformed variables\n",
    "- Interpret coefficients in a nonlinear model\n",
    "- Identify when a nonlinear model might be better, based on a predictor-by-residual plot\n",
    "- Explain a non-parametric model\n",
    "- Transform variables into their ranks\n",
    "- Explain an interaction model\n",
    "- Fit an interaction model\n",
    "- Interpret the coefficients in an interaction model\n",
    "- Plot an interaction model\n",
    "- Decide how you will pick a particular model structure for your research question"
   ]
  },
  {
   "cell_type": "markdown",
   "id": "3e5e6f68",
   "metadata": {},
   "source": [
    "[Next: Chapter 15 - Models with Categorical Outcomes](https://colab.research.google.com/github/smburns47/Psyc158/blob/main/chapter-15.ipynb)"
   ]
  }
 ],
 "metadata": {
  "kernelspec": {
   "display_name": "R",
   "language": "R",
   "name": "ir"
  },
  "language_info": {
   "codemirror_mode": "r",
   "file_extension": ".r",
   "mimetype": "text/x-r-source",
   "name": "R",
   "pygments_lexer": "r",
   "version": "4.2.3"
  }
 },
 "nbformat": 4,
 "nbformat_minor": 5
}
