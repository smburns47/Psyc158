{
 "cells": [
  {
   "cell_type": "markdown",
   "id": "390fef42",
   "metadata": {},
   "source": [
    "also permuting prediction variables like squaring - basically changing the predictions to be nonlinear\n",
    "\n",
    "how to go from a theory to a research question \n",
    "designing studies vs. open datasets for testing theories\n",
    "\n",
    "# Chapter 14 - Predictor Interactions"
   ]
  }
 ],
 "metadata": {
  "kernelspec": {
   "display_name": "R",
   "language": "R",
   "name": "ir"
  },
  "language_info": {
   "codemirror_mode": "r",
   "file_extension": ".r",
   "mimetype": "text/x-r-source",
   "name": "R",
   "pygments_lexer": "r",
   "version": "4.1.2"
  }
 },
 "nbformat": 4,
 "nbformat_minor": 5
}
