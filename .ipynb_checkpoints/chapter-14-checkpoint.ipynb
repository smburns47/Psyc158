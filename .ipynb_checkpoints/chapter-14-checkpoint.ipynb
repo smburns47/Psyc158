{
 "cells": [
  {
   "cell_type": "markdown",
   "id": "390fef42",
   "metadata": {},
   "source": [
    "also permuting prediction variables like squaring - basically changing the predictions to be nonlinear\n",
    "\n",
    "Also how to choose the structure of the model (which variables go where, their relationships)\n",
    "Things to consider with confounding: https://journals.sagepub.com/doi/full/10.1177/25152459221095823; https://ftp.cs.ucla.edu/pub/stat_ser/r493.pdf\n",
    "\n",
    "importance of preregistration since there are so many model options and you might not know the best one\n",
    "\n",
    "\n",
    "# Chapter 14 - Predictor Interactions"
   ]
  }
 ],
 "metadata": {
  "kernelspec": {
   "display_name": "R",
   "language": "R",
   "name": "ir"
  },
  "language_info": {
   "codemirror_mode": "r",
   "file_extension": ".r",
   "mimetype": "text/x-r-source",
   "name": "R",
   "pygments_lexer": "r",
   "version": "4.1.2"
  }
 },
 "nbformat": 4,
 "nbformat_minor": 5
}
