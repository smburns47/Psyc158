{
 "cells": [
  {
   "cell_type": "markdown",
   "id": "b779d5bb",
   "metadata": {},
   "source": [
    "coursekata chapter 7.10, 7.11\n",
    "\n",
    "also permuting variables like squaring"
   ]
  }
 ],
 "metadata": {
  "kernelspec": {
   "display_name": "R",
   "language": "R",
   "name": "ir"
  },
  "language_info": {
   "codemirror_mode": "r",
   "file_extension": ".r",
   "mimetype": "text/x-r-source",
   "name": "R",
   "pygments_lexer": "r",
   "version": "4.1.2"
  }
 },
 "nbformat": 4,
 "nbformat_minor": 5
}
