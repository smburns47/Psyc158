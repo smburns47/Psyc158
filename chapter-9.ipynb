{
 "cells": [
  {
   "cell_type": "markdown",
   "id": "55c9a857",
   "metadata": {},
   "source": [
    "- sapling vs. populations\n",
    "- equation representation of a model (4.6)\n",
    "- coursekata ch 5\n",
    "- statistics vs. parameters"
   ]
  },
  {
   "cell_type": "markdown",
   "id": "32548a0e",
   "metadata": {},
   "source": [
    "# Chapter 9 - Building Statistical Models\n",
    "\n",
    "In the prior chapter we learned about deterministic models, where we know how variables are related, and we learned about probability models, where we know the full population of data that we can do probability calculations on. \n",
    "\n",
    "Next is statistical models, where we don't have either. We have *some* data, and maybe we have *some* idea about what variables are important, so we try to build a simplified model based on this limited viewpoint we have.  \n",
    "\n",
    "<img src=\"images/ch9-probvsstats.png\" width=\"700\">\n",
    "\n",
    "*[Image source](https://towardsdatascience.com/probability-vs-statistics-for-data-science-and-machine-learning-84f00bf67ce1#:~:text=Probability%20and%20Statistics,-Probability%20is%20the&text=One%20typically%20learn%20probability%20before,enhance%20one's%20appreciation%20of%20probability.)*"
   ]
  }
 ],
 "metadata": {
  "kernelspec": {
   "display_name": "R",
   "language": "R",
   "name": "ir"
  },
  "language_info": {
   "codemirror_mode": "r",
   "file_extension": ".r",
   "mimetype": "text/x-r-source",
   "name": "R",
   "pygments_lexer": "r",
   "version": "4.1.2"
  }
 },
 "nbformat": 4,
 "nbformat_minor": 5
}
