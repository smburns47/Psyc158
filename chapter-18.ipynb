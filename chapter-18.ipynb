{
 "cells": [
  {
   "cell_type": "code",
   "execution_count": 1,
   "id": "e5cba728",
   "metadata": {},
   "outputs": [
    {
     "name": "stdout",
     "output_type": "stream",
     "text": [
      "\n",
      "The downloaded binary packages are in\n",
      "\t/var/folders/mg/1wy1xcls587_h0tqnj42l5740000gn/T//RtmpBhZztb/downloaded_packages\n",
      "\n",
      "The downloaded binary packages are in\n",
      "\t/var/folders/mg/1wy1xcls587_h0tqnj42l5740000gn/T//RtmpBhZztb/downloaded_packages\n",
      "\n",
      "The downloaded binary packages are in\n",
      "\t/var/folders/mg/1wy1xcls587_h0tqnj42l5740000gn/T//RtmpBhZztb/downloaded_packages\n",
      "\n",
      "The downloaded binary packages are in\n",
      "\t/var/folders/mg/1wy1xcls587_h0tqnj42l5740000gn/T//RtmpBhZztb/downloaded_packages\n"
     ]
    },
    {
     "name": "stderr",
     "output_type": "stream",
     "text": [
      "\n",
      "Attaching package: ‘dplyr’\n",
      "\n",
      "\n",
      "The following objects are masked from ‘package:stats’:\n",
      "\n",
      "    filter, lag\n",
      "\n",
      "\n",
      "The following objects are masked from ‘package:base’:\n",
      "\n",
      "    intersect, setdiff, setequal, union\n",
      "\n",
      "\n",
      "Loading required package: ggplot2\n",
      "\n",
      "Loading required package: ggstance\n",
      "\n",
      "\n",
      "Attaching package: ‘ggstance’\n",
      "\n",
      "\n",
      "The following objects are masked from ‘package:ggplot2’:\n",
      "\n",
      "    geom_errorbarh, GeomErrorbarh\n",
      "\n",
      "\n",
      "Loading required package: scales\n",
      "\n",
      "\n",
      "Attaching package: ‘scales’\n",
      "\n",
      "\n",
      "The following object is masked from ‘package:supernova’:\n",
      "\n",
      "    number\n",
      "\n",
      "\n",
      "The following object is masked from ‘package:readr’:\n",
      "\n",
      "    col_factor\n",
      "\n",
      "\n",
      "Loading required package: ggridges\n",
      "\n",
      "\n",
      "New to ggformula?  Try the tutorials: \n",
      "\tlearnr::run_tutorial(\"introduction\", package = \"ggformula\")\n",
      "\tlearnr::run_tutorial(\"refining\", package = \"ggformula\")\n",
      "\n",
      "\u001b[1mRows: \u001b[22m\u001b[34m2348\u001b[39m \u001b[1mColumns: \u001b[22m\u001b[34m45\u001b[39m\n",
      "\u001b[36m──\u001b[39m \u001b[1mColumn specification\u001b[22m \u001b[36m────────────────────────────────────────────────────────\u001b[39m\n",
      "\u001b[1mDelimiter:\u001b[22m \",\"\n",
      "\u001b[31mchr\u001b[39m (34): number_of_children, age_of_respondent, college_major_1, college_ma...\n",
      "\u001b[32mdbl\u001b[39m (11): respondent_id_number, highest_year_of_school_completed, highest_ye...\n",
      "\n",
      "\u001b[36mℹ\u001b[39m Use `spec()` to retrieve the full column specification for this data.\n",
      "\u001b[36mℹ\u001b[39m Specify the column types or set `show_col_types = FALSE` to quiet this message.\n"
     ]
    }
   ],
   "source": [
    "# Run this first so it's ready by the time you need it\n",
    "install.packages(\"readr\")\n",
    "install.packages(\"dplyr\")\n",
    "install.packages(\"supernova\")\n",
    "install.packages(\"ggformula\")\n",
    "library(readr)\n",
    "library(dplyr)\n",
    "library(supernova)\n",
    "library(ggformula)\n",
    "GSS <- read_csv(\"https://raw.githubusercontent.com/smburns47/Psyc158/main/GSS.csv\")\n",
    "\n",
    "#smaller dataset, more similar in size to most psychology studies\n",
    "set.seed(10)\n",
    "GSS_subset <- GSS_subset <- sample_n(GSS, 100)"
   ]
  },
  {
   "cell_type": "markdown",
   "id": "24e72768",
   "metadata": {},
   "source": [
    "# Chapter 18 - Model Testing & Comparison\n",
    "\n",
    "## 18.1 Significant effects\n",
    "\n",
    "Last chapter we introduced the idea of significance testing\n",
    "\n",
    "Goal of evaluating whether a certain predictor's effect is significantly different from 0 - whether it is unlikely to not add predictive value \n",
    "\n",
    "- using p-values to evaluate specific effects in each type of model\n",
    "- simple models, multivariable models (controlling), interaction models\n",
    "- pairwise comparisons for group models (Coursekata 10.8) \n",
    "\n",
    "In the previous chapter we learned how to use the sampling distribution of &beta; to test the null hypothesis. Using permutation testing, we generated a sampling distribution for a world in which &beta; = 0 is true in the data generation process. We used the sampling distribution to calculate the p-value, the probability that the sample b, or a b more extreme than the sample, would have occurred just by chance if the null hypothesis were true. Based on the p-value, and the decision criterion we had set (i.e., &alpha; of .05), we decided whether to reject the null hypothesis or not.\n",
    "\n",
    "Decisions of statistical significance are made about one statistical estimate at a time. Thus, it is a common tool for psychologists who are interested in questions such as \"is *this* effect a real part of the data generation process?\" Let's explore in more concrete detail how to use them to answer psychological research questions. \n",
    "\n",
    "### Effects in the simple model\n",
    "Returning back to the General Social Survey dataset we encountered earlier, one hypothesis we had was whether parents' education level explains some of the variation in a person's own education level. A research question like this implies that we are interested in the predictor \"parents' education\" specifically, and its unique contribution to predictions about own education. We recognize that there are likely many factors that lead to how much schooling someone goes through, and we may even know some more of them and be able to model them as well. But our interests focus on how important parents' education level is specifically in the data generation process. Is it a meaningful contributor to explaining variation in own education? Or is there not really an effect? \n",
    "\n",
    "Using the framework of Null Hypothesis Statistical Testing, we can answer this sort of question. We just have to put the question into terms that make sense in the NHST. \n",
    "\n",
    "First, we need to pick the variables we're using to test this question. We'll use the outcome variable ```highest_year_of_school_completed``` from the GSS, and we'll use specifically the mother's education level to predict it - ```highest_year_school_completed_mother```. \n",
    "\n",
    "Second, we need to formulate the null hypothesis. We think that mother's education is interesting if it predicts some variation in a participant's education - that there is a relationship between the two. That implies that there would be a non-zero coefficient for mother's education in a linear model. It would *not* be an interesting variable if there was no change in predicted participant education when mother's education varied - i.e., if the coefficient were 0. Thus, we define the null hypothesis to be: \n",
    "\n",
    "$$H_0: b_1 = 0$$\n",
    "\n",
    "Where b<sub>1</sub> is the coefficient for mother's education in the linear model. In a world where the true population parameter &beta;<sub>1</sub> is 0, where there is no real effect of mother's education, we wouldn't be so interested in it as a predictor. So we want to test how likely it is that b<sub>1</sub> in our sample came from a world where &beta;<sub>1</sub> is 0, or if we want to reject that explanation. \n",
    "\n",
    "In step 3, we now need to fit a model in it. We need to specify the equation of that model so we know what we're testing: \n",
    "\n",
    "$$\\hat{Y} = b_0 + b_1X_i$$\n",
    "\n",
    "And then we will fit that equation with ```lm()``` as we have done many times before:"
   ]
  },
  {
   "cell_type": "code",
   "execution_count": 2,
   "id": "32b7d9db",
   "metadata": {},
   "outputs": [],
   "source": [
    "model_obj <- lm(highest_year_of_school_completed ~ highest_year_school_completed_mother , data = GSS_subset)"
   ]
  },
  {
   "cell_type": "markdown",
   "id": "de6e20cc",
   "metadata": {},
   "source": [
    "From this model, we can extract our estimate of b<sub>1</sub>:"
   ]
  },
  {
   "cell_type": "code",
   "execution_count": 3,
   "id": "313f7820",
   "metadata": {},
   "outputs": [
    {
     "data": {
      "text/html": [
       "0.315490687064796"
      ],
      "text/latex": [
       "0.315490687064796"
      ],
      "text/markdown": [
       "0.315490687064796"
      ],
      "text/plain": [
       "[1] 0.3154907"
      ]
     },
     "metadata": {},
     "output_type": "display_data"
    }
   ],
   "source": [
    "model_obj$coefficients[[2]]"
   ]
  },
  {
   "cell_type": "code",
   "execution_count": null,
   "id": "600e3cd2",
   "metadata": {},
   "outputs": [],
   "source": [
    "set.seed(10)\n",
    "GSS_subset <- sample_n(GSS, 100) #args are dataframe to sample from, and number of observations to sample"
   ]
  },
  {
   "cell_type": "markdown",
   "id": "b9ef3374",
   "metadata": {},
   "source": [
    "Fourthly, we determine the probability of getting a b<sub>1</sub> like this, were the null hypothesis true - if &beta;<sub>1</sub> truly equals 0. Use ```summary()``` to find this p-value for the b<sub>1</sub> coefficient: "
   ]
  },
  {
   "cell_type": "code",
   "execution_count": 4,
   "id": "4d55f1c9",
   "metadata": {
    "scrolled": true
   },
   "outputs": [
    {
     "data": {
      "text/plain": [
       "\n",
       "Call:\n",
       "lm(formula = highest_year_of_school_completed ~ highest_year_school_completed_mother, \n",
       "    data = GSS_subset)\n",
       "\n",
       "Residuals:\n",
       "    Min      1Q  Median      3Q     Max \n",
       "-8.3114 -2.0973 -0.0438  1.9027  5.6886 \n",
       "\n",
       "Coefficients:\n",
       "                                     Estimate Std. Error t value Pr(>|t|)    \n",
       "(Intercept)                          10.31143    0.81259  12.690  < 2e-16 ***\n",
       "highest_year_school_completed_mother  0.31549    0.06418   4.916 4.32e-06 ***\n",
       "---\n",
       "Signif. codes:  0 ‘***’ 0.001 ‘**’ 0.01 ‘*’ 0.05 ‘.’ 0.1 ‘ ’ 1\n",
       "\n",
       "Residual standard error: 2.363 on 84 degrees of freedom\n",
       "  (14 observations deleted due to missingness)\n",
       "Multiple R-squared:  0.2234,\tAdjusted R-squared:  0.2142 \n",
       "F-statistic: 24.17 on 1 and 84 DF,  p-value: 4.32e-06\n"
      ]
     },
     "metadata": {},
     "output_type": "display_data"
    }
   ],
   "source": [
    "#Use summary() to see the p-value of the effect of mother's education\n"
   ]
  },
  {
   "cell_type": "markdown",
   "id": "d859285f",
   "metadata": {},
   "source": [
    "And as our final step, we look at that p-value and decide whether or not it is significant - whether or not we should reject the hypothetical world of &beta;<sub>1</sub> = 0. As psychologists we are likely using an &alpha; criterion of 0.05, so we will check if the p-value for b<sub>1</sub> is < 0.05.\n",
    "\n",
    "We can look in the output of ```summary()```, or we can directly output it with the ```$``` operator:"
   ]
  },
  {
   "cell_type": "code",
   "execution_count": 8,
   "id": "295e175a",
   "metadata": {
    "scrolled": true
   },
   "outputs": [
    {
     "data": {
      "text/html": [
       "4.3198100899247e-06"
      ],
      "text/latex": [
       "4.3198100899247e-06"
      ],
      "text/markdown": [
       "4.3198100899247e-06"
      ],
      "text/plain": [
       "[1] 4.31981e-06"
      ]
     },
     "metadata": {},
     "output_type": "display_data"
    }
   ],
   "source": [
    "summary(model_obj)$coefficients[2,4]"
   ]
  },
  {
   "cell_type": "markdown",
   "id": "5a16dea4",
   "metadata": {},
   "source": [
    "The code above uses the ```summary()``` output as an object itself, digs into the Coefficients table, and ouputs the number on the second row, fourth column. As we saw in the ```summary()``` output, that would be the number for ```Pr(>|t|)``` on the row for ```highest_year_school_completed_mother```. \n",
    "\n",
    "Is this value < 0.05?"
   ]
  },
  {
   "cell_type": "code",
   "execution_count": 9,
   "id": "177ecb0c",
   "metadata": {
    "scrolled": true
   },
   "outputs": [
    {
     "data": {
      "text/html": [
       "TRUE"
      ],
      "text/latex": [
       "TRUE"
      ],
      "text/markdown": [
       "TRUE"
      ],
      "text/plain": [
       "[1] TRUE"
      ]
     },
     "metadata": {},
     "output_type": "display_data"
    }
   ],
   "source": [
    "summary(model_obj)$coefficients[2,4] < 0.05"
   ]
  },
  {
   "cell_type": "markdown",
   "id": "92839205",
   "metadata": {},
   "source": [
    "It is. Thus, we reject the null hypothesis that there is no effect of mother's education. \n",
    "\n",
    "Further, if we find the 95% confidence interval for b<sub>1</sub>:"
   ]
  },
  {
   "cell_type": "code",
   "execution_count": 10,
   "id": "4eb83c5e",
   "metadata": {
    "scrolled": true
   },
   "outputs": [
    {
     "data": {
      "text/html": [
       "<table class=\"dataframe\">\n",
       "<caption>A matrix: 1 × 2 of type dbl</caption>\n",
       "<thead>\n",
       "\t<tr><th></th><th scope=col>2.5 %</th><th scope=col>97.5 %</th></tr>\n",
       "</thead>\n",
       "<tbody>\n",
       "\t<tr><th scope=row>highest_year_school_completed_mother</th><td>0.187871</td><td>0.4431103</td></tr>\n",
       "</tbody>\n",
       "</table>\n"
      ],
      "text/latex": [
       "A matrix: 1 × 2 of type dbl\n",
       "\\begin{tabular}{r|ll}\n",
       "  & 2.5 \\% & 97.5 \\%\\\\\n",
       "\\hline\n",
       "\thighest\\_year\\_school\\_completed\\_mother & 0.187871 & 0.4431103\\\\\n",
       "\\end{tabular}\n"
      ],
      "text/markdown": [
       "\n",
       "A matrix: 1 × 2 of type dbl\n",
       "\n",
       "| <!--/--> | 2.5 % | 97.5 % |\n",
       "|---|---|---|\n",
       "| highest_year_school_completed_mother | 0.187871 | 0.4431103 |\n",
       "\n"
      ],
      "text/plain": [
       "                                     2.5 %    97.5 %   \n",
       "highest_year_school_completed_mother 0.187871 0.4431103"
      ]
     },
     "metadata": {},
     "output_type": "display_data"
    }
   ],
   "source": [
    "#Use confint() to find 95% CI of highest_year_school_completed_mother estimate\n"
   ]
  },
  {
   "cell_type": "markdown",
   "id": "05cd81ef",
   "metadata": {},
   "source": [
    "We see that the interval includes only positive values. Thus we reject the null hypothesis that there is no effect of mother's education, AND we say the likely range of true &beta;<sub>1</sub>s is a positive number. As mother's education increases, the change in participant's education is likely to increase as well. \n",
    "\n",
    "Congrats, you have tested a hypothesis and come up with a conclusion! You can now write up your study and send it for peer review! In APA style, we would write this result as:\n",
    "\n",
    "\"There is a significant effect of mother's education (*b* = 0.315, *p* <0.001, 95% CI [0.188, 0.443]).\"\n",
    "\n",
    "Just remember that the conclusions we can make about this research question are limited, when we use null hypothesis testing. From last chapter, the limits of p-values are:\n",
    "\n",
    "- 1) The risk of Type I and Type II error is everpresent\n",
    "- 2) You can only reject the null hypothesis, or fail to reject the null hypothesis (not confirm the null hypothesis)\n",
    "- 3) You can only decide if a sample estimate is significantly different from 0 or not; there are no levels of significance\n",
    "- 4) A p-value is the probability of these data given the null hypothesis, NOT the probability of the null hypothesis given these data. \n",
    "- 5) P-values are tied to sample sizes, so it is possible to get a significant p-value with an impractically-tiny effect. \n",
    "\n",
    "In the context of this analysis, that means: \n",
    "\n",
    "- 1) We can't be *sure* that &beta;<sub>1</sub> doesn't equal 0 - we're only very confident.\n",
    "- 2) If our p-value had been > 0.05, we couldn't say that we're sure &beta;<sub>1</sub> equals 0, because we can't confirm the null hypothesis - only reject it or fail to reject it. \n",
    "- 3) If our p-value had been 0.06, that would still be an insignificant effect. We set our &alpha; decision criterion to be 0.05, and we need to stick to that. \n",
    "- 4) Our p-value is the probability that we would get this b<sub>1</sub> estimate if &beta;<sub>1</sub> = 0; it is NOT the probability that &beta;<sub>1</sub> = 0 if we get this b<sub>1</sub> estimate. Those statements are different conditional probabilities and thus different numbers (and a Frequentist would say you can't get a probability of &beta;<sub>1</sub> anyways). \n",
    "- 5) Our p-value is tied to our sample size N=100. If we had more or less data, we might have made a different decision. "
   ]
  },
  {
   "cell_type": "markdown",
   "id": "98cee27b",
   "metadata": {},
   "source": [
    "### Effects in the multivariable model\n",
    "As we saw in chapter 13, mother's and father's education levels are correlated. Thus if we're interested specifically in the effect of mother's education, we may want to *control for* father's education, to be sure that mother's education is a significant, unique effect in its own right or if it's only related to participant's education by virtue of being related to father's education. \n",
    "\n",
    "To do this, first we pick our variables. We'll use ```highest_year_of_school_completed``` and ```highest_year_school_completed_mother``` as before, as well as ```highest_year_school_completed_father``` as another predictor. \n",
    "\n",
    "Second, specify the null hypothesis. Here we're still interested in the effect of mother's education in particular. We're just using father's education as a control. So the null hypothesis is still: \n",
    "\n",
    "$$H_0: b_1 = 0$$\n",
    "\n",
    "Third, specify and fit the model:\n",
    "\n",
    "$$\\hat{Y} = b_0 + b_1X_{1i} + b_2X_{2i}$$\n"
   ]
  },
  {
   "cell_type": "code",
   "execution_count": 11,
   "id": "1956f26d",
   "metadata": {},
   "outputs": [],
   "source": [
    "model_obj <- lm(highest_year_of_school_completed ~ \n",
    "                highest_year_school_completed_mother + \n",
    "                highest_year_school_completed_father, data = GSS_subset)"
   ]
  },
  {
   "cell_type": "markdown",
   "id": "1133849e",
   "metadata": {},
   "source": [
    "Fourth, find the p-value of b<sub>1</sub>:"
   ]
  },
  {
   "cell_type": "code",
   "execution_count": 12,
   "id": "45ab469c",
   "metadata": {
    "scrolled": true
   },
   "outputs": [
    {
     "data": {
      "text/plain": [
       "\n",
       "Call:\n",
       "lm(formula = highest_year_of_school_completed ~ highest_year_school_completed_mother + \n",
       "    highest_year_school_completed_father, data = GSS_subset)\n",
       "\n",
       "Residuals:\n",
       "    Min      1Q  Median      3Q     Max \n",
       "-7.6085 -1.5057 -0.3986  1.6772  5.1415 \n",
       "\n",
       "Coefficients:\n",
       "                                     Estimate Std. Error t value Pr(>|t|)    \n",
       "(Intercept)                           9.60849    0.99629   9.644 5.05e-14 ***\n",
       "highest_year_school_completed_mother  0.08480    0.10156   0.835  0.40693    \n",
       "highest_year_school_completed_father  0.29020    0.09913   2.928  0.00475 ** \n",
       "---\n",
       "Signif. codes:  0 ‘***’ 0.001 ‘**’ 0.01 ‘*’ 0.05 ‘.’ 0.1 ‘ ’ 1\n",
       "\n",
       "Residual standard error: 2.249 on 63 degrees of freedom\n",
       "  (34 observations deleted due to missingness)\n",
       "Multiple R-squared:  0.2857,\tAdjusted R-squared:  0.263 \n",
       "F-statistic:  12.6 on 2 and 63 DF,  p-value: 2.494e-05\n"
      ]
     },
     "metadata": {},
     "output_type": "display_data"
    }
   ],
   "source": [
    "summary(model_obj)"
   ]
  },
  {
   "cell_type": "markdown",
   "id": "1229b9fa",
   "metadata": {},
   "source": [
    "And finally, make a decision about whether or not mother's education is significant. \n",
    "\n",
    "Because mother's and father's education are related, there is shared variation between them - both of them explain some of the same variation in participant's education. We need to put them both in a model together in order to disentangle what amount of *unique* variation they each explain. By doing this, we see that the effect of mother's education got much smaller, after taking father's education into account - the coefficient fell from 0.315 to 0.08. This effect is so small, that it is no longer significant - the p-value is 0.407, which is above our &alpha; cutoff of 0.05. We'd interpret this to mean that a world where there is *no* unique effect of mother's education (&beta;<sub>1</sub> = 0), and b<sub>1</sub> estimate of 0.08 would be a likely outcome. We can further see this by checking the 95% confidence interval:"
   ]
  },
  {
   "cell_type": "code",
   "execution_count": 13,
   "id": "b1db71eb",
   "metadata": {
    "scrolled": true
   },
   "outputs": [
    {
     "data": {
      "text/html": [
       "<table class=\"dataframe\">\n",
       "<caption>A matrix: 1 × 2 of type dbl</caption>\n",
       "<thead>\n",
       "\t<tr><th></th><th scope=col>2.5 %</th><th scope=col>97.5 %</th></tr>\n",
       "</thead>\n",
       "<tbody>\n",
       "\t<tr><th scope=row>highest_year_school_completed_mother</th><td>-0.1181635</td><td>0.2877553</td></tr>\n",
       "</tbody>\n",
       "</table>\n"
      ],
      "text/latex": [
       "A matrix: 1 × 2 of type dbl\n",
       "\\begin{tabular}{r|ll}\n",
       "  & 2.5 \\% & 97.5 \\%\\\\\n",
       "\\hline\n",
       "\thighest\\_year\\_school\\_completed\\_mother & -0.1181635 & 0.2877553\\\\\n",
       "\\end{tabular}\n"
      ],
      "text/markdown": [
       "\n",
       "A matrix: 1 × 2 of type dbl\n",
       "\n",
       "| <!--/--> | 2.5 % | 97.5 % |\n",
       "|---|---|---|\n",
       "| highest_year_school_completed_mother | -0.1181635 | 0.2877553 |\n",
       "\n"
      ],
      "text/plain": [
       "                                     2.5 %      97.5 %   \n",
       "highest_year_school_completed_mother -0.1181635 0.2877553"
      ]
     },
     "metadata": {},
     "output_type": "display_data"
    }
   ],
   "source": [
    "confint(model_obj, \"highest_year_school_completed_mother\", level=0.95)"
   ]
  },
  {
   "cell_type": "markdown",
   "id": "4053c645",
   "metadata": {},
   "source": [
    "This range includes 0 as one of the &beta;<sub>1</sub>s that are likely to produce b<sub>1</sub> = 0.08. Thus, with the data we have, we fail to reject the null hypothesis that there is no effect of mother's education. We'd report this result as: \n",
    "\n",
    "\"The effect of mother's education was insignificant when controlling for father's education (*b* = 0.085, *p* = 0.407, 95% CI [-0.118, 0.288]).\"\n",
    "\n",
    "Note again that this does not mean &beta;<sub>1</sub> is definitely 0. There are still many non-zero values in the confidence interval that could be the truth. It could be that we only failed to find a significant effect because ```GSS_subset``` only had a sample size of N=100. If we ran this model in the full GSS data instead: "
   ]
  },
  {
   "cell_type": "code",
   "execution_count": 14,
   "id": "4696b0ef",
   "metadata": {
    "scrolled": true
   },
   "outputs": [
    {
     "data": {
      "text/plain": [
       "\n",
       "Call:\n",
       "lm(formula = highest_year_of_school_completed ~ highest_year_school_completed_mother + \n",
       "    highest_year_school_completed_father, data = GSS)\n",
       "\n",
       "Residuals:\n",
       "     Min       1Q   Median       3Q      Max \n",
       "-14.2505  -2.0154  -0.1461   1.7495   8.6329 \n",
       "\n",
       "Coefficients:\n",
       "                                     Estimate Std. Error t value Pr(>|t|)    \n",
       "(Intercept)                          10.04168    0.22797  44.049  < 2e-16 ***\n",
       "highest_year_school_completed_mother  0.15598    0.02412   6.466 1.34e-10 ***\n",
       "highest_year_school_completed_father  0.19475    0.02202   8.845  < 2e-16 ***\n",
       "---\n",
       "Signif. codes:  0 ‘***’ 0.001 ‘**’ 0.01 ‘*’ 0.05 ‘.’ 0.1 ‘ ’ 1\n",
       "\n",
       "Residual standard error: 2.632 on 1558 degrees of freedom\n",
       "  (787 observations deleted due to missingness)\n",
       "Multiple R-squared:  0.1953,\tAdjusted R-squared:  0.1943 \n",
       "F-statistic: 189.1 on 2 and 1558 DF,  p-value: < 2.2e-16\n"
      ]
     },
     "metadata": {},
     "output_type": "display_data"
    }
   ],
   "source": [
    "large_model_obj <- lm(highest_year_of_school_completed ~ \n",
    "                highest_year_school_completed_mother + \n",
    "                highest_year_school_completed_father, data = GSS)\n",
    "summary(large_model_obj)"
   ]
  },
  {
   "cell_type": "markdown",
   "id": "01e32deb",
   "metadata": {},
   "source": [
    "We *would* find a significant effect of mother's education. It's easier to distinguish small effects from &beta;<sub>1</sub> = 0 with more data. But in that case, it's always worthwhile to ask yourself if an effect that is significant, but with a very small coefficient, is worth anything to you in practical terms. Statistically significant doesn't mean *important*, only unlikely to be 0. "
   ]
  },
  {
   "cell_type": "markdown",
   "id": "39d23630",
   "metadata": {},
   "source": [
    "### Effects in interaction models\n",
    "\n",
    "When we test for interaction effects, we are often most interested in the interaction term. We want to know if the effect of one variable depends on values of the other (a non-zero interaction coefficient), or if the effects of each variable operate on the outcome variable independent of each other (a zero interaction coefficient). Thus, when we have hypotheses about interactions, we usually assess the significance of the interaction term. \n",
    "\n",
    "Let's test the hypothesis that there is an interaction between mother's and father's education on participant's education level. Our variables will be the same as in the multivariable case, ```highest_year_of_school_completed```, ```highest_year_school_completed_mother```, and ```highest_year_school_completed_father```. Since we already know the effect of mother's education is likely small, we'll run this analysis in the full set of GSS data.\n",
    "\n",
    "Our null hypothesis is now for the interaction effect, and not the main effect of mother's education:\n",
    "\n",
    "$$H_0: b_3 = 0$$\n",
    "\n",
    "Specifying and fitting our model, we get: \n",
    "\n",
    "$$\\hat{Y} = b_0 + b_1X_{1i} + b_2X_{2i} + b_3X_{1i}*X_{2i}$$\n"
   ]
  },
  {
   "cell_type": "code",
   "execution_count": 17,
   "id": "9de7b55c",
   "metadata": {
    "scrolled": true
   },
   "outputs": [
    {
     "data": {
      "text/plain": [
       "\n",
       "Call:\n",
       "lm(formula = highest_year_of_school_completed ~ highest_year_school_completed_mother + \n",
       "    highest_year_school_completed_father + highest_year_school_completed_mother * \n",
       "    highest_year_school_completed_father, data = GSS)\n",
       "\n",
       "Residuals:\n",
       "     Min       1Q   Median       3Q      Max \n",
       "-14.2623  -1.9741  -0.1414   1.7377   8.6588 \n",
       "\n",
       "Coefficients:\n",
       "                                                                           Estimate\n",
       "(Intercept)                                                                9.940341\n",
       "highest_year_school_completed_mother                                       0.166788\n",
       "highest_year_school_completed_father                                       0.206748\n",
       "highest_year_school_completed_mother:highest_year_school_completed_father -0.001114\n",
       "                                                                          Std. Error\n",
       "(Intercept)                                                                 0.363843\n",
       "highest_year_school_completed_mother                                        0.038677\n",
       "highest_year_school_completed_father                                        0.040152\n",
       "highest_year_school_completed_mother:highest_year_school_completed_father   0.003117\n",
       "                                                                          t value\n",
       "(Intercept)                                                                27.320\n",
       "highest_year_school_completed_mother                                        4.312\n",
       "highest_year_school_completed_father                                        5.149\n",
       "highest_year_school_completed_mother:highest_year_school_completed_father  -0.357\n",
       "                                                                          Pr(>|t|)\n",
       "(Intercept)                                                                < 2e-16\n",
       "highest_year_school_completed_mother                                      1.72e-05\n",
       "highest_year_school_completed_father                                      2.95e-07\n",
       "highest_year_school_completed_mother:highest_year_school_completed_father    0.721\n",
       "                                                                             \n",
       "(Intercept)                                                               ***\n",
       "highest_year_school_completed_mother                                      ***\n",
       "highest_year_school_completed_father                                      ***\n",
       "highest_year_school_completed_mother:highest_year_school_completed_father    \n",
       "---\n",
       "Signif. codes:  0 ‘***’ 0.001 ‘**’ 0.01 ‘*’ 0.05 ‘.’ 0.1 ‘ ’ 1\n",
       "\n",
       "Residual standard error: 2.633 on 1557 degrees of freedom\n",
       "  (787 observations deleted due to missingness)\n",
       "Multiple R-squared:  0.1954,\tAdjusted R-squared:  0.1938 \n",
       "F-statistic:   126 on 3 and 1557 DF,  p-value: < 2.2e-16\n"
      ]
     },
     "metadata": {},
     "output_type": "display_data"
    }
   ],
   "source": [
    "model_obj <- lm(highest_year_of_school_completed ~ \n",
    "                highest_year_school_completed_mother + \n",
    "                highest_year_school_completed_father +\n",
    "                highest_year_school_completed_mother*highest_year_school_completed_father, \n",
    "                data = GSS)\n",
    "\n",
    "summary(model_obj)"
   ]
  },
  {
   "cell_type": "markdown",
   "id": "8eb8f143",
   "metadata": {},
   "source": [
    "This output is kind of hard to read because of the long variable names, so let's just focus on the Coefficients table:"
   ]
  },
  {
   "cell_type": "code",
   "execution_count": 18,
   "id": "cc090044",
   "metadata": {
    "scrolled": true
   },
   "outputs": [
    {
     "data": {
      "text/html": [
       "<table class=\"dataframe\">\n",
       "<caption>A matrix: 4 × 4 of type dbl</caption>\n",
       "<thead>\n",
       "\t<tr><th></th><th scope=col>Estimate</th><th scope=col>Std. Error</th><th scope=col>t value</th><th scope=col>Pr(&gt;|t|)</th></tr>\n",
       "</thead>\n",
       "<tbody>\n",
       "\t<tr><th scope=row>(Intercept)</th><td> 9.940341148</td><td>0.363843376</td><td>27.3203851</td><td>1.385083e-134</td></tr>\n",
       "\t<tr><th scope=row>highest_year_school_completed_mother</th><td> 0.166788026</td><td>0.038676579</td><td> 4.3123780</td><td> 1.716522e-05</td></tr>\n",
       "\t<tr><th scope=row>highest_year_school_completed_father</th><td> 0.206747882</td><td>0.040152309</td><td> 5.1490907</td><td> 2.951022e-07</td></tr>\n",
       "\t<tr><th scope=row>highest_year_school_completed_mother:highest_year_school_completed_father</th><td>-0.001114319</td><td>0.003117477</td><td>-0.3574427</td><td> 7.208089e-01</td></tr>\n",
       "</tbody>\n",
       "</table>\n"
      ],
      "text/latex": [
       "A matrix: 4 × 4 of type dbl\n",
       "\\begin{tabular}{r|llll}\n",
       "  & Estimate & Std. Error & t value & Pr(>\\textbar{}t\\textbar{})\\\\\n",
       "\\hline\n",
       "\t(Intercept) &  9.940341148 & 0.363843376 & 27.3203851 & 1.385083e-134\\\\\n",
       "\thighest\\_year\\_school\\_completed\\_mother &  0.166788026 & 0.038676579 &  4.3123780 &  1.716522e-05\\\\\n",
       "\thighest\\_year\\_school\\_completed\\_father &  0.206747882 & 0.040152309 &  5.1490907 &  2.951022e-07\\\\\n",
       "\thighest\\_year\\_school\\_completed\\_mother:highest\\_year\\_school\\_completed\\_father & -0.001114319 & 0.003117477 & -0.3574427 &  7.208089e-01\\\\\n",
       "\\end{tabular}\n"
      ],
      "text/markdown": [
       "\n",
       "A matrix: 4 × 4 of type dbl\n",
       "\n",
       "| <!--/--> | Estimate | Std. Error | t value | Pr(&gt;|t|) |\n",
       "|---|---|---|---|---|\n",
       "| (Intercept) |  9.940341148 | 0.363843376 | 27.3203851 | 1.385083e-134 |\n",
       "| highest_year_school_completed_mother |  0.166788026 | 0.038676579 |  4.3123780 |  1.716522e-05 |\n",
       "| highest_year_school_completed_father |  0.206747882 | 0.040152309 |  5.1490907 |  2.951022e-07 |\n",
       "| highest_year_school_completed_mother:highest_year_school_completed_father | -0.001114319 | 0.003117477 | -0.3574427 |  7.208089e-01 |\n",
       "\n"
      ],
      "text/plain": [
       "                                                                          Estimate    \n",
       "(Intercept)                                                                9.940341148\n",
       "highest_year_school_completed_mother                                       0.166788026\n",
       "highest_year_school_completed_father                                       0.206747882\n",
       "highest_year_school_completed_mother:highest_year_school_completed_father -0.001114319\n",
       "                                                                          Std. Error \n",
       "(Intercept)                                                               0.363843376\n",
       "highest_year_school_completed_mother                                      0.038676579\n",
       "highest_year_school_completed_father                                      0.040152309\n",
       "highest_year_school_completed_mother:highest_year_school_completed_father 0.003117477\n",
       "                                                                          t value   \n",
       "(Intercept)                                                               27.3203851\n",
       "highest_year_school_completed_mother                                       4.3123780\n",
       "highest_year_school_completed_father                                       5.1490907\n",
       "highest_year_school_completed_mother:highest_year_school_completed_father -0.3574427\n",
       "                                                                          Pr(>|t|)     \n",
       "(Intercept)                                                               1.385083e-134\n",
       "highest_year_school_completed_mother                                       1.716522e-05\n",
       "highest_year_school_completed_father                                       2.951022e-07\n",
       "highest_year_school_completed_mother:highest_year_school_completed_father  7.208089e-01"
      ]
     },
     "metadata": {},
     "output_type": "display_data"
    }
   ],
   "source": [
    "summary(model_obj)$coefficients"
   ]
  },
  {
   "cell_type": "markdown",
   "id": "0b32c866",
   "metadata": {},
   "source": [
    "Our hypothesis is about the interaction effect b<sub>3</sub>, so investigate the estimate and p-value on that line. We see that the p-value of the interaction is p = 0.721, which is not below the &alphal criterion of 0.05. Thus we fail to reject the null hypothesis that there is no interaction. We can't be *sure* that there is no interaction truly in the population, but we are pretty confident that the true interaction effect is something quite close to zero:"
   ]
  },
  {
   "cell_type": "code",
   "execution_count": 19,
   "id": "cc01be5c",
   "metadata": {
    "scrolled": true
   },
   "outputs": [
    {
     "data": {
      "text/html": [
       "<table class=\"dataframe\">\n",
       "<caption>A matrix: 1 × 2 of type dbl</caption>\n",
       "<thead>\n",
       "\t<tr><th></th><th scope=col>2.5 %</th><th scope=col>97.5 %</th></tr>\n",
       "</thead>\n",
       "<tbody>\n",
       "\t<tr><th scope=row>highest_year_school_completed_mother:highest_year_school_completed_father</th><td>-0.007229214</td><td>0.005000576</td></tr>\n",
       "</tbody>\n",
       "</table>\n"
      ],
      "text/latex": [
       "A matrix: 1 × 2 of type dbl\n",
       "\\begin{tabular}{r|ll}\n",
       "  & 2.5 \\% & 97.5 \\%\\\\\n",
       "\\hline\n",
       "\thighest\\_year\\_school\\_completed\\_mother:highest\\_year\\_school\\_completed\\_father & -0.007229214 & 0.005000576\\\\\n",
       "\\end{tabular}\n"
      ],
      "text/markdown": [
       "\n",
       "A matrix: 1 × 2 of type dbl\n",
       "\n",
       "| <!--/--> | 2.5 % | 97.5 % |\n",
       "|---|---|---|\n",
       "| highest_year_school_completed_mother:highest_year_school_completed_father | -0.007229214 | 0.005000576 |\n",
       "\n"
      ],
      "text/plain": [
       "                                                                          2.5 %       \n",
       "highest_year_school_completed_mother:highest_year_school_completed_father -0.007229214\n",
       "                                                                          97.5 %     \n",
       "highest_year_school_completed_mother:highest_year_school_completed_father 0.005000576"
      ]
     },
     "metadata": {},
     "output_type": "display_data"
    }
   ],
   "source": [
    "confint(model_obj, \"highest_year_school_completed_mother:highest_year_school_completed_father\",\n",
    "       level = 0.95)"
   ]
  },
  {
   "cell_type": "markdown",
   "id": "daca3321",
   "metadata": {},
   "source": [
    "Without a significant interaction, we would interpret the relationship between parents' education and participant education just as main effects. We'd report this as:\n",
    "\n",
    "\"There was no significant interaction between the effects of mother's and father's education on participant's education (*b* = -0.001, *p* = 0.721, 95% CI [-0.007, 0.005]). Instead there was a significant main effect of mother's education (*b* = 0.167, *p* < 0.001, 95% CI [0.091, 0.243]) and a significant main effect of father's education (*b* = 0.207, *p* < 0.001, 95% CI [0.128, 0.286]).\""
   ]
  },
  {
   "cell_type": "markdown",
   "id": "39fe4f64",
   "metadata": {},
   "source": [
    "## 18.2 Significant models\n",
    "\n",
    "The examples above illustrate how to use null hypothesis testing when you have research questions about particular predictors in a model. But that's not the only type of research question you might have. Perhaps instead of one particular variable, you're interested in whether a set of multiple variables together are helpful for making predictions about an outcome. In other words, you want to know if your entire *model* is significant, not just any one predictor. \n",
    "\n",
    "As it turns out, the sampling distribution of &beta; is just one of many sampling distributions we could construct. Using the same approach we developed for one model coefficient, we could make a sampling distribution of any statistic that we can calculate. That includes estimates of whole model error such as PRE.\n",
    "\n",
    "At this point, we're going to switch over to using a different name for PRE that is used more commonly - R<sup>2</sup>. \"PRE\" is the name used in the ```supernova()``` package we relied on for learning about error in models, but the concept of what proportion of error a model explains is more commonly discussed and written about as R<sup>2</sup>.\n",
    "\n",
    "Using ```summary()``` on a model object, we can skip the ANOVA table entirely and find this value:"
   ]
  },
  {
   "cell_type": "code",
   "execution_count": 22,
   "id": "a0db528f",
   "metadata": {
    "scrolled": true
   },
   "outputs": [
    {
     "data": {
      "text/plain": [
       "\n",
       "Call:\n",
       "lm(formula = highest_year_of_school_completed ~ highest_year_school_completed_mother + \n",
       "    highest_year_school_completed_father, data = GSS_subset)\n",
       "\n",
       "Residuals:\n",
       "    Min      1Q  Median      3Q     Max \n",
       "-7.6085 -1.5057 -0.3986  1.6772  5.1415 \n",
       "\n",
       "Coefficients:\n",
       "                                     Estimate Std. Error t value Pr(>|t|)    \n",
       "(Intercept)                           9.60849    0.99629   9.644 5.05e-14 ***\n",
       "highest_year_school_completed_mother  0.08480    0.10156   0.835  0.40693    \n",
       "highest_year_school_completed_father  0.29020    0.09913   2.928  0.00475 ** \n",
       "---\n",
       "Signif. codes:  0 ‘***’ 0.001 ‘**’ 0.01 ‘*’ 0.05 ‘.’ 0.1 ‘ ’ 1\n",
       "\n",
       "Residual standard error: 2.249 on 63 degrees of freedom\n",
       "  (34 observations deleted due to missingness)\n",
       "Multiple R-squared:  0.2857,\tAdjusted R-squared:  0.263 \n",
       "F-statistic:  12.6 on 2 and 63 DF,  p-value: 2.494e-05\n"
      ]
     },
     "metadata": {},
     "output_type": "display_data"
    }
   ],
   "source": [
    "model_obj <- lm(highest_year_of_school_completed ~ highest_year_school_completed_mother +\n",
    "                highest_year_school_completed_father, data = GSS_subset)\n",
    "summary(model_obj)"
   ]
  },
  {
   "cell_type": "markdown",
   "id": "d00890c2",
   "metadata": {},
   "source": [
    "On the second to the last line of this output is an entry called \"Multiple R-squared: 0.2857\". This stands for the R<sup>2</sup> value in a regression model. We can easily verify that this is the same value as PRE is in the ANOVA table for the full model:"
   ]
  },
  {
   "cell_type": "code",
   "execution_count": 23,
   "id": "9d9a5f58",
   "metadata": {
    "scrolled": true
   },
   "outputs": [
    {
     "name": "stderr",
     "output_type": "stream",
     "text": [
      "Refitting to remove 34 cases with missing value(s)\n",
      "\u001b[34mℹ\u001b[39m lm(formula = highest_year_of_school_completed ~ highest_year_school_completed_mother + highest_year_school_completed_father, data = listwise_delete(GSS_subset, c(\"highest_year_of_school_completed\", \"highest_year_school_completed_mother\", \"highest_year_school_completed_father\")))\n",
      "\n"
     ]
    },
    {
     "data": {
      "text/plain": [
       " Analysis of Variance Table (Type III SS)\n",
       " Model: highest_year_of_school_completed ~ highest_year_school_completed_mother + highest_year_school_completed_father\n",
       "\n",
       "                                                             SS df     MS\n",
       " ------------------------------------ --------------- | ------- -- ------\n",
       "                                Model (error reduced) | 127.463  2 63.732\n",
       " highest_year_school_completed_mother                 |   3.526  1  3.526\n",
       " highest_year_school_completed_father                 |  43.351  1 43.351\n",
       "                                Error (from model)    | 318.658 63  5.058\n",
       " ------------------------------------ --------------- | ------- -- ------\n",
       "                                Total (empty model)   | 446.121 65  6.863\n",
       "      F    PRE     p\n",
       " ------ ------ -----\n",
       " 12.600 0.2857 .0000\n",
       "  0.697 0.0109 .4069\n",
       "  8.571 0.1198 .0047\n",
       "                    \n",
       " ------ ------ -----\n",
       "                    "
      ]
     },
     "metadata": {},
     "output_type": "display_data"
    }
   ],
   "source": [
    "supernova(model_obj)"
   ]
  },
  {
   "cell_type": "markdown",
   "id": "7e1c4d9a",
   "metadata": {},
   "source": [
    "When assessing statistical models as a whole, rather than individual predictors, the statistic we care about is PRE/R<sup>2</sup>. We don't care so much how strong any one effect is, but together we want a model that explains at least some proportion of the variation in an outcome variable. In a world where this model is not helpful, it wouldn't explain any variance - the population R<sup>2</sup> value would be 0. Thus, for significance testing entire models, we need to examine the null sampling distribution of R<sup>2</sup> = 0. "
   ]
  },
  {
   "cell_type": "markdown",
   "id": "e45ce125",
   "metadata": {},
   "source": [
    "## 18.3 Null sampling distribution of R<sup>2</sup>\n",
    "\n",
    "In order to construct a null sampling distribution of R<sup>2</sup>, we first need to understand what would cause a model to have R<sup>2</sup> = 0. The R<sup>2</sup> model reflects the proportion of variation in an outcome variable that a full model explains, relative to the empty model. This score can range from 0 to 1. With R<sup>2</sup> = 1, there would be no error left in a model; the set of explanatory variables the model uses results in perfect predictions about the outcome values.\n",
    "\n",
    "The opposite, then, is when R<sup>2</sup> = 0. This would mean the full model explains no additional variation relative to the empty model. It performs exactly how the empty model would for making predictions. What would turn a full model into an empty model?\n",
    "\n",
    "Recall the equation for the empty model: \n",
    "\n",
    "$$ \\hat{Y}_i = b_0 $$\n",
    "\n",
    "The only parameter in the model is b<sub>0</sub>. For a full multivariable model with two predictors, the equation would look like so: \n",
    "\n",
    "$$ \\hat{Y}_i = b_0 + b_1X_{1i} + b_2X_{2i} $$\n",
    "\n",
    "In order to make this match the equation of the empty model, we need to cancel out the extra terms. The situation that would create this is if both b<sub>1</sub> and b<sub>2</sub> were 0. \n",
    "\n",
    "$$ \\hat{Y}_i = b_0 + (0)X_{1i} + (0)X_{2i} =$$\n",
    "\n",
    "$$ \\hat{Y}_i = b_0 $$\n",
    "\n",
    "The null hypothesis for a full model is thus larger than any one parameter. It is the hypothesis that *all* predictor coefficients are equal to 0: \n",
    "\n",
    "$$H_0: \\beta_1 = \\beta_2 = 0 $$\n",
    "\n",
    "For creating the null sampling distribution of one coefficient, last chapter we used permutation testing to shuffle the order of one variable"
   ]
  },
  {
   "cell_type": "markdown",
   "id": "a823e6dd",
   "metadata": {},
   "source": [
    "## 18.4 Sampling distributions of PRE\n",
    "\n",
    "Coursekata 10.2 \n",
    "\n",
    "\n",
    "## 18.5 The F-distribution \n",
    "\n",
    "Coursekata 10.3, 10.4\n",
    "\n",
    "## 18.6 Significance testing a general linear model\n",
    "\n",
    "Coursekata 10.5\n",
    "\n",
    "## 18.7 Comparing different full models\n",
    "\n",
    "Coursekata 10.7\n",
    "\n",
    "## 18.8 Multiple comparisons problem\n",
    "\n",
    "Coursekata 10.8\n",
    "\n"
   ]
  }
 ],
 "metadata": {
  "kernelspec": {
   "display_name": "R",
   "language": "R",
   "name": "ir"
  },
  "language_info": {
   "codemirror_mode": "r",
   "file_extension": ".r",
   "mimetype": "text/x-r-source",
   "name": "R",
   "pygments_lexer": "r",
   "version": "4.1.2"
  }
 },
 "nbformat": 4,
 "nbformat_minor": 5
}
