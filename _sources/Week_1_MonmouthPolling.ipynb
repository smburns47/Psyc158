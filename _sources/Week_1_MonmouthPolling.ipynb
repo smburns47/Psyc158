{
 "cells": [
  {
   "cell_type": "markdown",
   "metadata": {
    "nbsimplegrader": {
     "config_key": "markdown.response",
     "editable": true,
     "label": "Response: Markdown",
     "respondable": true,
     "response": null,
     "runnable": true,
     "type": "markdown"
    }
   },
   "source": [
    "## Group Number\n",
    "\n",
    "Name:\n",
    "\n",
    "Name:\n",
    "\n",
    "Name:\n",
    "\n",
    "Name:\n",
    "\n",
    "Name:\n",
    "\n",
    "Name:"
   ]
  },
  {
   "cell_type": "markdown",
   "metadata": {
    "nbsimplegrader": {
     "config_key": "markdown.edit-and-run",
     "editable": true,
     "label": "Markdown: Edit-and-Run",
     "respondable": false,
     "response": null,
     "runnable": true,
     "type": "markdown"
    }
   },
   "source": [
    "### Roles:\n",
    "**Scribe:** 4\n",
    "**Facilitator:** 6\n",
    "**Manager:** 2\n",
    "**Reporter:** 1\n",
    "**Contributor**: 3\n",
    "**Contributor**: 5"
   ]
  },
  {
   "cell_type": "code",
   "execution_count": 2,
   "metadata": {
    "nbsimplegrader": {
     "config_key": "code.run-only",
     "editable": false,
     "label": "Code: Run-Only",
     "respondable": false,
     "response": null,
     "runnable": true,
     "type": "code"
    }
   },
   "outputs": [],
   "source": [
    "# This code will load the R packages we will use\n",
    "\n",
    "suppressPackageStartupMessages({\n",
    "    library(dplyr)\n",
    "    library(ggformula)\n",
    "    library(mosaic)})\n",
    "\n",
    "font_size = function (size) {\n",
    "    theme(text = element_text(size = size))}"
   ]
  },
  {
   "cell_type": "markdown",
   "metadata": {
    "nbsimplegrader": {
     "config_key": "markdown.edit-and-run",
     "editable": true,
     "label": "Markdown: Edit-and-Run",
     "respondable": false,
     "response": null,
     "runnable": true,
     "type": "markdown"
    }
   },
   "source": [
    "# Week 2, Discussion (Monmouth Polling)\n",
    "\n",
    "**Provide responses in all cells that are marked in pink**\n",
    "\n",
    "In August of 2019, the democratic primaries were the top of the headlines most days. There were many different candidates including Bernie Sanders, Elizabeth Warren, now President Joe Biden, now Vice President Kamala Harris, and many more! And no one felt confident they knew who was going to be the Democratic representative. \n",
    "\n",
    "<img src=https://i.imgur.com/FwOxJwQ.jpg width=\"500\">\n",
    "\n",
    "To try to get a better sense of how American democrats felt, there were constant polls. The article from CNN on the Monmouth University poll lists a variety of democratic candidates and what proportion of people in the **sample** supported those individuals for the democratic nomination.\n",
    "\n",
    "Polling data, is a very common type of data, where individuals indicate among a list of options which they prefer. In this case, participants were asked about Democratic candidates. \n",
    "\n",
    "<img src=https://i.imgur.com/ASNrNXg.jpg width = \"400\">"
   ]
  },
  {
   "cell_type": "markdown",
   "metadata": {
    "nbsimplegrader": {
     "config_key": "markdown.edit-and-run",
     "editable": true,
     "label": "Markdown: Edit-and-Run",
     "respondable": false,
     "response": null,
     "runnable": true,
     "type": "markdown"
    }
   },
   "source": [
    "## Section 1: Reviewing Polling Results\n",
    "\n",
    "Take a look at the polling article with your group and answer the following questions based on the Monmouth polling article. "
   ]
  },
  {
   "cell_type": "markdown",
   "metadata": {
    "nbsimplegrader": {
     "config_key": "markdown.response",
     "editable": true,
     "label": "Response: Markdown",
     "respondable": true,
     "response": null,
     "runnable": true,
     "type": "markdown"
    }
   },
   "source": [
    "1.1 According to the article, who was in the lead for the democratic candidate position? \n",
    "\n",
    "[Answer Here]"
   ]
  },
  {
   "cell_type": "markdown",
   "metadata": {
    "nbsimplegrader": {
     "config_key": "markdown.response",
     "editable": true,
     "label": "Response: Markdown",
     "respondable": true,
     "response": null,
     "runnable": true,
     "type": "markdown"
    }
   },
   "source": [
    "1.2 What numeric information did you rely on to help you answer 1.1? \n",
    "\n",
    "[Answer Here]"
   ]
  },
  {
   "cell_type": "markdown",
   "metadata": {
    "nbsimplegrader": {
     "config_key": "markdown.multiple-choice",
     "editable": false,
     "label": "Response: Multiple-Choice",
     "respondable": true,
     "response": null,
     "runnable": false,
     "type": "multiple-choice"
    }
   },
   "source": [
    "1.3 Think about a dataframe in `R` with the polling information. What would the cases in the dataframe be?\n",
    "\n",
    "- Candidates\n",
    "- States\n",
    "- Individual Voters\n",
    "- Number of voters"
   ]
  },
  {
   "cell_type": "markdown",
   "metadata": {
    "nbsimplegrader": {
     "config_key": "markdown.multiple-choice",
     "editable": false,
     "label": "Response: Multiple-Choice",
     "respondable": true,
     "response": null,
     "runnable": false,
     "type": "multiple-choice"
    }
   },
   "source": [
    "1.4 Imagine there is a dataset called `Monmouth` with a variable called `Support` that indicates which candidate the person prefers most. What type of variable do you think this would be?\n",
    "\n",
    "- Quantitative\n",
    "- Qualitative"
   ]
  },
  {
   "cell_type": "markdown",
   "metadata": {
    "nbsimplegrader": {
     "config_key": "markdown.edit-and-run",
     "editable": true,
     "label": "Markdown: Edit-and-Run",
     "respondable": false,
     "response": null,
     "runnable": true,
     "type": "markdown"
    }
   },
   "source": [
    "We've been learning about the *data generating process* (the process that causes variation). \n",
    "\n",
    "There is variability in the candidates that the voters supports (i.e., not everyone supports the same person). \n",
    "\n",
    "Some of this varibility could be **explained** and some could be **unexplained**. \n",
    "\n",
    "<img src=https://i.imgur.com/oBIyiTA.png width = \"400\">\n",
    "\n",
    "Let's think about explained variability. "
   ]
  },
  {
   "cell_type": "markdown",
   "metadata": {
    "nbsimplegrader": {
     "config_key": "markdown.response",
     "editable": true,
     "label": "Response: Markdown",
     "respondable": true,
     "response": null,
     "runnable": true,
     "type": "markdown"
    }
   },
   "source": [
    "1.5 Imagine you are trying to predict which democratic candidate someone supports, what information (or explanatory variables) might you want to know about the person in order to help predict their response? (Brainstorm at least 3 things with your group)\n",
    "\n",
    "[Answer Here]"
   ]
  },
  {
   "cell_type": "markdown",
   "metadata": {
    "nbsimplegrader": {
     "config_key": "markdown.edit-and-run",
     "editable": true,
     "label": "Markdown: Edit-and-Run",
     "respondable": false,
     "response": null,
     "runnable": true,
     "type": "markdown"
    }
   },
   "source": [
    "**You're done with this section. You can head back to the main room!**"
   ]
  },
  {
   "cell_type": "markdown",
   "metadata": {
    "nbsimplegrader": {
     "config_key": "markdown.edit-and-run",
     "editable": true,
     "label": "Markdown: Edit-and-Run",
     "respondable": false,
     "response": null,
     "runnable": true,
     "type": "markdown"
    }
   },
   "source": [
    "## Section 2: Flipping Coins\n",
    "\n",
    "Flipping coins is a lot like polling. The outcome is qualitative, and we can think about the proportions of the outcomes as being informative. An \"unfair\" coin, would be one that results in a higher proportion for heads or tails (it's not even). If someone is \"leading\" in the polls, the proportion of respondents for that person is higher than the others (it's not even). \n",
    "\n",
    "Coin flips, just like polls have unexplained variability. Most coins are fair (i.e., 50/50 heads/tails) so we know that about 50% of the time the coin will come up heads, and 50% of the time the coin will come up tails. \n",
    "\n",
    "But if we flip a coin a few times, it's not always the case that 50% of the flips come up heads, right?"
   ]
  },
  {
   "cell_type": "markdown",
   "metadata": {
    "nbsimplegrader": {
     "config_key": "markdown.response",
     "editable": true,
     "label": "Response: Markdown",
     "respondable": true,
     "response": null,
     "runnable": true,
     "type": "markdown"
    }
   },
   "source": [
    "2.1 We've talked about population variablility and sampling variability. Chapter 4.6 discusses unexplained variability as being either **real variability** (characteristic of a system) or **induced variability** (induced by data collection). Which of these is similar population variability, and which to sampling variability?"
   ]
  },
  {
   "cell_type": "markdown",
   "metadata": {
    "nbsimplegrader": {
     "config_key": "markdown.edit-and-run",
     "editable": true,
     "label": "Markdown: Edit-and-Run",
     "respondable": false,
     "response": null,
     "runnable": true,
     "type": "markdown"
    }
   },
   "source": [
    "The term **population variability** encompasses variability that can be **explained and unexplained** at the population level. Whereas **induced variability** happens in the data collection process. In this class we mostly focus on one source of induced variability: **sampling variability**. But other types of induced variability include **measurement error** and **mistakes**. \n",
    "\n",
    "<img src=https://i.imgur.com/8tDc51Y.png width=\"600\">"
   ]
  },
  {
   "cell_type": "markdown",
   "metadata": {
    "nbsimplegrader": {
     "config_key": "markdown.response",
     "editable": true,
     "label": "Response: Markdown",
     "respondable": true,
     "response": null,
     "runnable": true,
     "type": "markdown"
    }
   },
   "source": [
    "2.2 List all of the possible outcomes of two coin flips (order of the result from each flip matters)\n",
    "\n",
    "- List\n",
    "- your\n",
    "- outcomes\n",
    "- here"
   ]
  },
  {
   "cell_type": "markdown",
   "metadata": {
    "nbsimplegrader": {
     "config_key": "markdown.response",
     "editable": true,
     "label": "Response: Markdown",
     "respondable": true,
     "response": null,
     "runnable": true,
     "type": "markdown"
    }
   },
   "source": [
    "2.3 What's the most likely number of heads that you would get from two coin flips? How do you know?"
   ]
  },
  {
   "cell_type": "markdown",
   "metadata": {
    "nbsimplegrader": {
     "config_key": "markdown.response",
     "editable": true,
     "label": "Response: Markdown",
     "respondable": true,
     "response": null,
     "runnable": true,
     "type": "markdown"
    }
   },
   "source": [
    "2.4 If you flipped a coin 10 times, how many heads do you think you would get? Put another way, what's the **most likely** number of heads with 10 coin flips?"
   ]
  },
  {
   "cell_type": "markdown",
   "metadata": {
    "nbsimplegrader": {
     "config_key": "markdown.edit-and-run",
     "editable": true,
     "label": "Markdown: Edit-and-Run",
     "respondable": false,
     "response": null,
     "runnable": true,
     "type": "markdown"
    }
   },
   "source": [
    "2.5 Imagine 250 people are going to flip a coin 10 times. How many people do you think will get 0 heads, 1 head, 2 heads, etc. Fill in the R code below to match your expectations. Then it will make a histogram of your hypothesis. Make sure your numbers add up to 250. "
   ]
  },
  {
   "cell_type": "code",
   "execution_count": 3,
   "metadata": {
    "nbsimplegrader": {
     "config_key": "code.response",
     "editable": true,
     "label": "Response: Code",
     "respondable": true,
     "response": null,
     "runnable": true,
     "type": "code"
    }
   },
   "outputs": [
    {
     "data": {
      "text/html": [
       "250"
      ],
      "text/latex": [
       "250"
      ],
      "text/markdown": [
       "250"
      ],
      "text/plain": [
       "[1] 250"
      ]
     },
     "metadata": {},
     "output_type": "display_data"
    },
    {
     "data": {
      "image/png": "[encoded data removed]",
      "text/plain": [
       "plot without title"
      ]
     },
     "metadata": {
      "image/png": {
       "height": 500,
       "width": 500
      }
     },
     "output_type": "display_data"
    }
   ],
   "source": [
    "#change the numbers below to correspond to your guesses\n",
    "zeros <- 0\n",
    "ones <- 0\n",
    "twos <- 0\n",
    "threes <- 0\n",
    "fours <- 0\n",
    "fives <- 250\n",
    "sixes <- 0\n",
    "sevens <- 0\n",
    "eights <- 0\n",
    "nines <- 0\n",
    "tens <- 0\n",
    "\n",
    "#you don't need to change anything past here\n",
    "#check the sum is equal to 250\n",
    "sum(zeros, ones, twos, threes, fours, fives, sixes, sevens, eights, nines, tens)\n",
    "\n",
    "#create a histogram of your expectations\n",
    "flipguess <- data.frame(guess = c(rep(0, times = zeros), rep(1, times = ones), \n",
    "                                  rep(2, times = twos), \n",
    "                                  rep(3, times = threes), rep(4, times = fours), \n",
    "                                  rep(5, times = fives), rep(6, times = sixes),\n",
    "                                  rep(7, times = sevens), rep(8, times = eights),\n",
    "                                  rep(9, times = nines), rep(10, times = tens)))\n",
    "gf_histogram(~guess, data = flipguess, binwidth = 1) + scale_x_continuous(breaks = 1:10)"
   ]
  },
  {
   "cell_type": "markdown",
   "metadata": {
    "nbsimplegrader": {
     "config_key": "markdown.response",
     "editable": true,
     "label": "Response: Markdown",
     "respondable": true,
     "response": null,
     "runnable": true,
     "type": "markdown"
    }
   },
   "source": [
    "2.6 Each member of your group should flip their coin ten times. Record the number of heads each person got. "
   ]
  },
  {
   "cell_type": "markdown",
   "metadata": {
    "nbsimplegrader": {
     "config_key": "markdown.edit-and-run",
     "editable": true,
     "label": "Markdown: Edit-and-Run",
     "respondable": false,
     "response": null,
     "runnable": true,
     "type": "markdown"
    }
   },
   "source": [
    "**You're done with this section. You can head back to the main room!**"
   ]
  },
  {
   "cell_type": "markdown",
   "metadata": {
    "nbsimplegrader": {
     "config_key": "markdown.edit-and-run",
     "editable": true,
     "label": "Markdown: Edit-and-Run",
     "respondable": false,
     "response": null,
     "runnable": true,
     "type": "markdown"
    }
   },
   "source": [
    "## Section 3: Comparing Coins and Polls"
   ]
  },
  {
   "cell_type": "markdown",
   "metadata": {
    "nbsimplegrader": {
     "config_key": "markdown.response",
     "editable": true,
     "label": "Response: Markdown",
     "respondable": true,
     "response": null,
     "runnable": true,
     "type": "markdown"
    }
   },
   "source": [
    "3.1 Find a statement comparing two or more candidates from the Monmouth article. There are claims that some candidates are performing similarly, and some are performing differently. Try to find one statement for each:\n",
    "\n",
    "1) Similarly:\n",
    "\n",
    "2) Differently:"
   ]
  },
  {
   "cell_type": "markdown",
   "metadata": {
    "nbsimplegrader": {
     "config_key": "markdown.response",
     "editable": true,
     "label": "Response: Markdown",
     "respondable": true,
     "response": null,
     "runnable": true,
     "type": "markdown"
    }
   },
   "source": [
    "3.2 The article says Sanders (20%) is polling higher than Buttigieg (4%). Do you think we would get the exact same proportions if the poll was done again (say we could hop in a time machine to the same time)? Why or why not?"
   ]
  },
  {
   "cell_type": "markdown",
   "metadata": {
    "nbsimplegrader": {
     "config_key": "markdown.response",
     "editable": true,
     "label": "Response: Markdown",
     "respondable": true,
     "response": null,
     "runnable": true,
     "type": "markdown"
    }
   },
   "source": [
    "3.3 The article says Sanders (20%) is polling higher than Buttigieg (4%). If we did the poll again (say we could hop in a time machine to the same time) do you think we would find that Sanders was polling higher than Buttigeig? Why or why not?"
   ]
  },
  {
   "cell_type": "markdown",
   "metadata": {
    "nbsimplegrader": {
     "config_key": "markdown.edit-and-run",
     "editable": true,
     "label": "Markdown: Edit-and-Run",
     "respondable": false,
     "response": null,
     "runnable": true,
     "type": "markdown"
    }
   },
   "source": [
    "We tend to have a natural intuition for how big of a difference is \"big enough\" for us to expect the same result from sample to sample, or what differences are too small and so we don't expect to find them in every sample. This is an intuition about what is sampling variability, and what is population variability. But statistics can help us in cases that are not quite so obvious. "
   ]
  },
  {
   "cell_type": "markdown",
   "metadata": {
    "nbsimplegrader": {
     "config_key": "markdown.edit-and-run",
     "editable": true,
     "label": "Markdown: Edit-and-Run",
     "respondable": false,
     "response": null,
     "runnable": true,
     "type": "markdown"
    }
   },
   "source": [
    "You're done! Press submit at the top of the notebook, and don't forget to **close and halt**. \n",
    "\n",
    "Come back to the notebook on your own time and work through Section 4. "
   ]
  },
  {
   "cell_type": "markdown",
   "metadata": {
    "nbsimplegrader": {
     "config_key": "markdown.response",
     "editable": true,
     "label": "Response: Markdown",
     "respondable": true,
     "response": null,
     "runnable": true,
     "type": "markdown"
    }
   },
   "source": [
    "## Section 4 Wrapping Up\n",
    "\n",
    "In this section you can take some time to think about the polling activity that we did. One of the major outcome of taking a statistics class is that you improve you're ability to think about data and inference in everyday life. Below is a fun example of someone thinking critically about polling! \n",
    "\n",
    "<img src=https://i.imgur.com/TbXANic.jpg width=\"400\">\n",
    "\n",
    "4.1 Based on what we know about sampling variability and sample size, why might someone be concerned about the size of the sample for a poll?"
   ]
  },
  {
   "cell_type": "markdown",
   "metadata": {
    "nbsimplegrader": {
     "config_key": "markdown.response",
     "editable": true,
     "label": "Response: Markdown",
     "respondable": true,
     "response": null,
     "runnable": true,
     "type": "markdown"
    }
   },
   "source": [
    "4.2 Think about a time in your life when a small difference may have SEEMED important, but perhaps it was actually due to chance? Thinking about this another way, have you ever made a **Type I Error**?"
   ]
  },
  {
   "cell_type": "markdown",
   "metadata": {
    "nbsimplegrader": {
     "config_key": "markdown.response",
     "editable": true,
     "label": "Response: Markdown",
     "respondable": true,
     "response": null,
     "runnable": true,
     "type": "markdown"
    }
   },
   "source": [
    "4.3 In this exercise we saw two examples of what’s called a binomial distribution (flipping coins and polling). A binomial distribution is used when we are collecting counts or proportions of a categorical variable. Can you think of something in Psychology which might have a binomial distribution?"
   ]
  },
  {
   "cell_type": "markdown",
   "metadata": {
    "nbsimplegrader": {
     "config_key": "markdown.edit-and-run",
     "editable": true,
     "label": "Markdown: Edit-and-Run",
     "respondable": false,
     "response": null,
     "runnable": true,
     "type": "markdown"
    }
   },
   "source": [
    "4.4 CNN ran a poll around the same time as the Monmouth Poll. The claim from this article is that between June and August Joe Biden’s polling increased quite a lot (7%) and Kamala Harris dropped quite a lot (12%). The article concludes that the level of support in the population has changed quite a lot over those three months. Use what you’ve learned in this unit to describe an alternative explanation of what could be going on? (Hint: Think about the concept of **induced variability**). \n",
    "\n",
    "<img src=https://i.imgur.com/JEj79S6.png width=\"600\">"
   ]
  }
 ],
 "metadata": {
  "kernelspec": {
   "display_name": "R",
   "language": "R",
   "name": "ir"
  },
  "language_info": {
   "codemirror_mode": "r",
   "file_extension": ".r",
   "mimetype": "text/x-r-source",
   "name": "R",
   "pygments_lexer": "r",
   "version": "4.1.2"
  },
  "nbsimplegrader": {
   "is_published": true,
   "publish_config": {
    "classes": [
     "Psych100AFall21_akmontoya"
    ],
    "options": {
     "include_submit": true,
     "lock_notebook": false
    },
    "tools": []
   }
  }
 },
 "nbformat": 4,
 "nbformat_minor": 4
}
