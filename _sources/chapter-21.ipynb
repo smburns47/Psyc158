{
 "cells": [
  {
   "cell_type": "markdown",
   "id": "c8faa2ef",
   "metadata": {},
   "source": [
    "UNDER DEVELOPMENT!!!\n",
    "\n",
    "# Chapter 21 - Bayesian Statistics"
   ]
  }
 ],
 "metadata": {
  "kernelspec": {
   "display_name": "R",
   "language": "R",
   "name": "ir"
  },
  "language_info": {
   "codemirror_mode": "r",
   "file_extension": ".r",
   "mimetype": "text/x-r-source",
   "name": "R",
   "pygments_lexer": "r",
   "version": "4.1.2"
  }
 },
 "nbformat": 4,
 "nbformat_minor": 5
}
