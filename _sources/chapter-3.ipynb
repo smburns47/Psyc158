{
 "cells": [
  {
   "cell_type": "markdown",
   "id": "60f2c23b",
   "metadata": {},
   "source": [
    "# Chapter 3 - What are Data\n",
    "\n",
    "Although we can apply statistical techniques to any bunch of numbers, and sometimes we do just make up numbers to analyze (more about that later), we generally want to analyze numbers that represent something about the world. These numbers we refer to as **data**.\n",
    "\n",
    "The first important point about data is that data are – meaning that the word “data” is plural. You might also wonder how to pronounce “data” – some people say “DAY-tah”, some say “DAH-tah.” Some people even use both interchangeably, within the same lecture! (Of course not your instructor though... certainly not.) "
   ]
  },
  {
   "cell_type": "markdown",
   "id": "991757f5",
   "metadata": {},
   "source": [
    "## 3.1 Representing data in R\n",
    "\n",
    "We’ve used R objects so far to store a single number or message. But in statistics we are dealing more than one — and sometimes many — numbers. An R object can also store a whole set of numbers. This set together is called a **vector**. You can think of a vector as a list of numbers (or values).\n",
    "\n",
    "The R function ```c()``` can be used to combine a list of individual values into a vector. You could think of the “c” as standing for “combine.” In the following code we have created two vectors (we just named them ```my_vector``` and ```my_vector2```) and put a list of values into each vector."
   ]
  },
  {
   "cell_type": "code",
   "execution_count": null,
   "id": "7182093e",
   "metadata": {},
   "outputs": [],
   "source": [
    "# Here is the code to create two vectors my_vector and my_vector2. We just made up those names.\n",
    "\n",
    "# Run the code and see what happens\n",
    "my_vector <- c(1,2,3,4,5)\n",
    "my_vector2 <- c(10,10,10,10,10)\n",
    "\n",
    "# Now write some code to return these two vectors in the R console. Run the code and see what happens.\n"
   ]
  },
  {
   "cell_type": "markdown",
   "id": "31ca88dd",
   "metadata": {},
   "source": [
    "There may be times when you just want to know one of the values in a vector, not all of the values. We can **index** a position in the vector by using brackets with a number in it like this: ```[1]```. So if we wanted to print out the contents of the first position in ```my_vector```, we could write ```my_vector[1]```."
   ]
  },
  {
   "cell_type": "code",
   "execution_count": null,
   "id": "98f94d6e",
   "metadata": {},
   "outputs": [],
   "source": [
    "# Write code to get the 4th value in my_vector\n"
   ]
  },
  {
   "cell_type": "markdown",
   "id": "46d92c0d",
   "metadata": {},
   "source": [
    "Many functions will take in a vector as the input. For example, try using ```sum()``` to total up the five values saved in ```my_vector```."
   ]
  },
  {
   "cell_type": "code",
   "execution_count": null,
   "id": "300e0d07",
   "metadata": {},
   "outputs": [],
   "source": [
    "my_vector <- c(1,2,3,4,5)\n",
    "\n",
    "# Use sum() to total up the values in my_vector\n"
   ]
  },
  {
   "cell_type": "markdown",
   "id": "77432776",
   "metadata": {},
   "source": [
    "## 3.2 Data types\n",
    "\n",
    "### Qualitative data\n",
    "Data are composed of **variables**. Variables are measurements that, across many values, will vary in some way. For example, human intelligence is a variable because, across many people, we would likely measure different intelligence scores. The values of intelligence would vary person to person. In contrast, human species is *not* a variable, since by definition all humans are *homo sapien.* There's no variation data-point to data-point. \n",
    "\n",
    "There are different types of variables. Some are **qualitative**, meaning that they describe a quality rather than a numeric quantity. For example, say we ran a survey in class that asked “What is your favorite food?” Some of the answers may be: blueberries, chocolate, tamales, pasta, and pizza. Those data are not intrinsically numerical; there's nothing to indicate quantity or numerical relations among them.\n",
    "\n",
    "In R, there are also different types of objects we can rely on to represent different data types. We can represent qualitative data like words or letters with the **character value type**. Remember at the beginning of Chapter 1 when you printed out ```\"hello world!\"```? By putting those words within a set of quotation marks, we created a character-type object. If we forget the quotes, R will think that a word is a name of an object instead of a character value. Note that numbers can also be turned into character values - for example, when 20 is in quotation marks like this – “20” – it will be treated as a character value, even though it includes a number. R doesn’t care whether you use single quotes, ‘like this’, or double quotes, ”like that\". We’ll mostly use double quotes for consistency."
   ]
  },
  {
   "cell_type": "code",
   "execution_count": null,
   "id": "58675279",
   "metadata": {},
   "outputs": [],
   "source": [
    "#example of a character value\n",
    "my_character <- \"I am a character.\"\n",
    "my_character"
   ]
  },
  {
   "cell_type": "markdown",
   "id": "ad52fe04",
   "metadata": {},
   "source": [
    "You can also put character objects into a vector, to represent a set of qualitative data. "
   ]
  },
  {
   "cell_type": "code",
   "execution_count": null,
   "id": "a4d13662",
   "metadata": {},
   "outputs": [],
   "source": [
    "many_hellos <- c(\"hi\", \"hello\", \"hola\", \"bonjour\", \"ni hao\", \"merhaba\")\n",
    "\n",
    "# Write code to print out the 5th way of saying hello in this vector\n"
   ]
  },
  {
   "cell_type": "markdown",
   "id": "d7b76653",
   "metadata": {},
   "source": [
    "### Numeric data\n",
    "More commonly in statistics we will work with **quantitative** data, meaning data that are numerical. It is often easier to work with quantitative over qualitative data - this let's us do more mathematical computations like finding the mean. For example, here Table 2.1 shows the results from the same food survey, but presented in a different way:\n",
    "\n",
    "| Food choice      | Number of students |\n",
    "| :--------------: | :----------------: |\n",
    "| blueberries      | 2                  |\n",
    "| chocolate        | 8                  |\n",
    "| tamales          | 5                  |\n",
    "| pasta            | 6                  |\n",
    "| pizza            | 10                 |\n",
    "\n",
    "The students’ answers were qualitative, but we generated a quantitative summary of them by counting how many students gave each response.\n",
    "\n",
    "In R, when the program sees typed numbers, it will usually assume you're talking about a **numeric value type**. However, don't assume that if *you* see numbers in some data, that the variable is definitely quantitative. A researcher might choose to use numbers as a sort of code or label, in place of the full qualitative description. For example, if they recorded what hand every student in a class used to write with, they could save the variable as:\n",
    "\n",
    "```handedness_word <- c(\"left\",\"right\",\"right\",\"right\",\"right\",\"left\",\"right\",\"right\",\"right\")```\n",
    "\n",
    "That's a lot of typing though. Instead, they could choose to assign \"right\" the value of 1, and \"left\" the value of 2.\n",
    "This would create a vector like:\n",
    "\n",
    "```handedness_label <- c(2,1,1,1,1,2,1,1,1)```\n",
    "\n",
    "Much shorter to write!"
   ]
  },
  {
   "cell_type": "markdown",
   "id": "ebfba859",
   "metadata": {},
   "source": [
    " ### Boolean data\n",
    " Boolean values (also called \"logical values\") are either True or False - they represent the truth of a state of reality, like when we were using if/else last chapter. Maybe we have a statement such as: \"10 is greater than 5\". We can ask R to evaluate this and return the answer ```TRUE``` or ```FALSE```. We can do that by using logical operators like ```>```, ```<```, ```>=```, ```<=```, and ```==```. The double ```==``` sign checks if two values are equal. There is even a logical operator to check whether values are not equal: ```!=```. For example, ```5 != 3``` is a True statement. Essentially, a boolean represents the answer to a true/false statement. Below is a table of the logic operators in R that you can use for making logic statements.\n",
    " \n",
    "| Symbol | Example use          | Meaning                                              | \n",
    "| :----: | :------------------- | :--------------------------------------------------- | \n",
    "| <      | A < B                | A is less than B                                     | \n",
    "| >      | A > B                | A is greater than B                                  |\n",
    "| ==     | A == B               | A is equal to B                                      |\n",
    "| <=     | A <= B               | A is less than or equal to B                         |\n",
    "| >=     | A >= B               | A is greater than or equal to B                      | \n",
    "| !=     | A != B               | A is not equal to B                                  |\n",
    "| %in%   | A %in% c(B1, B2, B3) | A is in the set \\[B1, B2, B3\\]                       |\n",
    "| &      | A == B & C == D      | A equals B AND C equals D (both statements are true) |\n",
    "| \\|     | A == B \\| C == D     | A equals B OR C equals D (either statement is true)  |\n"
   ]
  },
  {
   "cell_type": "code",
   "execution_count": null,
   "id": "1a5b3cea",
   "metadata": {},
   "outputs": [],
   "source": [
    "# Read this code and predict what value will come out of the R console. Then run the code and see if you were right.\n",
    "\n",
    "A <- 1\n",
    "B <- 5\n",
    "\n",
    "comparison <- A > B\n",
    "\n",
    "comparison"
   ]
  },
  {
   "cell_type": "markdown",
   "id": "d019a1c7",
   "metadata": {},
   "source": [
    "Lots of things can be turned into boolean data if you think about it. For example, The researcher above could choose to represent handedness as a boolean, by conceptualizing the variable as \"this person is right-handed.\"\n",
    "\n",
    "```handedness_bool <- c(false, true, true, true, true, false, true, true, true).```\n",
    "\n",
    "In R, we will avoid using the single equal sign, ```=```. If you want to know whether A is equal to B, use the double equal sign, ```==```. The single equal sign is sometimes used instead of the assignment operator, ```<-```, but in more niche cases that you'll learn later. Use the arrow ```<-``` to assign values to an R object, and ```==``` to ask whether two values are equal.\n",
    "\n",
    "Before creating an object, it's good to think about what type the value should be. I.e., think about what operations you plan to do on the object, and thus what type the value needs to be for that operation to make sense. However, sometimes you forget what type an object was that you created a while ago, or you will receive some data from someone else with pre-defined objects. If you ever need to find out the type of an object, you can simply use the command ```str([OBJECT_NAME])```. Str is short for \"structure.\" It will print out the type of the object as well as its value."
   ]
  },
  {
   "cell_type": "code",
   "execution_count": null,
   "id": "91f243a8",
   "metadata": {},
   "outputs": [],
   "source": [
    "#Use str() to print out the type of each object below\n",
    "object1 <- \"What am I?\"\n",
    "object2 <- TRUE\n",
    "object3 <- 30\n",
    "\n",
    "#Write your code below this line\n"
   ]
  },
  {
   "cell_type": "markdown",
   "id": "3680ae5a",
   "metadata": {},
   "source": [
    "<div class=\"alert alert-block alert-info\">\n",
    "<b>Note</b>: There are technically subtypes of values within the umbrella of numeric (double, integer, etc.) that refer to how the number is stored in computer memory. You don't need to know the difference for this course, just remember that when R returns one of these for a value type, it's a sort of number.   \n",
    "</div>"
   ]
  },
  {
   "cell_type": "markdown",
   "id": "0282f0ab",
   "metadata": {},
   "source": [
    "## 3.3 Scales of measurement\n",
    "\n",
    "Among quantitative data, the numbers a variable can take can be related to each other in different ways. What exactly the numbers mean determines what kind, or what **scale** of measurement the variable is in.\n",
    "\n",
    "A **categorical** variable (also called a nominal variable) is one like the example above, when we first assigned numeric labels to each food choice. In a nominal variable, each value of the variable represents something different, but the numbers simply serve as qualitative labels. Their actual values don't mean anything for how you should sort them. As another example, we might ask people for their political party affiliation, and then code those as numbers: 1 = “Republican”, 2 = “Democrat”, 3 = “Libertarian”, and so on. The different numbers do not have any ordered relationship with one another - they're just another way of writing a qualitative label.\n",
    "\n",
    "An **ordinal** variable has values where the magnitude matters for ordering the values. For example, we might ask a person with chronic pain to complete a form assessing how bad their pain is, using a 1-7 numeric scale. Note that while the person is presumably feeling more pain on a day when they report a 6 versus a day when they report a 3, it wouldn’t make sense to say that their pain is twice as bad on the former versus the latter day - there isn't a unit of measurement available, only a sense of one option being stronger than another. The ordering gives us information about relative magnitude, but the differences between values are not necessarily equal in magnitude.\n",
    "\n",
    "An **interval** variable has all of the features of an ordinal scale, but in addition the distance between units on the measurement scale are measurable and consistent. A standard example is physical temperature measured in Celsius or Fahrenheit; the physical difference between 10 and 20 degrees is the same as the physical difference between 90 and 100 degrees."
   ]
  },
  {
   "cell_type": "markdown",
   "id": "d891004d",
   "metadata": {},
   "source": [
    "## 3.4 Converting data\n",
    "\n",
    "Sometimes you will have data in one format that you would prefer to have in another - e.g., you have a variable for someone's zip code, but R is trying to evaluate that data type as quantitative instead of categorical. That doesn't make sense - Pomona's zip code 91711 isn't quantitatively comparable to Harvard's 01434, it's just using numbers to denote a category (Pomona is of course comparable and better than Harvard in other ways!). How though would you convince R to treat these numbers as a categorical variable?\n",
    "\n",
    "Luckily, you don't need to rewrite the whole zipcode data vector with quotations manually. You can use a function to classify the vector of numbers as a categorical variable. The function that converts numerical data to categorical is ```factor()```. Try it out below.\n"
   ]
  },
  {
   "cell_type": "code",
   "execution_count": null,
   "id": "c68e2bec",
   "metadata": {},
   "outputs": [],
   "source": [
    "zipcodes <- c(01267, 01002, 19081, 91711, 02481, 04011, 21402, 91711, 55057, 05753)\n",
    "str(zipcodes)\n",
    "\n",
    "# Use the factor() function on handedness_label, assign it to handedness_factor, and then return the type \n",
    "# of that new object\n",
    "zipcodes_factor <- #replace this comment with your code\n",
    "str(zipcodes_factor)"
   ]
  },
  {
   "cell_type": "markdown",
   "id": "3f719317",
   "metadata": {},
   "source": [
    "We can also turn a factor back into a numeric variable by using the ```as.numeric()``` function. This is useful in the case where a dataset has numbers that accidentally get saved as character types."
   ]
  },
  {
   "cell_type": "code",
   "execution_count": null,
   "id": "118b8103",
   "metadata": {},
   "outputs": [],
   "source": [
    "handedness_numeric <- as.numeric(handedness_factor)\n",
    "str(handedness_numeric)"
   ]
  },
  {
   "cell_type": "markdown",
   "id": "07aad3cd",
   "metadata": {},
   "source": [
    "When we code the values of a variable using numbers, it is always important to keep in mind what the numbers mean. The value 2 has a very different meaning if it represents the handedness of a person (e.g., left) than if it represents their height in inches (very short!). When we use statistical software to analyze data, the software processes the numbers. But the software doesn’t know what the numbers actually mean. Only you know that.\n",
    "\n",
    "We can also convert the actual *values* of data within variables. One might do this if we decided the numbers in the zipcode variable were too ambiguous, and we instead wanted to label the names of their towns. The ```factor()``` function has some additional arguments you can add to relabel the values in a variable that you want to convert to a factor:"
   ]
  },
  {
   "cell_type": "code",
   "execution_count": null,
   "id": "41fc3b21",
   "metadata": {},
   "outputs": [],
   "source": [
    "# 4 places, coded by zipcode\n",
    "places_num <- c(01267, 01002, 19081, 91711)\n",
    "places_factor <- factor(places_num, levels = c(01267, 01002, 19081, 91711), \n",
    "                        labels = c(\"williams\", \"amherst\", \"swarthmore\", \"pomona\")))\n",
    "# if your command is too wide, hit return after a comma to make it wrap around on a new line, indented\n",
    "\n",
    "places_factor"
   ]
  },
  {
   "cell_type": "markdown",
   "id": "84357344",
   "metadata": {},
   "source": [
    "This looks complicated. But you can think of the input to the ```factor()``` function as having three parts: the variable to recode, the existing values (levels), and the new labels. This seems like we have to write out every new label for every data point included in the vector, but this is only because we have all unique values in ```places_num```. If there were any repeated zipcodes, you only have to include it once in the ```levels``` argument, because R ```factor()``` will always assign the matching new label to any data point with that zipcode.\n",
    "\n",
    "You can also change the values of numeric variables. For example, you have water depth data measured in inches, but you'd prefer to see it in feet. In this case, you will need to transform each value in vector holding that data. \n",
    "\n",
    "You don't have to manually retype the vector to do this either. Vectors in R work like vectors in linear algebra. So, if you have a constant value you want to modify a vector by, you can simply use the mathematical operation between that value and the vector object. E.g., in the example above, you could write ```water_depth / 12``` to convert every water depth measurement from inches to feet. When you use an operation between a vector and a single value, R will apply that value to every item in the vector individually. "
   ]
  },
  {
   "cell_type": "code",
   "execution_count": null,
   "id": "c638f089",
   "metadata": {},
   "outputs": [],
   "source": [
    "my_vector <- c(1,2,3,4,5)\n",
    "\n",
    "# write code to multiply each number in my_vector by 100"
   ]
  },
  {
   "cell_type": "markdown",
   "id": "a732d78c",
   "metadata": {},
   "source": [
    "Notice that when you do a calculation with a vector, you’ll get a vector of numbers as the answer, not just a single number.\n",
    "\n",
    "After you multiply ```my_vector``` by 100, what will happen if you return ```my_vector```? Will you get the original vector (1,2,3,4,5), or one that has the hundreds (100,200,300,400,500)? Try running this code to see what happens."
   ]
  },
  {
   "cell_type": "code",
   "execution_count": null,
   "id": "a99a5cf9",
   "metadata": {},
   "outputs": [],
   "source": [
    "# Run the code below to see what happens\n",
    "my_vector <- c(1,2,3,4,5)\n",
    "my_vector * 100\n",
    "\n",
    "# This will return my_vector\n",
    "my_vector\n"
   ]
  },
  {
   "cell_type": "markdown",
   "id": "e1caff27",
   "metadata": {},
   "source": [
    "Remember, R will do the calculations, but if you want something saved, you have to assign it somewhere. Try writing some code to compute ```my_vector * 100``` and then assign the result back into ```my_vector```. If you do this, it will replace the old contents of ```my_vector``` with the new contents (i.e., the product of ```my_vector``` and 100). (Hint: you can use objects in the same command where you redefine their values)."
   ]
  },
  {
   "cell_type": "code",
   "execution_count": null,
   "id": "8c8fb49c",
   "metadata": {},
   "outputs": [],
   "source": [
    "# This creates `my_vector` and stores 1, 2, 3, 4, 5 in it\n",
    "my_vector <- c(1,2,3,4,5)\n",
    "\n",
    "# Now write code to save `my_vector * 100` back into `my_vector`\n",
    "my_vector <- #replace this comment with your code\n"
   ]
  },
  {
   "cell_type": "markdown",
   "id": "0add59fb",
   "metadata": {},
   "source": [
    "Sometimes you will need to do something more complicated. Instead of modifying each value in a vector by the same amount, you want to make a different modification. E.g., say you want to know how much each person improved their SAT scores with practice, but you only have their first and last scores saved as data. Everyone improves as different rates, so you can't add the same score to each person. Instead, you could do ```end_score - beginning_score```. If both ```end_score``` and ```beginning_score``` are vectors of the same length, R will apply the operation to each item *pairwise*: the first item of ```beginning_score``` will be subtracted from the first item of ```end_score```, the second from the second, third from the third, and so on."
   ]
  },
  {
   "cell_type": "code",
   "execution_count": null,
   "id": "7fa7c0d8",
   "metadata": {},
   "outputs": [],
   "source": [
    "end_score <- c(1400, 1450, 1500, 1200, 1150, 1600)\n",
    "beginning_score <- c(1350, 1400, 1400, 1200, 1100, 1400)\n",
    "\n",
    "#write code that will subtract beginning_score from end_score, and return the resulting vector\n",
    "change_score <- #write your code here"
   ]
  },
  {
   "cell_type": "markdown",
   "id": "b1f013d0",
   "metadata": {},
   "source": [
    "Changing numeric data from one unit to another isn't the only way you can convert data. You can even convert to different data types! Returning to the handedness example above, let's say we have data stored as \n",
    "\n",
    "```handedness <- c(2,1,1,1,1,2,1,1,1)```\n",
    "\n",
    "R will see numbers in that vector and by default assume these data are quantitative. However you can use a function to classify the vector of numbers as a categorical label variable instead. The function that converts numerical data to categorical is ```factor()```. Try it out below."
   ]
  },
  {
   "cell_type": "code",
   "execution_count": null,
   "id": "f241a101",
   "metadata": {},
   "outputs": [],
   "source": [
    "handedness <- c(2,1,1,1,1,2,1,1,1)\n",
    "str(handedness)\n",
    "\n",
    "# Use the factor() function on handedness_label, assign it to handedness_factor, and then return the type \n",
    "# of that new object\n",
    "handedness_factor <- #replace this comment with your code"
   ]
  },
  {
   "cell_type": "markdown",
   "id": "def19614",
   "metadata": {},
   "source": [
    "If the 1s and 2s in the handedness variable were numbers, we could add them up using the code ```sum(handedness)```. But if we tell R that handedness is a factor, it will assume the 1s and 2s refer to categories, and so it won’t be willing to add them up.\n",
    "\n",
    "We can also turn a factor back into a numeric variable by using the ```as.numeric()``` function."
   ]
  },
  {
   "cell_type": "code",
   "execution_count": null,
   "id": "a7523465",
   "metadata": {},
   "outputs": [],
   "source": [
    "handedness_numeric <- as.numeric(handedness_factor)\n",
    "str(handedness_numeric)"
   ]
  },
  {
   "cell_type": "markdown",
   "id": "12dfe2e7",
   "metadata": {},
   "source": [
    "We can also create Boolean vectors by subjecting a whole vector to a comparison. Since a comparison is an operation, R will apply it to every item in the handedness vector. "
   ]
  },
  {
   "cell_type": "code",
   "execution_count": null,
   "id": "5774923c",
   "metadata": {},
   "outputs": [],
   "source": [
    "handedness_bool <- handedness == 1\n",
    "\n",
    "# This code returns both vectors\n",
    "handedness_bool\n"
   ]
  },
  {
   "cell_type": "code",
   "execution_count": null,
   "id": "90ffbffa",
   "metadata": {},
   "outputs": [],
   "source": [
    "# What do you expect from this code? Run the code to see what happens. Then, fix the bug and run again.\n",
    "\n",
    "handedness <- c(2,1,1,1,1,2,1,1,1)\n",
    "footedness <- c(2,1,1,1,1,1,1,2,1)\n",
    "\n",
    "#a variable to represent whether someone uses both left or both right hands and feet\n",
    "hand_foot_alignment <- handedness = footedness\n",
    "hand_foot_alignment\n"
   ]
  },
  {
   "cell_type": "markdown",
   "id": "0e771cc6",
   "metadata": {},
   "source": [
    "## 3.5 What makes good data?\n",
    "\n",
    "Data are meant to be a clear, quantitative representation of some quality in the world. However, in many fields such as psychology, the thing that we are measuring is not a physical feature, but instead an unobservable theoretical concept, which we usually refer to as a **construct**. For example, let’s say that we want to test how well you understand the distinction between categorical, ordinal, and interval variables. The professor could give you a pop quiz that would ask you several questions about these concepts and count how many you got right. This would be one way to try and measure the construct that is your knowledge. However, constructs are difficult to measure well. There are several things that can get in the way of good measurement:\n",
    "\n",
    "### Measurement error \n",
    "\n",
    "It is usually impossible to measure a construct without some amount of error. In the example above, you might know the answer, but you might mis-read the question and get it wrong. In other cases, there is error intrinsic to the thing being measured, such as when we measure how long it takes a person to respond on a simple reaction time test, which will vary from trial to trial for many reasons. We generally want our ***measurement error*** to be as low as possible, which we can achieve either by improving the quality of the measurement (for example, using a better timer to measure reaction time), or by averaging over a larger number of indvidiual measurements.\n",
    "\n",
    "\n",
    "### Reliability \n",
    "\n",
    "**Reliability** refers to the consistency of our measurements. One common form of reliability, known as **test-retest reliability**, measures how well the measurements agree if the same measurement is performed twice. For example, someone might give you a questionnaire about your attitude towards statistics today, repeat this same questionnaire tomorrow, and compare your answers on the two days; if the questionnaire is a good measurement of your true attitude, we would hope that they would be very similar to one another, unless something happened in between the two tests that should have changed your view of statistics (like reading this book!).\n",
    "\n",
    "Another way to assess reliability comes in cases where the data include subjective judgments. For example, let’s say that a researcher wants to determine whether a treatment changes how well an autistic child interacts with other children, which is measured by having experts watch the child and rate their interactions with the other children. In this case we would like to make sure that the answers don’t depend on the individual rater — that is, we would like for there to be high **inter-rater reliability**. This can be assessed by having more than one rater perform the rating, and then comparing their ratings to make sure that they agree well with one another.\n",
    "\n",
    "Reliability is important if we want to compare one measurement to another, because the relationship between two different variables can’t be any stronger than the relationship between either of the variables and itself (i.e., its reliability). This means that an unreliable measure can never have a strong statistical relationship with any other measure. For this reason, researchers developing a new measurement (such as a new survey) will often go to great lengths to establish and improve its reliability.\n",
    "\n",
    "### Validity\n",
    "\n",
    "Reliability is important, but on its own it’s not enough: After all, I could create a perfectly reliable measurement on a personality test by re-coding every answer using the same number, regardless of how the person actually answers. We want our measurements to also be **valid** — that is, we want to make sure that we are actually measuring the construct that we think we are measuring. There are many different types of validity that are commonly discussed; we will focus on three of them.\n",
    "\n",
    "**Face validity** - Does the measurement make sense on its face? If I were to tell you that I was going to measure a person’s blood pressure by looking at the color of their tongue, you would probably think that this was not a valid measure on its face. On the other hand, using a blood pressure cuff would have face validity. This is usually a first reality check before we dive into more complicated aspects of validity.\n",
    "\n",
    "**Construct validity** - Is the measurement related to other measurements in an appropriate way? This is often subdivided into two aspects. **Convergent validity** means that the measurement should be closely related to other measures that are thought to reflect the same construct. Let’s say that I am interested in measuring how extroverted a person is using either a questionnaire or an interview. Convergent validity would be demonstrated if both of these different measurements are closely related to one another. On the other hand, measurements thought to reflect different constructs should be unrelated, known as **divergent validity**. If my theory of personality says that extraversion and conscientiousness are two distinct constructs, then I should also see that my measurements of extraversion are unrelated to measurements of conscientiousness.\n",
    "\n",
    "**Predictive validity** - If our measurements are truly valid, then they should also be predictive of other outcomes. For example, let’s say that we think that the psychological trait of sensation seeking (the desire for new experiences) is related to risk taking in the real world. To test for predictive validity of a measurement of sensation seeking, we would test how well scores on the test predict scores on a different survey that measures real-world risk taking.\n",
    "\n",
    "<img src=\"images/ch3-relyvalid.png\" width=\"600\">\n",
    "\n",
    "*Figure 2.1: A figure demonstrating the distinction between reliability and validity, using shots at a bullseye. Reliability refers to the consistency of location of shots, and validity refers to the accuracy of the shots with respect to the center of the bullseye.*"
   ]
  },
  {
   "cell_type": "markdown",
   "id": "b1c2e220",
   "metadata": {},
   "source": [
    "## Chapter summary\n",
    "\n",
    "After reading this chapter, you should be able to:\n",
    "\n",
    "- Define a variable\n",
    "- Make a vector in R\n",
    "- Describe the difference between qualitative and quantitative data\n",
    "- recode vectors in R as numeric or categorical\n",
    "- Explain the difference between categorical, ordinal, and interval data\n",
    "- Do basic math operations on vectors"
   ]
  },
  {
   "cell_type": "markdown",
   "id": "9b66904d",
   "metadata": {},
   "source": [
    "## Chapter quiz\n",
    "\n",
    "1) Consider a vector of data, ```sex <- (0,1,0,1,1,1,0,0)```. What do you think the numbers here mean? Do they represent quantitative data, or categorical? Would it be valid to take the sum of this vector? How would we figure out if this vector is the same as one written more verbosely, like sex2 <- (\"female\", \"male\", \"female\", \"male\", \"male\", \"male\", \"female\", \"female\")? How would you convert sex2 into a boolean?"
   ]
  }
 ],
 "metadata": {
  "kernelspec": {
   "display_name": "R",
   "language": "R",
   "name": "ir"
  },
  "language_info": {
   "codemirror_mode": "r",
   "file_extension": ".r",
   "mimetype": "text/x-r-source",
   "name": "R",
   "pygments_lexer": "r",
   "version": "4.1.3"
  }
 },
 "nbformat": 4,
 "nbformat_minor": 5
}
