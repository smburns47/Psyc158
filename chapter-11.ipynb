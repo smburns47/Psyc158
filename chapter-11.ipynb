{
 "cells": [
  {
   "cell_type": "markdown",
   "id": "f54700c7",
   "metadata": {},
   "source": [
    "# Chapter 11 - Adding an Explanatory Variable\n",
    "\n",
    "As it happens, in the absence of other information about the objects being studied, the mean of our sample is the best estimate we have of the actual mean of the population. It is equally likely to be too high as it is too low for any one data point (the typical variation around the mean is the same on the left side as it is on the right), making it an *unbiased* estimator of the parameter. Because it is our best guess of what the population parameter is, it is the best predictor we have of the value of a subsequent observation. While it will almost certainly be wrong, the mean will do a better job than any other single number.\n",
    "\n",
    "However, that doesn't mean we can do a *good* job with *just* a single number. So in this chapter we'll learn how to add more pieces to a statistical model to do a better job. \n",
    "\n",
    "## 11.1 Where does error come from?\n",
    "\n",
    "Simulating distributions of data based on the mean (deterministic model), or mean + error that is computed from various numbers of other variables\n",
    "\n",
    "Makes the model better if the variance in the error distribution is smaller"
   ]
  }
 ],
 "metadata": {
  "kernelspec": {
   "display_name": "R",
   "language": "R",
   "name": "ir"
  },
  "language_info": {
   "codemirror_mode": "r",
   "file_extension": ".r",
   "mimetype": "text/x-r-source",
   "name": "R",
   "pygments_lexer": "r",
   "version": "4.1.2"
  }
 },
 "nbformat": 4,
 "nbformat_minor": 5
}
