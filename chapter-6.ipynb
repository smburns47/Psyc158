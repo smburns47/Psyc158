{
 "cells": [
  {
   "cell_type": "markdown",
   "id": "b5588766",
   "metadata": {},
   "source": [
    "# Chapter 6 - Variation in Multiple Variables\n",
    "\n",
    "## 6.1 Explanation\n",
    "\n",
    "Examining distributions of single variables is always an important starting place. But as data analysts, our interests usually go beyond exploring patterns of variation in a single variable. We want to know patterns among multiple variables. Did something else cause the variable we care about? Are there other similar variables? In this section we begin thinking about what it means when multiple variable.\n",
    "\n",
    "We can start with an intuitive definition of “explain”: if knowing someone’s score on one variable helps you make a slightly better guess about that person’s score on another variable, then we can say that the first variable explains some variation in the second variable.\n",
    "\n",
    "For example, if we knew someone’s sex, could that help us make a better prediction of their height? You probably already have a sense that human males are taller, on average, than females. If we knew that someone was male, even without meeting them, we would predict that they would be taller than if we knew they were female.\n",
    "\n",
    "This is what we mean when we say sex *explains* some of the variation in height. It doesn’t explain all the variation because some females are taller than some males. But it does explain some of the variation.\n",
    "\n",
    "Explaining variation could help us in three ways: \n",
    "\n",
    "1) it helps us understand what causes the variation in a variable \n",
    "2) it helps us predict future observations \n",
    "3) or, it helps us change the system we are studying to produce different outcomes\n",
    "\n",
    "It's important to emphasize here that when we say one variable A \"explains\" another variable B, we don't always mean that A *causes* B. Correlation does not imply causation! It just means that knowing the value of some observation on A improves our guess on what B is. This could be because of causation, but it could also be a host of many different relationships (maybe B causes A instead, or a separate variable C causes both of them!). Whenever we use the word \"explain\" in this course, make sure you're not assuming that a causal relationship is involved.  \n",
    "\n",
    "In this chapter we develop some informal methods for representing and exploring relationships among variables. We start by graphing relationships between two variables, looking for evidence that one variable explains variation in another, and representing these relationships with word equations. (In the next chapters we will introduce more quantitative methods for explaining variation using the concept of statistical model.)"
   ]
  },
  {
   "cell_type": "markdown",
   "id": "dd2186cd",
   "metadata": {},
   "source": [
    "## 6.2 Explaning one variable with another\n",
    "\n",
    "Let's start by loading a simple dataset that plots the length of fingers from a sample of students in a stats class, along with some other demographic info. "
   ]
  },
  {
   "cell_type": "code",
   "execution_count": 1,
   "id": "afb0a809",
   "metadata": {},
   "outputs": [
    {
     "ename": "ERROR",
     "evalue": "Error in library(readr): there is no package called ‘readr’\n",
     "output_type": "error",
     "traceback": [
      "Error in library(readr): there is no package called ‘readr’\nTraceback:\n",
      "1. library(readr)"
     ]
    }
   ],
   "source": [
    "library(readr)\n",
    "fingers <- read_csv(\"fingers.csv\")"
   ]
  },
  {
   "cell_type": "markdown",
   "id": "0b1b934b",
   "metadata": {},
   "source": [
    "Write code to draw a histogram of the variable ```Thumb```, which corresponds to each person's thumb length. We'll use ```gf_histogram()```, so feel free to play around with features like labels, colors, bin number, etc. The documentation of all the arguments ```gf_histogram()``` can take is [here](https://www.rdocumentation.org/packages/ggformula/versions/0.10.1/topics/gf_histogram). "
   ]
  },
  {
   "cell_type": "code",
   "execution_count": null,
   "id": "66c38d4b",
   "metadata": {},
   "outputs": [],
   "source": [
    "library(ggformula)\n",
    "gf_histogram(~ Thumb, data=fingers)"
   ]
  },
  {
   "cell_type": "markdown",
   "id": "fc329eda",
   "metadata": {},
   "source": [
    "Quickly evaluating the distribution, it looks like most of the thumbs run between 40 and 80 mm long; the center of the distribution is somewhere around 60 mm; and the distribution is kind of normal-shaped, with most of the observations clustered around the middle, then just a few observations in the outer tails.\n",
    "\n",
    "Let’s say we want to check some other variable to see if it explains the variation we see in thumb length. A starting place is to think about other variables that, if we knew someone’s score on that variable, would help us make a better guess about their thumb length. Below is a list of some of the variables in ```fingers``` and descriptions of how they were coded. Which of these variables might be related to thumb length? \n",
    "\n",
    "- ```Sex```: 1=female, 2=male, 3=prefer not to answer\n",
    "- ```RaceEthnic```: 1=White, 2=African-American, 3=Asian, 4=Latino, 5=Other\n",
    "- ```Year```: Year in college; 1=First, 2=Second, 3=Third, 4=Fourth, 5=Other\n",
    "- ```MathAnxious```: Agreement with the statement, \"In general, I tend to feel very anxious about mathematics.\" 2=strongly agree, 1=agree, 0=neither agree not disagree, -1=disagree, -2=strongly disagree\n",
    "- ```GradePredict```: Anticipated course grade;\t4.0=A, 3.7=A-, 3.3=B+, 3.0=B, 2.7=B-, 2.3=C+, 2.0=C, 1.7=C-, 1.3=Below C-\n",
    "- ```Ring```: Length in mm from tip of ring finger to the crease between the ring finger and palm\n",
    "- ```Height```: Height in inches\n",
    "- ```Weight```: Weight in pounds\n",
    "\n",
    "One variable that might explain the variation in thumb length is ```Sex```. You might intuitively sense that male and female thumb lengths would differ, or vary. But then again, even among a bunch of females, their thumb lengths vary too.\n",
    "\n",
    "In our basic histogram right now, we can't see the effect of ```Sex```. We don't know which data points correspond to female, male, or other participants. But we can change this histogram to visualize the relationship between ```Thumb``` and ```Sex``` in a few ways. One way is by coloring or filling in the data in the histogram by ```Sex```, assigning females one color and males another.\n",
    "\n",
    "To do this we use the ```fill =``` argument, but instead of putting in a color we put a tilde (```~```) and then the name of a variable: ```fill = ~ Sex```. Remember that a ```~``` in functions like this is like saying \"vary by\", or \"is explained by\", followed by the variable you care about."
   ]
  },
  {
   "cell_type": "code",
   "execution_count": null,
   "id": "4f85338e",
   "metadata": {},
   "outputs": [],
   "source": [
    "gf_histogram(~ Thumb, data = fingers, fill = ~ Sex)"
   ]
  },
  {
   "cell_type": "markdown",
   "id": "ed04e25a",
   "metadata": {},
   "source": [
    "Whenever you color data with another variable in ```gf_histogram()```, it uses default colors and there isn't an easy way to set multiple colors, even though sometimes you might want to. In this case, we can use another handy function, ```gf_refine()```, that will take an already-built histogram and make some changes to it. For example, here’s the R code to change the colors of this histogram."
   ]
  },
  {
   "cell_type": "code",
   "execution_count": null,
   "id": "c4f98ae3",
   "metadata": {},
   "outputs": [],
   "source": [
    "# graphics plots can be saved as objects; when you do, they won't automatically print to the console\n",
    "thumb_by_sex <- gf_histogram(~ Thumb, data = fingers, fill = ~ Sex)\n",
    "gf_refine(thumb_by_sex, scale_fill_manual(values = c(\"purple\", \"orange\")))"
   ]
  },
  {
   "cell_type": "markdown",
   "id": "b7e77db7",
   "metadata": {},
   "source": [
    "```gf_refine()``` takes a histogram object as a first argument, and then another function as a second argument that we want to apply to that histogram. In this case, we used the graphic function ```scale_fill_manual()``` which allows us to manually define the colors we want for each unique value in ```Sex``` (make sure to use no more and no fewer colors than values to be colored!)\n",
    "\n",
    "Now is also a time we can introduce a really powerful R functionality that most other coding languages don't have. Notice above how, in order to use ```gf_refine()```, we had to build an object first containing the base histogram. Ultimately we did two things to this histogram - build it, and refine the colors. That's not too onerous, but it can get annoying to type and tougher to read if there are many changes you want to make to an object in a step-by-step way, and thus you have to keep redefining an object. Enter the \"pipe\" operator, which is three symbols together that look like this: ```%>%```. The pipe lets you take the output of one function and immediately pass it as an argument in another function, without having to save it to an object first. Below is how we would build the exact same colored histogram as above, but using a pipe:"
   ]
  },
  {
   "cell_type": "code",
   "execution_count": null,
   "id": "62515e68",
   "metadata": {},
   "outputs": [],
   "source": [
    "gf_histogram(~ Thumb, data = fingers, fill = ~ Sex) %>%\n",
    "    gf_refine(., scale_fill_manual(values = c(\"purple\", \"orange\")))"
   ]
  },
  {
   "cell_type": "markdown",
   "id": "61120272",
   "metadata": {},
   "source": [
    "Notice the two changes we made: 1) there is a pipe after the initial histogram command, which is saying \"take the results of this and pass it to the following function\"; 2) on the next line, ```gf_refine()``` is missing its first argument, replaced by a dot, because it is implied by what the pipe is giving it. "
   ]
  },
  {
   "cell_type": "markdown",
   "id": "361a1f14",
   "metadata": {},
   "source": [
    "<div class=\"alert alert-block alert-info\">\n",
    "<b>Note</b>: %>% passes an object on the left hand side as an argument of the function on the righthand side. We are using a \".\" to show you where that argument is being passed to. However, in its the first argument, R actually lets you leave it out entirely and type as if there's no first argument in the second function at all. However, for learning purposes we'll leave it in here. If you want to pass it as a second or later argument, you do have to include a \".\" in that argument spot.\n",
    "</div>"
   ]
  },
  {
   "cell_type": "markdown",
   "id": "ea289b01",
   "metadata": {},
   "source": [
    "Another way to examine the male and female data is to split the histogram we made into two different pictures: one for females and another for males. We can chain on (using ```%>%```) the command ```gf_facet_grid()``` after ```gf_histogram()```. This will put the separate histograms of ```Thumb``` for females and for males in a grid."
   ]
  },
  {
   "cell_type": "code",
   "execution_count": null,
   "id": "9fd7adc7",
   "metadata": {},
   "outputs": [],
   "source": [
    "gf_histogram(~ Thumb, data = fingers) %>% \n",
    "  gf_facet_grid(., ~ Sex)"
   ]
  },
  {
   "cell_type": "markdown",
   "id": "1371daa1",
   "metadata": {},
   "source": [
    "Using either the colored histogram or the separate histograms, does it seem like thumb length varies as a function of sex?\n",
    "\n",
    "Remember that putting something after the ```~``` means something gets changed on the x-axis. ```gf_facet_grid()``` works the same way. Putting the variable ```Sex``` after the ```~``` puts these two graphs in a row along the x-axis. Putting ```Sex``` *before* the ```~``` puts these two graphs in a column along the y-axis. The only difference is we have to include a period after the ```~```, because this function always expects something after the ```~``` but we don't have any variable we want to plot along the x-axis."
   ]
  },
  {
   "cell_type": "code",
   "execution_count": null,
   "id": "f8c91124",
   "metadata": {
    "scrolled": true
   },
   "outputs": [],
   "source": [
    "gf_histogram(~ Thumb, data = fingers) %>% \n",
    "  gf_facet_grid(., Sex ~ .)"
   ]
  },
  {
   "cell_type": "markdown",
   "id": "de820d43",
   "metadata": {},
   "source": [
    "This is more helpful than side-by-side because it’s easier to compare where the distributions are along the same ```Thumb``` axis. It seems that the distribution of thumb lengths for males is shifted higher relative to the female distribution.\n",
    "\n",
    "Also, it is immediately apparent that there are fewer males than females. This is when a measure like density (rather than count) comes in handy - it lets you see the distribution relative to itself rather than the range of values somewhere else.\n",
    "\n",
    "Adjust the following code to re-create these histograms as density histograms. "
   ]
  },
  {
   "cell_type": "code",
   "execution_count": null,
   "id": "d6b10120",
   "metadata": {},
   "outputs": [],
   "source": [
    "# Modify this code to create density histograms\n",
    "gf_histogram(~ Thumb, data = fingers) %>%\n",
    "gf_facet_grid(., Sex ~ .)\n"
   ]
  },
  {
   "cell_type": "markdown",
   "id": "5cd72da9",
   "metadata": {},
   "source": [
    "Another way of thinking about ```Sex``` explaining variation in ```Thumb``` is to say that ```Thumb``` is really made up of two different distributions, one for males and one for females. Although the shape of these two histograms are roughly normal, the average male thumb is bigger than the average female thumb. It almost seems like the whole male distribution is shifted higher along the x-axis. The center of the distribution is different across the two groups.\n",
    "\n",
    "This isn’t to say that just because we know someone’s sex we definitely know their thumb length. After all, there are both males and females with longer thumbs and both males and females with shorter thumbs. This variation among members of the same group is called **within-group variation**. When we combine all the thumbs together in a single histogram, we are able to see how spread-out the overall distribution is. This gives us an idea of the total variation. When we divide the distribution up and look separately at the two histograms, we can see the within-group variation.\n",
    "\n",
    "Besides finding a difference in group means, botice that these group-specific histograms tend to have less variation than the single histogram. It’s as if some of the variation in ```Thumb``` has been accounted for by ```Sex```. Because we can only see the within-group variation after we divide the distribution up by ```Sex```, another name for within-group variation is \"leftover variation.\"\n",
    "\n",
    "Even though there is still a lot of variation in thumb length left over after taking out the role of ```Sex```, it is still true that if we know someone’s sex we can be a little better at predicting their thumb length. A little better may not be great, but it is better than nothing.\n",
    "\n",
    "Now, remember any other variable you thought might be related to ```Thumb```. Make a grid of histograms to investigate the association of that variable with thumb length. (Make sure to use a categorical variable.)"
   ]
  },
  {
   "cell_type": "code",
   "execution_count": null,
   "id": "5a96e5fc",
   "metadata": {},
   "outputs": [],
   "source": [
    "# Write your code here to plot histograms of thumb and another variable\n"
   ]
  },
  {
   "cell_type": "markdown",
   "id": "9c2ab2f9",
   "metadata": {},
   "source": [
    "Here are a few example histograms you could have made. The gray histograms on the left make a grid of thumb length based on year in college. The colorful histograms are based on Race/Ethnicity."
   ]
  },
  {
   "cell_type": "code",
   "execution_count": null,
   "id": "58e54385",
   "metadata": {},
   "outputs": [],
   "source": [
    "gf_histogram(~ Thumb, data = fingers) %>% \n",
    "  gf_facet_grid(., Year ~ .) \n",
    "\n",
    "gf_dhistogram(~ Thumb, data = fingers, fill = ~ RaceEthnic) %>% \n",
    "  gf_facet_grid(., RaceEthnic ~ .) "
   ]
  },
  {
   "cell_type": "markdown",
   "id": "8ebc7336",
   "metadata": {},
   "source": [
    "Of the two variables used to create the faceted histograms above (year in college and race/ethnicity), which do you think does a better job predicting thumb length?"
   ]
  },
  {
   "cell_type": "markdown",
   "id": "35681110",
   "metadata": {},
   "source": [
    "## 6.3 Outcomes and explanatory variables\n",
    "\n",
    "We now have a sense of what it means to explain variation in one variable by variation in another. In the previous section, for example, we saw that variation in thumb length could be explained, in part, by variation in sex. In this section we want to begin developing a language for describing the variables that play different roles in these relationships — relationships in which one variable explains variation in another.\n",
    "\n",
    "Up to this point, we have distinguished between qualitative variables and quantitative variables. But our desire to explain variation in one variable with variation in another variable leads us to make another distinction, that is, between an outcome variable and an explanatory variable.\n",
    "\n",
    "The **outcome variable** is the variable whose variation we are trying to explain. It is the \"target\" thing we are trying to understand. In this course, the tools and methods we use will focus on a single outcome variable at one time.\n",
    "\n",
    "The **explanatory variables** are the variables we use to explain variation in the outcome variable. Although we will initially consider only one explanatory variable at a time, later in this course we will allow for the possibility of using multiple explanatory variables at a time.\n",
    "\n",
    "You may or may not have heard the terms “outcome variable” and “explanatory variable” before. We will use these terms throughout, but if you’ve taken statistics before, or read any research reports, you will no doubt have encountered a number of different terms used to represent the same distinction. Some of these are presented in the table below.\n",
    "\n",
    "| Outcome variable        | Explanatory variable      |\n",
    "| :---------------------: | :-----------------------: |\n",
    "| Dependent variable (DV) | Independent variable (IV) |\n",
    "| Predicted variable      | Predictor variable        | \n",
    "| Response variable       | Treatment variable        |\n",
    "| Output variable         | Experimental variable     |\n",
    "\n",
    "It is important to figure out whether a variable is quantitative or qualitative. But it is equally important to figure out whether a variable is an outcome or explanatory variable. Making this latter distinction requires a greater understanding of the context that the data pertain to, and the purpose for collecting the data. Let’s think about a situation and try to figure out what the outcome variable might be.\n",
    "\n",
    "In the ```MindsetMatters``` data frame, we have the results of an experiment where a researcher informed a randomly chosen group of housekeepers (41 of them) that the work they do satisfies the Surgeon General’s recommendations for an active lifestyle (which is true). They were also given examples to illustrate why their work is considered good exercise. The other 34 housekeepers were told nothing.\n",
    "\n",
    "Whether an individual housekeeper was informed or not was recorded in the variable called ```Condition``` (either Informed or Uninformed). The researcher also recorded each housekeeper's weight after four weeks in a variable called ```Wt2```. Let's make a new variable called ```WtLoss``` that codes whether someone decreased in weight. Then the first six rows of the data frame for these two variables are shown below."
   ]
  },
  {
   "cell_type": "code",
   "execution_count": null,
   "id": "c5cae24c",
   "metadata": {},
   "outputs": [],
   "source": [
    "library(dplyr)\n",
    "mindsetmatters <- read_csv('mindsetmatters.csv')\n",
    "mindsetmatters$WtLost <- (mindsetmatters$Wt - mindsetmatters$Wt2) < 0 \n",
    "head(select(mindsetmatters, Condition, WtLost))"
   ]
  },
  {
   "cell_type": "markdown",
   "id": "484a6a78",
   "metadata": {},
   "source": [
    "Which of these is the explanatory variable, and which is the outcome? \n",
    "\n",
    "Because these are both categorical variables, it's not possible to make a nice normal distribution histogram like we saw above. Instead, here's a bar graph to visualize the distribution of ```WtLost``` (using a function ```gf_bar()```)."
   ]
  },
  {
   "cell_type": "code",
   "execution_count": null,
   "id": "af03ef06",
   "metadata": {},
   "outputs": [],
   "source": [
    "gf_bar(~ WtLost, data = mindsetmatters)"
   ]
  },
  {
   "cell_type": "markdown",
   "id": "22271f6a",
   "metadata": {},
   "source": [
    "You can use ```gf_facet_grid()``` with any plot, not just histograms. Try creating a bar graph of ```WtLost``` (like the one above), but chain on a facet grid to compare the outcome across conditions."
   ]
  },
  {
   "cell_type": "code",
   "execution_count": null,
   "id": "bf7c9fe2",
   "metadata": {},
   "outputs": [],
   "source": [
    "# Create a bar graph of WtLost, then use gf_facet_grid() to compare the outcome across groups of Condition\n"
   ]
  },
  {
   "cell_type": "markdown",
   "id": "608678a6",
   "metadata": {},
   "source": [
    "So far we have considered both numerical (e.g., ```Thumb```) and categorical (e.g., ```WtLost```) outcomes. We have also looked at some categorical explanatory variables (e.g., ```Sex``` and ```Condition```). But we haven’t yet looked at any examples of quantitative explanatory variables.\n",
    "\n",
    "There isn’t any reason to think that we couldn’t. Perhaps a quantitative variable like age or initial weight might help us predict how much weight a housekeeper will lose. We’ll come back around to the idea of a quantitative explanatory variable later."
   ]
  },
  {
   "cell_type": "markdown",
   "id": "f089d6e3",
   "metadata": {},
   "source": [
    "## 6.4 Point and jitter plots\n",
    "\n",
    "We have learned how to make visualizations of outcome variables as a function of explanatory variables (e.g., histograms and bar graphs in a facet grid). We will learn a few more visualizations in this section.\n",
    "\n",
    "A **scatterplot** is a common way to show the relationship between an outcome variable and an explanatory variable. A scatterplot will show each data point as a dot on a graph, so that you can keep track of within-group variation at the same time. A scatterplot in ```ggformula``` can be made with the function ```gf_point()```. Let’s try using ```gf_point()``` to examine ```Thumb``` lengths by ```Sex```."
   ]
  },
  {
   "cell_type": "code",
   "execution_count": null,
   "id": "dac91c41",
   "metadata": {},
   "outputs": [],
   "source": [
    "gf_point(Thumb ~ Sex, data = fingers)"
   ]
  },
  {
   "cell_type": "markdown",
   "id": "b2651f6f",
   "metadata": {},
   "source": [
    "This is the first time we're including both the explanatory variable and the outcome variable in the same function call, on either side of the ```~``` symbol. This results in a plot that, instead of making two separate histograms of the outcome variable for each explanatory variable, makes points in a 2-D that shows the value of each observation on each variable. \n",
    "\n",
    "You can change the color of the points with the argument ```color``` (much like we did before) and the size of the points with ```size```."
   ]
  },
  {
   "cell_type": "code",
   "execution_count": null,
   "id": "d6ec053c",
   "metadata": {},
   "outputs": [],
   "source": [
    "gf_point(Thumb ~ Sex, data = fingers, color = \"orange\", size = 5) \n"
   ]
  },
  {
   "cell_type": "markdown",
   "id": "80056b7d",
   "metadata": {},
   "source": [
    "Sometimes with scatterplots like this, it's difficult to make out all the points because they overlap each other so closely. This is particularly a problem when you have two variables of categorical or ordinal data that can't have more than a few values:"
   ]
  },
  {
   "cell_type": "code",
   "execution_count": null,
   "id": "f8eaf095",
   "metadata": {},
   "outputs": [],
   "source": [
    "#Can you tell how many people have each explanatory/outcome pairing?\n",
    "gf_point(MathAnxious ~ Interest, data=fingers, color = \"blue\")"
   ]
  },
  {
   "cell_type": "markdown",
   "id": "bb6a6d80",
   "metadata": {},
   "source": [
    "We can **jitter** these points, or spread them out a little bit, so that you can see all the individual points better. We’ll use the function ```gf_jitter()``` to create a jitter plot depicting ```Thumb``` length by ```Sex```. This function is just like making a ```gf_point()``` plot, except that the points will be a little jittered both vertically and horizontally."
   ]
  },
  {
   "cell_type": "code",
   "execution_count": null,
   "id": "38fa07ce",
   "metadata": {},
   "outputs": [],
   "source": [
    "gf_jitter(MathAnxious ~ Interest, data = fingers, color = \"blue\") "
   ]
  },
  {
   "cell_type": "markdown",
   "id": "249e7ec1",
   "metadata": {},
   "source": [
    "But now they're *too* jittered though - it's hard to tell which points should correspond to each ordinal value. We can use the ```width``` and ```height``` arguments to change how the points get jittered. Height and width can be set to values between 0 and 1, which corresponds to the proportion of one unit in the variable value."
   ]
  },
  {
   "cell_type": "code",
   "execution_count": null,
   "id": "51904ae0",
   "metadata": {},
   "outputs": [],
   "source": [
    "gf_jitter(MathAnxious ~ Interest, data = fingers, color = \"blue\", width = 0.1, height = 0.1) "
   ]
  },
  {
   "cell_type": "markdown",
   "id": "eb0ca862",
   "metadata": {},
   "source": [
    "Much easier to see! In a jitter plot, a point being more to the left or right within the group doesn’t mean anything. The jitter is some random repositioning so the points do not overlap too much and obscure how many data points have that value.\n",
    "\n",
    "Just like a scatterplot, in a jitter plot you can change the size of the points by including the argument ```size```. You can also change the transparency of the points using the argument ```alpha```. ```alpha``` can take values from 0 (more transparent) to 1 (more opaque). This is another way of showing how many points are at one place - the darker the color, the more observations there. "
   ]
  },
  {
   "cell_type": "code",
   "execution_count": null,
   "id": "3e1b065c",
   "metadata": {
    "scrolled": true
   },
   "outputs": [],
   "source": [
    "gf_jitter(MathAnxious ~ Interest, data = fingers, color = \"blue\", size = 3, alpha = 0.2, width = 0.1, height = 0.1) "
   ]
  },
  {
   "cell_type": "markdown",
   "id": "4f2a7e69",
   "metadata": {},
   "source": [
    "Try making jitter plots for a few of the variables from the  ```fingers``` dataframe. Play around with some of the arguments such as ```height```, ```width```, ```color```, ```size```, and ```alpha``` ([here](https://www.rdocumentation.org/packages/ggformula/versions/0.10.1/topics/gf_jitter) are the possible arguments). Try making a jitter plot one way, then switching which variable is on the x-axis and which on the y-axis. Does it work both ways?"
   ]
  },
  {
   "cell_type": "code",
   "execution_count": null,
   "id": "1da39c02",
   "metadata": {},
   "outputs": [],
   "source": [
    "# Play around with gf_jitter\n"
   ]
  },
  {
   "cell_type": "markdown",
   "id": "5530c96c",
   "metadata": {},
   "source": [
    "There isn’t any restriction on what kind of variable you can put in the x- or y-axis for a jitter plot. You can put an outcome or explanatory variable in either position. You can also put a categorical or quantitative variable in either position. For example, in this jitter plot, we have put ```Sex``` on the y-axis and ```Thumb``` length on the x-axis."
   ]
  },
  {
   "cell_type": "code",
   "execution_count": null,
   "id": "f71604df",
   "metadata": {
    "scrolled": true
   },
   "outputs": [],
   "source": [
    "gf_jitter(Sex ~ Thumb, data = fingers, color = \"orange\", size = 3, height = 0.2) \n"
   ]
  },
  {
   "cell_type": "markdown",
   "id": "7f22bbf8",
   "metadata": {},
   "source": [
    "Even though you can put the outcome variable anywhere, it is more common to put the outcome variable on the y-axis. We will follow that convention in our jitter plots because it conforms with what people expect, and thus makes them easier to interpret."
   ]
  },
  {
   "cell_type": "markdown",
   "id": "98a8a75d",
   "metadata": {},
   "source": [
    "## 6.5 Quantitative explanatory variables\n",
    "\n",
    "Up to this point we have been using categorical predictor variables. How do we show variation between quantitative explanatory and quantitative outcome variables? There's no unique \"bins\" of data to put the explanatory data into for making a boxplot. \n",
    "\n",
    "You might think the best option is to create those bins, and turn the quantitative variable into a categorical one by, say, grouping everyone taller than the median height value into one bin and everyone shorter than the median into another. Or making three groups the same way by making bins for \"short,\" \"medium,\" and \"tall.\" \n",
    "\n",
    "This is called **dichotomozing**, but it is actually bad practice for the majority of use cases. When we do this, we are throwing away some of the information we have in our data. We know exactly how many inches tall each person is - why not use that information instead of just categorizing people as either tall or short?\n",
    "\n",
    "Let’s try another approach, a scatterplot of ```Thumb``` length by ```Height```. Try using ```gf_point()``` with ```Height``` on the x-axis. Remember: when making plots, the convention is to put the outcome variable on the y-axis, the explanatory variable on the x-axis."
   ]
  },
  {
   "cell_type": "code",
   "execution_count": null,
   "id": "b1906a13",
   "metadata": {},
   "outputs": [],
   "source": [
    "gf_point(Thumb ~ Height, data=fingers)"
   ]
  },
  {
   "cell_type": "markdown",
   "id": "e1d2bcc1",
   "metadata": {},
   "source": [
    "You can see the dots scattered around, but on a general upward trend. If you were to visualize a distribution on thumb for each general value of height, you would see that the distribution is slowly moving larger. A student who is taller also tends to have a longer thumb, but there's not an exact relationship. \n",
    "\n",
    "So, just as when we measured explained the variance of ```Thumb``` with a categorical variable, there appears to be some variation in ```Thumb``` that is explained by ```Height```, but there is also variation left over after we have taken out the variation due to ```Height```. I.e., there is variation on ```Thumb``` at one value of ```Height```."
   ]
  },
  {
   "cell_type": "markdown",
   "id": "62ee1813",
   "metadata": {},
   "source": [
    "## 6.6 Putting multiple plots together\n",
    "\n",
    "```gf_point()``` and ```gf_jitter()``` are useful. They emphasize that data are made up of individual numbers, and yet they help us to notice clusters of those individual points. There are times, however, when we want to transcend the individual data points and focus only on where the clusters are.\n",
    "\n",
    "**Boxplots** are helpful in this regard, and are especially useful for comparing the features of the distribution of an outcome variable across different levels of a categorical explanatory variable.\n",
    "\n",
    "Here’s how we would create a boxplot of ```Thumb``` length broken down by ```Sex```."
   ]
  },
  {
   "cell_type": "code",
   "execution_count": null,
   "id": "7a27b6cd",
   "metadata": {},
   "outputs": [],
   "source": [
    "gf_boxplot(Thumb ~ Sex, data = fingers)"
   ]
  },
  {
   "cell_type": "markdown",
   "id": "cebed228",
   "metadata": {},
   "source": [
    "In making boxplots we can play with the arguments ```color``` and ```fill``` much like we did before."
   ]
  },
  {
   "cell_type": "code",
   "execution_count": null,
   "id": "d35c3d6d",
   "metadata": {},
   "outputs": [],
   "source": [
    "gf_boxplot(Thumb ~ Sex, data = fingers, color = \"orange\")"
   ]
  },
  {
   "cell_type": "markdown",
   "id": "ecaa6a2f",
   "metadata": {},
   "source": [
    "Boxplots visually tell us the quantiles of the data. The rectangle at the center of the boxplot shows us where the middle 50% of the data points fall on the scale of the outcome variable. The thick line inside the box is the median. There are also lines, called whiskers, above and below the box. Another name for boxplot is box-and-whisker plot. The points that appear past the whiskers are considered outliers by this function (anything that is greater than 75%ile + 1.5\\*IQR, or less than 25%ile + 1.5\\*IQR). This isn't the only way to define an outlier, but is a pretty common one. The length of the whiskers depicts the max and min of the data range - when there are outliers, the end of the whisker depicts the max or min value that is not considered an outlier.\n",
    "\n",
    "In ```ggformula```, we chain on multiple functions to put multiple types of plots in the same image. It's like adding a layer of one plot on top of a layer of the first one below it. When chaining between multiple ```gg_forumla``` plots, the later functions \"inherits\" the same variables and data so we don’t need to type those in again. Handy!"
   ]
  },
  {
   "cell_type": "code",
   "execution_count": null,
   "id": "92cb046d",
   "metadata": {},
   "outputs": [],
   "source": [
    "gf_boxplot(Thumb ~ Sex, data = fingers, color = \"orange\") %>%\n",
    "    gf_jitter(.)"
   ]
  },
  {
   "cell_type": "markdown",
   "id": "0767bd90",
   "metadata": {},
   "source": [
    "In this situation where we are looking at the variation in ```Thumb``` length by ```Sex```, the boxes are in different vertical positions. The male box is higher than the female box. How do you think we should interpret the placement of the boxes?\n",
    "\n",
    "Instead of an explanatory variable like ```Sex```, let’s try one that is unlikely to help us explain the variation in thumb length."
   ]
  },
  {
   "cell_type": "code",
   "execution_count": null,
   "id": "ef56557e",
   "metadata": {},
   "outputs": [],
   "source": [
    "# Modify this boxplot to look at Thumb length varying by Job instead of Sex\n",
    "gf_boxplot(Thumb ~ Sex, data = fingers, color = ~ Sex) %>%\n",
    "gf_jitter(., height = 0, color = \"gray\", alpha = .5, size = 3)\n"
   ]
  },
  {
   "cell_type": "markdown",
   "id": "e775e4c0",
   "metadata": {},
   "source": [
    "Notice that in this boxplot, the boxes are at approximately the same vertical position and are about the same size. The one exception is the box for the full-time level of ```Job```. The full-time box only includes one student, so, we wouldn’t want to draw any conclusions about the relationship between working full time and thumb length. Most of the students in the ```fingers``` data frame either work part-time or not at all. The thumbs of students with no job are not much longer or shorter than thumbs of students with part-time jobs. But within each group, their thumb lengths vary a lot. There are long-thumbed and short-thumbed students with part-time jobs and with no jobs."
   ]
  },
  {
   "cell_type": "markdown",
   "id": "6f80816e",
   "metadata": {},
   "source": [
    "In summary, visualization helps see variation in data, and patterns of co-variation *between* variables reveals how they are related to each other. Below is are tables of all the visualization methods we learned in this chapter. It would be very helpful to keep this in your R cheatsheet to refer to whenever you need!\n",
    "\n",
    "**Visualizations for one variable**\n",
    "\n",
    "| Variable     | Visualization type | R code (```gg_formula``` package) |\n",
    "| :----------: | :----------------: | :-------------------------------: |\n",
    "| Categorical  | Bar graph          | ```gf_bar()```                    |\n",
    "| Quantitative | Histogram          | ```gf_histogram()```              |\n",
    "|              | Boxplot            | ```gf_boxplot()```                |\n",
    "\n",
    "**Visualizations for two variables**\n",
    "\n",
    "| Outcome variable | Explanatory variable | Visualization type          | R code (```gg_formula``` package)         |\n",
    "| :--------------: |:-------------------: | :-------------------------: | :---------------------------------------: |\n",
    "| Categorical      | Categorical          | Faceted bar graph           | ```gf_bar() %>% gf_facet_grid(.)```       |\n",
    "| Quantitative     | Categorical          | Faceted histogram           | ```gf_histogram() %>% gf_facet_grid(.)``` |\n",
    "|                  |                      | Boxplot                     | ```gf_boxplot()```                        |\n",
    "|                  |                      | Jitter plot                 | ```gf_jitter()```                         |\n",
    "| Categorical      | Quantitative         | Same as above, axes flipped |                                           |\n",
    "| Quantitative     | Quantitative         | Scatterplot                 | ```gf_point()```                          |"
   ]
  },
  {
   "cell_type": "markdown",
   "id": "6092fee8",
   "metadata": {},
   "source": [
    "## Chapter summary\n",
    "\n",
    "After reading this chapter, you should be able to:\n",
    "\n",
    "- Explain what \"explain\" means\n",
    "- Change plots with faceting and colors\n",
    "- Make the correct type of plot for each type of quantitative/categorical variable display"
   ]
  },
  {
   "cell_type": "markdown",
   "id": "dd1c6328",
   "metadata": {},
   "source": [
    "## Chapter quiz"
   ]
  },
  {
   "cell_type": "markdown",
   "id": "539a0f87",
   "metadata": {},
   "source": [
    "## Lab \n",
    "\n",
    "- Add a third variable by varying data size/color in a scatter plot"
   ]
  }
 ],
 "metadata": {
  "kernelspec": {
   "display_name": "R",
   "language": "R",
   "name": "ir"
  },
  "language_info": {
   "codemirror_mode": "r",
   "file_extension": ".r",
   "mimetype": "text/x-r-source",
   "name": "R",
   "pygments_lexer": "r",
   "version": "4.1.3"
  }
 },
 "nbformat": 4,
 "nbformat_minor": 5
}
