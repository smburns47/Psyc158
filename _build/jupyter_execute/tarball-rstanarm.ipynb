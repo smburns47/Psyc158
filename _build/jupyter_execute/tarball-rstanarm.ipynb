{
 "cells": [
  {
   "cell_type": "code",
   "execution_count": null,
   "id": "aecc9183",
   "metadata": {},
   "outputs": [],
   "source": [
    "install.packages('rstanarm')\n",
    "tar(\"library.tar.gz\", \"/usr/local/lib/R/site-library\")"
   ]
  }
 ],
 "metadata": {
  "kernelspec": {
   "display_name": "R",
   "language": "R",
   "name": "ir"
  },
  "language_info": {
   "codemirror_mode": "r",
   "file_extension": ".r",
   "mimetype": "text/x-r-source",
   "name": "R",
   "pygments_lexer": "r",
   "version": "4.1.2"
  }
 },
 "nbformat": 4,
 "nbformat_minor": 5
}