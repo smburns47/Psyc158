{
 "cells": [
  {
   "cell_type": "markdown",
   "metadata": {
    "nbsimplegrader": {
     "config_key": "markdown.response",
     "editable": true,
     "label": "Response: Markdown",
     "respondable": true,
     "response": null,
     "runnable": true,
     "type": "markdown"
    }
   },
   "source": [
    "## Group Number:\n",
    "\n",
    "Name:\n",
    "\n",
    "Name:\n",
    "\n",
    "Name:\n",
    "\n",
    "Name:\n",
    "\n",
    "Name:\n",
    "\n",
    "Name:"
   ]
  },
  {
   "cell_type": "markdown",
   "metadata": {
    "nbsimplegrader": {
     "config_key": "markdown.edit-and-run",
     "editable": true,
     "label": "Markdown: Edit-and-Run",
     "respondable": false,
     "response": null,
     "runnable": true,
     "type": "markdown"
    }
   },
   "source": [
    "**Roles** Scribe: 1 Facilitator: 3 Manager: 5 Reporter: 6 Contributor: 4 Contributor: 2"
   ]
  },
  {
   "cell_type": "code",
   "execution_count": 1,
   "metadata": {
    "nbsimplegrader": {
     "config_key": "code.run-only",
     "editable": false,
     "label": "Code: Run-Only",
     "respondable": false,
     "response": null,
     "runnable": true,
     "type": "code"
    }
   },
   "outputs": [],
   "source": [
    "suppressPackageStartupMessages({\n",
    "    library(dplyr)\n",
    "    library(ggformula)\n",
    "    library(mosaic)\n",
    "    library(supernova)\n",
    "    library(lsr)})"
   ]
  },
  {
   "cell_type": "markdown",
   "metadata": {
    "nbsimplegrader": {
     "config_key": "markdown.edit-and-run",
     "editable": true,
     "label": "Markdown: Edit-and-Run",
     "respondable": false,
     "response": null,
     "runnable": true,
     "type": "markdown"
    }
   },
   "source": [
    "# Playing with Fear: A Field Study in Recreational Horror \n",
    "\n",
    "Andersen, M., Schjoedt, U., Price, H., Rosas, F., Scrivner, C., & Clasen, M. (2020). Playing with fear: A field study in recreational horror. *Psychological Science, 31*(12), 1497–1510. DOI: 10.1177/0956797620972116\n",
    "\n",
    "### Fear, Enjoyment, and Haunted Houses\n",
    "\n",
    "110 participants were paid to walk through a haunted house attraction. Inside, cameras were set up to monitor participants' reactions at three jump scare locations: The first involved a mad scientist, the second involved a man in a pig mask, and the third involved zombies.\n",
    "\n",
    "<img src=https://i.imgur.com/vKqtQGym.jpg>\n",
    "<img src=https://i.imgur.com/2b4d7dDm.png>\n",
    "<img src=https://i.imgur.com/PQ2F8LBm.jpg>\n",
    "\n",
    "After going through the haunted house, participants filled out a questionnaire asking them to rate on a scale from 0 to 9 the enjoyment they felt and the fear they felt generally throughout the attraction. They were also asked to rate their enjoyment and fear at each of the three jump scare locations.  \n",
    "  \n",
    "Research Question: The researchers wanted to examine the whether fear explains variability in enjoyment. \n",
    " \n",
    " ### Variables of Interest\n",
    " \n",
    " We will focus on the enjoyment and fear ratings participants self-reported at each of the three jump scare locations (with higher numbers indicating more fear/enjoyment). We will treat them as continuous variables:\n",
    " \n",
    " - `Fear.General`: fear reported generally throughout the attraction \n",
    " - `Enjoyment.General`: enjoyment reported generally throughout the attraction\n",
    " - `Fear.Scientist`: fear reported at mad scientist jump scare location \n",
    " - `Enjoyment.Scientist`: enjoyment reported at mad scientist jump scare location \n",
    " - `Fear.Piggy`: fear reported at Mr. Piggy jump scare location \n",
    " - `Enjoyment.Piggy`: enjoyment reported at Mr. Piggy jump scare location \n",
    " - `Fear.Zombies`: fear reported at zombies jump scare location \n",
    " - `Enjoyment.Zombies`: enjoyment reported at zombies jump scare location "
   ]
  },
  {
   "cell_type": "code",
   "execution_count": 2,
   "metadata": {
    "nbsimplegrader": {
     "config_key": "code.edit-and-run",
     "editable": true,
     "label": "Code: Edit-and-Run",
     "respondable": false,
     "response": null,
     "runnable": true,
     "type": "code"
    },
    "scrolled": false
   },
   "outputs": [
    {
     "data": {
      "text/html": [
       "<table class=\"dataframe\">\n",
       "<caption>A data.frame: 6 × 8</caption>\n",
       "<thead>\n",
       "\t<tr><th></th><th scope=col>Fear.General</th><th scope=col>Enjoyment.General</th><th scope=col>Fear.Scientist</th><th scope=col>Enjoyment.Scientist</th><th scope=col>Fear.Piggy</th><th scope=col>Enjoyment.Piggy</th><th scope=col>Fear.Zombies</th><th scope=col>Enjoyment.Zombies</th></tr>\n",
       "\t<tr><th></th><th scope=col>&lt;int&gt;</th><th scope=col>&lt;int&gt;</th><th scope=col>&lt;int&gt;</th><th scope=col>&lt;int&gt;</th><th scope=col>&lt;int&gt;</th><th scope=col>&lt;int&gt;</th><th scope=col>&lt;int&gt;</th><th scope=col>&lt;int&gt;</th></tr>\n",
       "</thead>\n",
       "<tbody>\n",
       "\t<tr><th scope=row>1</th><td>7</td><td>9</td><td>3</td><td>7</td><td>2</td><td>8</td><td>8</td><td>9</td></tr>\n",
       "\t<tr><th scope=row>2</th><td>5</td><td>9</td><td>6</td><td>8</td><td>7</td><td>9</td><td>4</td><td>8</td></tr>\n",
       "\t<tr><th scope=row>3</th><td>6</td><td>7</td><td>1</td><td>3</td><td>6</td><td>5</td><td>4</td><td>5</td></tr>\n",
       "\t<tr><th scope=row>4</th><td>7</td><td>1</td><td>8</td><td>0</td><td>9</td><td>0</td><td>6</td><td>0</td></tr>\n",
       "\t<tr><th scope=row>5</th><td>6</td><td>8</td><td>8</td><td>9</td><td>8</td><td>8</td><td>5</td><td>6</td></tr>\n",
       "\t<tr><th scope=row>6</th><td>5</td><td>7</td><td>5</td><td>7</td><td>6</td><td>8</td><td>2</td><td>4</td></tr>\n",
       "</tbody>\n",
       "</table>\n"
      ],
      "text/latex": [
       "A data.frame: 6 × 8\n",
       "\\begin{tabular}{r|llllllll}\n",
       "  & Fear.General & Enjoyment.General & Fear.Scientist & Enjoyment.Scientist & Fear.Piggy & Enjoyment.Piggy & Fear.Zombies & Enjoyment.Zombies\\\\\n",
       "  & <int> & <int> & <int> & <int> & <int> & <int> & <int> & <int>\\\\\n",
       "\\hline\n",
       "\t1 & 7 & 9 & 3 & 7 & 2 & 8 & 8 & 9\\\\\n",
       "\t2 & 5 & 9 & 6 & 8 & 7 & 9 & 4 & 8\\\\\n",
       "\t3 & 6 & 7 & 1 & 3 & 6 & 5 & 4 & 5\\\\\n",
       "\t4 & 7 & 1 & 8 & 0 & 9 & 0 & 6 & 0\\\\\n",
       "\t5 & 6 & 8 & 8 & 9 & 8 & 8 & 5 & 6\\\\\n",
       "\t6 & 5 & 7 & 5 & 7 & 6 & 8 & 2 & 4\\\\\n",
       "\\end{tabular}\n"
      ],
      "text/markdown": [
       "\n",
       "A data.frame: 6 × 8\n",
       "\n",
       "| <!--/--> | Fear.General &lt;int&gt; | Enjoyment.General &lt;int&gt; | Fear.Scientist &lt;int&gt; | Enjoyment.Scientist &lt;int&gt; | Fear.Piggy &lt;int&gt; | Enjoyment.Piggy &lt;int&gt; | Fear.Zombies &lt;int&gt; | Enjoyment.Zombies &lt;int&gt; |\n",
       "|---|---|---|---|---|---|---|---|---|\n",
       "| 1 | 7 | 9 | 3 | 7 | 2 | 8 | 8 | 9 |\n",
       "| 2 | 5 | 9 | 6 | 8 | 7 | 9 | 4 | 8 |\n",
       "| 3 | 6 | 7 | 1 | 3 | 6 | 5 | 4 | 5 |\n",
       "| 4 | 7 | 1 | 8 | 0 | 9 | 0 | 6 | 0 |\n",
       "| 5 | 6 | 8 | 8 | 9 | 8 | 8 | 5 | 6 |\n",
       "| 6 | 5 | 7 | 5 | 7 | 6 | 8 | 2 | 4 |\n",
       "\n"
      ],
      "text/plain": [
       "  Fear.General Enjoyment.General Fear.Scientist Enjoyment.Scientist Fear.Piggy\n",
       "1 7            9                 3              7                   2         \n",
       "2 5            9                 6              8                   7         \n",
       "3 6            7                 1              3                   6         \n",
       "4 7            1                 8              0                   9         \n",
       "5 6            8                 8              9                   8         \n",
       "6 5            7                 5              7                   6         \n",
       "  Enjoyment.Piggy Fear.Zombies Enjoyment.Zombies\n",
       "1 8               8            9                \n",
       "2 9               4            8                \n",
       "3 5               4            5                \n",
       "4 0               6            0                \n",
       "5 8               5            6                \n",
       "6 8               2            4                "
      ]
     },
     "metadata": {},
     "output_type": "display_data"
    }
   ],
   "source": [
    "feardata <- read.csv(\"https://bit.ly/3pXyGSW\", header = TRUE, sep = \",\")\n",
    "colnames(feardata)[1:2] <- c(\"Fear.General\", \"Enjoyment.General\")\n",
    "head(feardata)"
   ]
  },
  {
   "cell_type": "markdown",
   "metadata": {
    "nbsimplegrader": {
     "config_key": "markdown.edit-and-run",
     "editable": true,
     "label": "Markdown: Edit-and-Run",
     "respondable": false,
     "response": null,
     "runnable": true,
     "type": "markdown"
    }
   },
   "source": [
    "# Section 1\n",
    "\n",
    "Based on your group number, you're going to use a different combination of fear and enjoyment variables:\n",
    "\n",
    "Groups 1 - 10: `Fear.General` and `Enjoyment.General`\n",
    "\n",
    "Groups 11 - 20: `Fear.Scientist` and `Enjoyment.Scientist`\n",
    "\n",
    "Groups 21 - 30: `Fear.Piggy` and `Enjoyment.Piggy`\n",
    "\n",
    "Groups 31 - 42: `Fear.Zombies` and `Enjoyment.Zombies`"
   ]
  },
  {
   "cell_type": "markdown",
   "metadata": {
    "nbsimplegrader": {
     "config_key": "markdown.response",
     "editable": true,
     "label": "Response: Markdown",
     "respondable": true,
     "response": null,
     "runnable": true,
     "type": "markdown"
    }
   },
   "source": [
    "1.1 Using the fear and enjoyment variables corresponding to the jump scare location you picked, write your research question as a word equation.  "
   ]
  },
  {
   "cell_type": "markdown",
   "metadata": {
    "nbsimplegrader": {
     "config_key": "markdown.response",
     "editable": true,
     "label": "Response: Markdown",
     "respondable": true,
     "response": null,
     "runnable": true,
     "type": "markdown"
    }
   },
   "source": [
    "1.2 Make a hypothesis as a group. Do you think that fear and enjoyment will be positively, negatively, or not related in this sample? Explain why."
   ]
  },
  {
   "cell_type": "markdown",
   "metadata": {
    "nbsimplegrader": {
     "config_key": "markdown.edit-and-run",
     "editable": true,
     "label": "Markdown: Edit-and-Run",
     "respondable": false,
     "response": null,
     "runnable": true,
     "type": "markdown"
    }
   },
   "source": [
    "1.3 Create a plot that depicts the relationship between `FEAR` and `ENJOYMENT` (put your `FEAR` variable on the x-axis and `ENJOYMENT` variable on the y-axis). "
   ]
  },
  {
   "cell_type": "code",
   "execution_count": null,
   "metadata": {
    "nbsimplegrader": {
     "config_key": "code.response",
     "editable": true,
     "label": "Response: Code",
     "respondable": true,
     "response": null,
     "runnable": true,
     "type": "code"
    },
    "scrolled": true
   },
   "outputs": [],
   "source": [
    "#Type code for plot here"
   ]
  },
  {
   "cell_type": "markdown",
   "metadata": {
    "nbsimplegrader": {
     "config_key": "markdown.edit-and-run",
     "editable": true,
     "label": "Markdown: Edit-and-Run",
     "respondable": false,
     "response": null,
     "runnable": true,
     "type": "markdown"
    }
   },
   "source": [
    "1.4 Calculate the correlation between your `FEAR` and `ENJOYMENT` variables. "
   ]
  },
  {
   "cell_type": "code",
   "execution_count": 5,
   "metadata": {
    "nbsimplegrader": {
     "config_key": "code.response",
     "editable": true,
     "label": "Response: Code",
     "respondable": true,
     "response": null,
     "runnable": true,
     "type": "code"
    }
   },
   "outputs": [
    {
     "data": {
      "text/html": [
       "0.0229865966610179"
      ],
      "text/latex": [
       "0.0229865966610179"
      ],
      "text/markdown": [
       "0.0229865966610179"
      ],
      "text/plain": [
       "[1] 0.0229866"
      ]
     },
     "metadata": {},
     "output_type": "display_data"
    },
    {
     "data": {
      "text/html": [
       "-0.0319779655003605"
      ],
      "text/latex": [
       "-0.0319779655003605"
      ],
      "text/markdown": [
       "-0.0319779655003605"
      ],
      "text/plain": [
       "[1] -0.03197797"
      ]
     },
     "metadata": {},
     "output_type": "display_data"
    },
    {
     "data": {
      "text/html": [
       "0.152042486871562"
      ],
      "text/latex": [
       "0.152042486871562"
      ],
      "text/markdown": [
       "0.152042486871562"
      ],
      "text/plain": [
       "[1] 0.1520425"
      ]
     },
     "metadata": {},
     "output_type": "display_data"
    },
    {
     "data": {
      "text/html": [
       "0.0156797170347069"
      ],
      "text/latex": [
       "0.0156797170347069"
      ],
      "text/markdown": [
       "0.0156797170347069"
      ],
      "text/plain": [
       "[1] 0.01567972"
      ]
     },
     "metadata": {},
     "output_type": "display_data"
    }
   ],
   "source": [
    "cor(Fear.Zombies~Enjoyment.Zombies, data= feardata)\n",
    "cor(Fear.Piggy~Enjoyment.Piggy, data= feardata)\n",
    "cor(Fear.Scientist~Enjoyment.Scientist, data= feardata)\n",
    "cor(Fear.General~Enjoyment.General, data= feardata)"
   ]
  },
  {
   "cell_type": "markdown",
   "metadata": {
    "nbsimplegrader": {
     "config_key": "markdown.response",
     "editable": true,
     "label": "Response: Markdown",
     "respondable": true,
     "response": null,
     "runnable": true,
     "type": "markdown"
    }
   },
   "source": [
    "1.5 Based on your results from 1.2 and 1.3, do you think there is a positive, negative, or no association between `FEAR` and `ENJOYMENT` at your location? Why do you think that?"
   ]
  },
  {
   "cell_type": "markdown",
   "metadata": {
    "nbsimplegrader": {
     "config_key": "markdown.edit-and-run",
     "editable": true,
     "label": "Markdown: Edit-and-Run",
     "respondable": false,
     "response": null,
     "runnable": true,
     "type": "markdown"
    }
   },
   "source": [
    "1.6 Fit a linear model predicting `Fear` from `Enjoyment` at your location. (Save this as an object for use later)"
   ]
  },
  {
   "cell_type": "code",
   "execution_count": null,
   "metadata": {
    "nbsimplegrader": {
     "config_key": "code.response",
     "editable": true,
     "label": "Response: Code",
     "respondable": true,
     "response": null,
     "runnable": true,
     "type": "code"
    }
   },
   "outputs": [],
   "source": [
    "# Write your code here"
   ]
  },
  {
   "cell_type": "markdown",
   "metadata": {
    "nbsimplegrader": {
     "config_key": "markdown.response",
     "editable": true,
     "label": "Response: Markdown",
     "respondable": true,
     "response": null,
     "runnable": true,
     "type": "markdown"
    }
   },
   "source": [
    "1.7 Write an interpretation of $b_0$ and $b_1$ from this model. "
   ]
  },
  {
   "cell_type": "markdown",
   "metadata": {},
   "source": [
    "# Head back to Main Room"
   ]
  },
  {
   "cell_type": "markdown",
   "metadata": {},
   "source": [
    "# Section 2: Evaluating Your Model"
   ]
  },
  {
   "cell_type": "markdown",
   "metadata": {
    "nbsimplegrader": {
     "config_key": "markdown.edit-and-run",
     "editable": true,
     "label": "Markdown: Edit-and-Run",
     "respondable": false,
     "response": null,
     "runnable": true,
     "type": "markdown"
    }
   },
   "source": [
    "2.1 Create your ANOVA table for your model using the `supernova` function. "
   ]
  },
  {
   "cell_type": "code",
   "execution_count": null,
   "metadata": {
    "nbsimplegrader": {
     "config_key": "code.response",
     "editable": true,
     "label": "Response: Code",
     "respondable": true,
     "response": null,
     "runnable": true,
     "type": "code"
    }
   },
   "outputs": [],
   "source": [
    "# Write your code here"
   ]
  },
  {
   "cell_type": "markdown",
   "metadata": {
    "nbsimplegrader": {
     "config_key": "markdown.response",
     "editable": true,
     "label": "Response: Markdown",
     "respondable": true,
     "response": null,
     "runnable": true,
     "type": "markdown"
    }
   },
   "source": [
    "2.2 Write an interpretation for your PRE, proportion reduction in error. (Make sure the number is included in your interpretation)"
   ]
  },
  {
   "cell_type": "markdown",
   "metadata": {
    "nbsimplegrader": {
     "config_key": "markdown.response",
     "editable": true,
     "label": "Response: Markdown",
     "respondable": true,
     "response": null,
     "runnable": true,
     "type": "markdown"
    }
   },
   "source": [
    "2.3 When $F <= 1$, this means we are not explaining much variability in the outcome. When $F$ is between 1 and 3, this is limited evidence of a relationship. But if $F$ is larger than 3 we're doing a good job of explaining variability. Which case do you see here, and how would we interpret this for your specific variables?"
   ]
  },
  {
   "cell_type": "markdown",
   "metadata": {
    "nbsimplegrader": {
     "config_key": "markdown.response",
     "editable": true,
     "label": "Response: Markdown",
     "respondable": true,
     "response": null,
     "runnable": true,
     "type": "markdown"
    }
   },
   "source": [
    "2.4 Explain the difference in the information we get from F vs. PRE?"
   ]
  },
  {
   "cell_type": "markdown",
   "metadata": {
    "nbsimplegrader": {
     "config_key": "markdown.edit-and-run",
     "editable": true,
     "label": "Markdown: Edit-and-Run",
     "respondable": false,
     "response": null,
     "runnable": true,
     "type": "markdown"
    }
   },
   "source": [
    "## Head back to the Main Room"
   ]
  },
  {
   "cell_type": "markdown",
   "metadata": {},
   "source": [
    "# Section 3: Comparing to a Qualitative Variable Model"
   ]
  },
  {
   "cell_type": "markdown",
   "metadata": {
    "nbsimplegrader": {
     "config_key": "markdown.view-only",
     "editable": false,
     "label": "Markdown: View-Only",
     "respondable": false,
     "response": null,
     "runnable": false,
     "type": "markdown"
    }
   },
   "source": [
    "There are relative pros and cons in treating Fear as a quantitative or qualitative variable. Let's explore some of the differences from the models depending on the way we fit it. "
   ]
  },
  {
   "cell_type": "markdown",
   "metadata": {
    "nbsimplegrader": {
     "config_key": "markdown.edit-and-run",
     "editable": true,
     "label": "Markdown: Edit-and-Run",
     "respondable": false,
     "response": null,
     "runnable": true,
     "type": "markdown"
    }
   },
   "source": [
    "3.1 Fit a linear model with your fear variable as a factor (e.g., `factor(Fear.General)`). "
   ]
  },
  {
   "cell_type": "code",
   "execution_count": null,
   "metadata": {
    "nbsimplegrader": {
     "config_key": "code.response",
     "editable": true,
     "label": "Response: Code",
     "respondable": true,
     "response": null,
     "runnable": true,
     "type": "code"
    }
   },
   "outputs": [],
   "source": [
    "# Write your Code here"
   ]
  },
  {
   "cell_type": "markdown",
   "metadata": {
    "nbsimplegrader": {
     "config_key": "markdown.response",
     "editable": true,
     "label": "Response: Markdown",
     "respondable": true,
     "response": null,
     "runnable": true,
     "type": "markdown"
    }
   },
   "source": [
    "3.2 Which group is being treated as the reference group?"
   ]
  },
  {
   "cell_type": "markdown",
   "metadata": {
    "nbsimplegrader": {
     "config_key": "markdown.response",
     "editable": true,
     "label": "Response: Markdown",
     "respondable": true,
     "response": null,
     "runnable": true,
     "type": "markdown"
    }
   },
   "source": [
    "3.3 Based on the output of the model do you think there is a clear pattern of whether people feel more or less enjoyment when they feel more or less fearful?"
   ]
  },
  {
   "cell_type": "markdown",
   "metadata": {
    "nbsimplegrader": {
     "config_key": "markdown.edit-and-run",
     "editable": true,
     "label": "Markdown: Edit-and-Run",
     "respondable": false,
     "response": null,
     "runnable": true,
     "type": "markdown"
    }
   },
   "source": [
    "3.4 Save the predicted scores from the 10 group model as a variable called `tengrouppred` in the `feardata` then use the code below to graph the predictions. Change EXPLANATORYVARIABLE to your explanatory variable for your location to visualize the predictions. "
   ]
  },
  {
   "cell_type": "code",
   "execution_count": null,
   "metadata": {
    "nbsimplegrader": {
     "config_key": "code.response",
     "editable": true,
     "label": "Response: Code",
     "respondable": true,
     "response": null,
     "runnable": true,
     "type": "code"
    }
   },
   "outputs": [],
   "source": [
    "#add some code to save the predictions\n",
    "gf_point(tengrouppred~EXPLANATORYVARIABLE)"
   ]
  },
  {
   "cell_type": "markdown",
   "metadata": {
    "nbsimplegrader": {
     "config_key": "markdown.response",
     "editable": true,
     "label": "Response: Markdown",
     "respondable": true,
     "response": null,
     "runnable": true,
     "type": "markdown"
    }
   },
   "source": [
    "3.5 Based on the visualization does there seem to be a clear increasing or decreasing pattern?"
   ]
  },
  {
   "cell_type": "markdown",
   "metadata": {
    "nbsimplegrader": {
     "config_key": "markdown.response",
     "editable": true,
     "label": "Response: Markdown",
     "respondable": true,
     "response": null,
     "runnable": true,
     "type": "markdown"
    }
   },
   "source": [
    "3.6 Compare the ANOVA table from the quantitative predictor model to the ANOVA table from the 10 group model. Which has a larger PRE? Which has a larger F? Based on these statistics which model seems to better capture the patterns in the data? "
   ]
  },
  {
   "cell_type": "markdown",
   "metadata": {
    "nbsimplegrader": {
     "config_key": "markdown.edit-and-run",
     "editable": true,
     "label": "Markdown: Edit-and-Run",
     "respondable": false,
     "response": null,
     "runnable": true,
     "type": "markdown"
    }
   },
   "source": [
    "In the actual study, they found there was a quadratic relationship between fear and enjoyment. This means the relationship is not linear, but more like a parabola. The pattern they found was that enjoyment increases with fear to a certain point, but after that point it goes down. Does this align with what you would expect?\n",
    "\n",
    "Below is the figure from the paper. They used a mode advanced modeling strategy to combine information across all of the locations. This approach is called multilevel modeling, but it's very similar to the GLM! But in the GLM we assume that all the $e_i$s are unrelated to each other (they are independent), multilevel modeling allows them to be dependent (i.e., responses from the same person about different locations might be more similar to each other than responses from different people about different locations). \n",
    "\n",
    "<img src=https://i.imgur.com/hh9Vqp9.jpg width=\"70%\">"
   ]
  }
 ],
 "metadata": {
  "kernelspec": {
   "display_name": "R",
   "language": "R",
   "name": "ir"
  },
  "language_info": {
   "codemirror_mode": "r",
   "file_extension": ".r",
   "mimetype": "text/x-r-source",
   "name": "R",
   "pygments_lexer": "r",
   "version": "4.1.2"
  },
  "nbsimplegrader": {
   "is_published": true,
   "publish_config": {
    "classes": [
     "Psych100AFall21_akmontoya"
    ],
    "options": {
     "include_submit": true,
     "lock_notebook": false
    },
    "tools": []
   }
  }
 },
 "nbformat": 4,
 "nbformat_minor": 4
}