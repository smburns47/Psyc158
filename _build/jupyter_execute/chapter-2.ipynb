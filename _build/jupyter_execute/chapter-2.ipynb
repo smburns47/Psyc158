{
 "cells": [
  {
   "cell_type": "markdown",
   "id": "c2ecd4c2",
   "metadata": {},
   "source": [
    "[Back to Table of Contents](https://www.shannonmburns.com/Psyc158/intro.html)\n",
    "\n",
    "[Previous: Chapter 1 - Introduction to Statistical Thinking](https://colab.research.google.com/github/smburns47/Psyc158/blob/main/chapter-1.ipynb)"
   ]
  },
  {
   "cell_type": "markdown",
   "id": "60f2c23b",
   "metadata": {},
   "source": [
    "# Chapter 2 - What are Data\n",
    "\n",
    "Although we can apply statistical techniques to any bunch of numbers, and sometimes we do just make up numbers to analyze (more about that later), we generally want to analyze numbers that represent something about the world. These numbers we refer to as **data**.\n",
    "\n",
    "The first important point about data is that data are – meaning that the word “data” is plural. You might also wonder how to pronounce “data” – some people say “DAY-tah”, some say “DAH-tah.” Some people even use both interchangeably, within the same conversation! Data are the focus and currency of statistics - you can't do it without data, and qualities about the data determine the type of reliability of your analyses. In this chapter, we will introduce you to different types of data, how they are represented in R, and how to reason about when data are good quality or not. "
   ]
  },
  {
   "cell_type": "markdown",
   "id": "991757f5",
   "metadata": {},
   "source": [
    "## 2.1 Representing data in R\n",
    "\n",
    "We’ve used R objects so far to store a single number or message. But in statistics we are dealing with more than one — and sometimes many — numbers. An R object can also store a whole set of numbers. This set together is called a **vector**. You can think of a vector as a list of numbers (or values).\n",
    "\n",
    "The R function ```c()``` can be used to combine a list of individual values into a vector. You could think of the “c” as standing for “combine.” In the following code we have created two vectors (we just named them ```my_vector``` and ```my_vector2```) and put a list of values into each vector."
   ]
  },
  {
   "cell_type": "code",
   "execution_count": null,
   "id": "7182093e",
   "metadata": {
    "vscode": {
     "languageId": "r"
    }
   },
   "outputs": [],
   "source": [
    "# Here is the code to create two vectors my_vector and my_vector2. We just made up those names.\n",
    "\n",
    "# Run the code and see what happens\n",
    "my_vector <- c(2,4,6,8,10)\n",
    "my_vector2 <- c(10,10,10,10,10)\n",
    "\n",
    "# Now write some code to return these two vectors in the R console. Run the code and see what happens.\n"
   ]
  },
  {
   "cell_type": "markdown",
   "id": "83e5dc41",
   "metadata": {},
   "source": [
    "Many functions will take in a vector as the input. For example, try using ```max()``` to find the largest number in ```my_vector```."
   ]
  },
  {
   "cell_type": "code",
   "execution_count": null,
   "id": "f3d3c184",
   "metadata": {
    "vscode": {
     "languageId": "r"
    }
   },
   "outputs": [],
   "source": [
    "# Use max() to find the largest value in my_vector\n"
   ]
  },
  {
   "cell_type": "markdown",
   "id": "31ca88dd",
   "metadata": {},
   "source": [
    "There may be times when you just want to know a subset of the values in a vector, not all of the values. We can **index** a position in the vector by using brackets with a number in it like this: ```[1]```. So if we wanted to print out just the first item in ```my_vector```, we could write ```my_vector[1]```."
   ]
  },
  {
   "cell_type": "code",
   "execution_count": null,
   "id": "98f94d6e",
   "metadata": {
    "vscode": {
     "languageId": "r"
    }
   },
   "outputs": [],
   "source": [
    "# Write code to get the 4th value in my_vector\n"
   ]
  },
  {
   "cell_type": "markdown",
   "id": "fa9a7aed",
   "metadata": {},
   "source": [
    "We're not limited to indexing only one position at a time, either. We can also pass a vector of *index positions* inside the brackets to return only those positions:"
   ]
  },
  {
   "cell_type": "code",
   "execution_count": null,
   "id": "aed3dd4d",
   "metadata": {
    "vscode": {
     "languageId": "r"
    }
   },
   "outputs": [],
   "source": [
    "# This code returns both the 2nd and 4th value in my_vector\n",
    "my_vector[c(2,4)]"
   ]
  },
  {
   "cell_type": "markdown",
   "id": "ae397361",
   "metadata": {},
   "source": [
    "And if we want to return a whole chunk of the vector (say, the 1st through the 4th position), we don't have to type out ```c(1,2,3,4)``` within the brackets. The ```:``` operator works like the word \"through\", such that the code ```1:4``` means \"every value from the 1st to the 4th, inclusive\"."
   ]
  },
  {
   "cell_type": "code",
   "execution_count": null,
   "id": "f0aaa207",
   "metadata": {
    "scrolled": true,
    "vscode": {
     "languageId": "r"
    }
   },
   "outputs": [],
   "source": [
    "# This code returns the 1st through the 4th values in my_vector\n",
    "my_vector[1:4]"
   ]
  },
  {
   "cell_type": "markdown",
   "id": "995fbbd8",
   "metadata": {},
   "source": [
    "Finally, what if we want to return every item in a vector *except* a particular one? Then we get to use what's called **negative indexing**! Simply put a negative sign in front of an index position, and that will *remove* the item at that position from the output. "
   ]
  },
  {
   "cell_type": "code",
   "execution_count": null,
   "id": "af5719e6",
   "metadata": {
    "vscode": {
     "languageId": "r"
    }
   },
   "outputs": [],
   "source": [
    "# This code returns my_vector, but without the 3rd item\n",
    "my_vector[-3]\n",
    "\n",
    "# Try using both the colon method and the negative indexing method as different ways to return \n",
    "# the vector (2,3,4,5) using my_vector\n"
   ]
  },
  {
   "cell_type": "markdown",
   "id": "77432776",
   "metadata": {},
   "source": [
    "## 2.2 Data types\n",
    "\n",
    "Data are the measurements that make up **variables**. Variables are sets of measurements that, across many values, will vary in some way. For example, human intelligence is a variable because everyone has a separate intelligence score and we would likely measure different values for different people. The values of intelligence would vary person to person. In contrast, people's species is *not* a variable, since by definition all humans are *homo sapien.* There's no variation datapoint to datapoint. \n",
    "\n",
    "### Qualitative data\n",
    "There are different types of variables. Some are **qualitative**, meaning that they describe a quality rather than a numeric quantity. For example, say we ran a survey in class that asked “What is your favorite food?” Some of the answers may be: blueberries, chocolate, tamales, pasta, and pizza. Those data are not intrinsically numerical; there's nothing to indicate quantity or numerical relations among them.\n",
    "\n",
    "In R, there are also different types of objects we can rely on to represent different data types. We can represent qualitative data like words or letters with the **character** value type. Remember at the beginning of Chapter 1 when you printed out ```\"hello world!\"```? By putting those words within a set of quotation marks, we created a character-type object. This is also known in other programming languages as a \"string\". If we forget the quotes, R will think that a word is a name of an object instead of a character value. Note that numbers can also be turned into character values - for example, when 20 is in quotation marks like this – “20” – it will be treated as a character value, even though it includes a number. R doesn’t care whether you use single quotes, ‘like this’, or double quotes, ”like that\". "
   ]
  },
  {
   "cell_type": "code",
   "execution_count": null,
   "id": "58675279",
   "metadata": {
    "vscode": {
     "languageId": "r"
    }
   },
   "outputs": [],
   "source": [
    "#example of a character value\n",
    "my_character <- \"I am a character.\"\n",
    "my_character"
   ]
  },
  {
   "cell_type": "markdown",
   "id": "ad52fe04",
   "metadata": {},
   "source": [
    "You can also put character objects into a vector, to represent a set of qualitative data. "
   ]
  },
  {
   "cell_type": "code",
   "execution_count": null,
   "id": "a4d13662",
   "metadata": {
    "vscode": {
     "languageId": "r"
    }
   },
   "outputs": [],
   "source": [
    "many_hellos <- c(\"shalom\", \"hello\", \"hola\", \"bonjour\", \"ni hao\", \"merhaba\")\n",
    "\n",
    "# Write code to print out the 5th way of saying hello in this vector\n"
   ]
  },
  {
   "cell_type": "markdown",
   "id": "d7b76653",
   "metadata": {},
   "source": [
    "### Numeric data\n",
    "In statistics we will also work with **quantitative** data. This means data that are numerical. It is often easier to work with quantitative over qualitative data - this let's us do more mathematical computations like finding the mean. For example, this table shows the results from the same class favorite food survey, but presented in a different way:\n",
    "\n",
    "| Food choice      | Number of students |\n",
    "| :--------------: | :----------------: |\n",
    "| blueberries      | 2                  |\n",
    "| chocolate        | 8                  |\n",
    "| tamales          | 5                  |\n",
    "| pasta            | 6                  |\n",
    "| pizza            | 10                 |\n",
    "\n",
    "The students’ answers were qualitative, but we generated a quantitative summary of them by counting how many students gave each response.\n",
    "\n",
    "In R, when the program sees typed numbers, it will usually assume you're talking about a **numeric** value type. However, don't assume that if *you* see numbers in some data, that the variable is definitely quantitative. A researcher might choose to use numbers as a sort of code or label, in place of the full qualitative description. For example, if they recorded what hand every student in a class used to write with, they could save the variable as:\n",
    "\n",
    "```handedness_word <- c(\"left\",\"right\",\"right\",\"right\",\"right\",\"left\",\"right\",\"right\",\"right\")```\n",
    "\n",
    "That's a lot of typing though. Instead, they could choose to assign \"right\" the value of 1, and \"left\" the value of 2.\n",
    "This would create a vector like:\n",
    "\n",
    "```handedness_label <- c(2,1,1,1,1,2,1,1,1)```\n",
    "\n",
    "Much shorter to write!"
   ]
  },
  {
   "cell_type": "markdown",
   "id": "ebfba859",
   "metadata": {},
   "source": [
    " ### Boolean data\n",
    " **Boolean** values (also called \"logical values\") are either True or False - they represent the truth of a state of reality. Maybe we have a statement such as: \"10 is greater than 5\". We can ask R to evaluate this and return the answer ```TRUE``` or ```FALSE```. We can do that by using logical operators like ```>```, ```<```, ```>=```, ```<=```, and ```==```. The double ```==``` sign checks if two values are equal. There is also a logical operator to check whether values are not equal: ```!=```. For example, ```5 != 3``` is a True statement. Essentially, a boolean represents the answer to a true/false statement. Below is a table of the logic operators in R that you can use for making logic statements.\n",
    " \n",
    "| Symbol | Example use          | Meaning                                              | \n",
    "| :----: | :------------------- | :--------------------------------------------------- | \n",
    "| <      | A < B                | A is less than B                                     | \n",
    "| >      | A > B                | A is greater than B                                  |\n",
    "| ==     | A == B               | A is equal to B                                      |\n",
    "| <=     | A <= B               | A is less than or equal to B                         |\n",
    "| >=     | A >= B               | A is greater than or equal to B                      | \n",
    "| !=     | A != B               | A is not equal to B                                  |\n",
    "| %in%   | A %in% c(B1, B2, B3) | A is in the set \\[B1, B2, B3\\]                       |\n",
    "| &      | A == B & C == D      | A equals B AND C equals D (both statements are true) |\n",
    "| \\|     | A == B \\| C == D     | A equals B OR C equals D (either statement is true)  |\n",
    "\n",
    "In R, we will avoid using the single equal sign, ```=```. If you want to know whether A is equal to B, use the double equal sign, ```==```. The single equal sign is sometimes used instead of the assignment operator, ```<-```, but in more niche cases that you'll learn later. Use the arrow ```<-``` to assign values to an R object, and ```==``` to ask whether two values are equal."
   ]
  },
  {
   "cell_type": "code",
   "execution_count": null,
   "id": "1a5b3cea",
   "metadata": {
    "vscode": {
     "languageId": "r"
    }
   },
   "outputs": [],
   "source": [
    "# Read this code and predict what value will come out of the R console. Then run the code and see if you were right.\n",
    "\n",
    "A <- 1\n",
    "B <- 5\n",
    "\n",
    "comparison <- A > B\n",
    "\n",
    "comparison"
   ]
  },
  {
   "cell_type": "markdown",
   "id": "d019a1c7",
   "metadata": {},
   "source": [
    "Lots of things can be turned into boolean data if you think about it. For example, The researcher above could choose to represent handedness as a boolean, by conceptualizing the variable as \"this person is right-handed.\"\n",
    "\n",
    "```handedness_bool <- c(FALSE, TRUE, TRUE, TRUE, TRUE, FALSE, TRUE, TRUE, TRUE).```\n",
    "\n",
    "Before creating an object, it's good to think about what type the value should be. I.e., think about what operations you plan to do on the object, and thus what type the value needs to be for that operation to make sense. However, sometimes you forget what type an object was that you created a while ago, or you will receive some data from somewhere else with pre-defined objects. If you ever need to find out the type of an object, you can simply use the command ```str([OBJECT_NAME])```. Str is short for \"structure.\" It will print out the type of the object as well as its value."
   ]
  },
  {
   "cell_type": "code",
   "execution_count": null,
   "id": "91f243a8",
   "metadata": {
    "vscode": {
     "languageId": "r"
    }
   },
   "outputs": [],
   "source": [
    "object1 <- \"What am I?\"\n",
    "object2 <- TRUE\n",
    "object3 <- 30\n",
    "\n",
    "#Use str() to print out the type of each object from above\n"
   ]
  },
  {
   "cell_type": "markdown",
   "id": "3680ae5a",
   "metadata": {},
   "source": [
    "<div class=\"alert alert-block alert-info\">\n",
    "<b>Note</b>: There are technically subtypes of values within the umbrella of numeric (double, integer, etc.) or qualitative (character or factor) that refer to how the number is stored in computer memory. You don't need to know the difference for this course, just remember that when R returns one of these for a value type, it's a sort of number or qualitative value.   \n",
    "</div>"
   ]
  },
  {
   "cell_type": "markdown",
   "id": "0282f0ab",
   "metadata": {},
   "source": [
    "## 2.3 Scales of measurement\n",
    "\n",
    "Data types - character, numeric, and boolean - refer to how qualitative and quantitative data are stored in a computer. But we also saw how the data can be represented with all data types. Thus, we should also remember language to refer to the inherent differences between variables in the real world. These divisions are known as a variable's **scale of measurement**. \n",
    "\n",
    "A **categorical** variable (also called a nominal variable) is one like the first favorite food example above. In a nominal variable, each value of the variable represents a different category of something. These categories are distinct, and they're not inherently sortable. You can use character or numeric data types to represent a categorical variable, as discussed above with handedness. As another example, we might ask people for their political party affiliation, and then code those as numbers: 1 = “Republican”, 2 = “Democrat”, 3 = “Libertarian”, and so on. The different numbers do not have any ordered relationship with one another - they're just another way of writing a categorical label.\n",
    "\n",
    "An **ordinal** variable has values where the magnitude matters, but only for ordering the values, not for determining how far apart any of the levels are from each other. For example, we might ask a person with chronic pain to complete a form assessing how bad their pain is, using a 1-7 numeric scale. While the person is presumably feeling more pain on a day when they report a 6 versus a day when they report a 3, it wouldn’t make sense to say that their pain is twice as bad on the former versus the latter day - there isn't a unit of measurement available, only a sense of one option being stronger than another. The ordering gives us information about relative magnitude, but the differences between values are not necessarily equal in magnitude.\n",
    "\n",
    "An **interval** variable has all of the features of an ordinal scale, but in addition the distance between units on the measurement scale are measurable and consistent. A standard example is temperature; the physical difference between 10 and 20 degrees is the same as the physical difference between 90 and 100 degrees."
   ]
  },
  {
   "cell_type": "markdown",
   "id": "d891004d",
   "metadata": {},
   "source": [
    "## 2.4 Converting data\n",
    "\n",
    "Sometimes you will have data in one format that you would prefer to have in another - e.g., you have a variable for someone's zip code, but R is trying to evaluate that data type as quantitative instead of categorical. That doesn't make sense - Pomona's zip code 91711 isn't quantitatively comparable to Harvard's 01434, it's just using numbers to denote a category (Pomona is of course comparable and better than Harvard in other ways!). How though would you convince R to treat these numbers as a categorical variable?\n",
    "\n",
    "Luckily, you don't need to rewrite the whole zipcode data vector with quotations manually. You can use a function to classify the vector of numbers as a character variable. The function that converts numerical data to character is ```as.character()```. Try it out below."
   ]
  },
  {
   "cell_type": "code",
   "execution_count": null,
   "id": "c68e2bec",
   "metadata": {
    "vscode": {
     "languageId": "r"
    }
   },
   "outputs": [],
   "source": [
    "zipcodes <- c(01267, 01002, 19081, 91711, 02481, 04011, 21402, 91711, 55057, 05753)\n",
    "str(zipcodes)\n",
    "\n",
    "# Use the as.character() function on zipcodes, assign it to zipcodes_char, and then return the type \n",
    "# of that new object\n",
    "zipcodes_char <- #replace this comment with your code\n",
    "str(zipcodes_char)"
   ]
  },
  {
   "cell_type": "markdown",
   "id": "3f719317",
   "metadata": {},
   "source": [
    "We can also turn a character variable back into a numeric variable by using the ```as.numeric()``` function. This is useful in the case where a dataset has numbers that accidentally get saved as character types."
   ]
  },
  {
   "cell_type": "code",
   "execution_count": null,
   "id": "118b8103",
   "metadata": {
    "vscode": {
     "languageId": "r"
    }
   },
   "outputs": [],
   "source": [
    "zipcodes_numeric <- as.numeric(zipcodes_char)\n",
    "str(zipcodes_numeric)"
   ]
  },
  {
   "cell_type": "markdown",
   "id": "07aad3cd",
   "metadata": {},
   "source": [
    "When we code the values of a variable using numbers, it is always important to keep in mind what the numbers mean. The value 2 has a very different meaning if it represents the handedness of a person (e.g., left) than if it represents their height in inches (very short!). When we use statistical software to analyze data, the software processes the numbers. But the software doesn’t know what the numbers actually mean. Only you know that.\n",
    "\n",
    "We can also convert the actual *values* of data within variables. For example, you have water depth data measured in inches, but you'd prefer to see it in feet. In this case, you will need to transform each value in the vector holding that data. \n",
    "\n",
    "You don't have to manually retype the vector to do this. Vectors in R work like vectors in linear algebra. So, if you have a constant value you want to modify a vector by, you can simply use the mathematical operation between that value and the vector object. E.g., in the example above, you could write ```water_depth / 12``` to convert every water depth measurement from inches to feet. When you use an operation between a vector and a single value, R will apply that operation to every item in the vector individually. "
   ]
  },
  {
   "cell_type": "code",
   "execution_count": null,
   "id": "c638f089",
   "metadata": {
    "vscode": {
     "languageId": "r"
    }
   },
   "outputs": [],
   "source": [
    "my_vector <- c(1,2,3,4,5)\n",
    "\n",
    "# write code to multiply each number in my_vector by 100"
   ]
  },
  {
   "cell_type": "markdown",
   "id": "a732d78c",
   "metadata": {},
   "source": [
    "Notice that when you do a calculation with a vector, you’ll get a vector of numbers as the answer, not just a single number.\n",
    "\n",
    "After you multiply ```my_vector``` by 100, what will happen if you return ```my_vector```? Will you get the original vector (1,2,3,4,5), or one that has the hundreds (100,200,300,400,500)? Try running this code to see what happens."
   ]
  },
  {
   "cell_type": "code",
   "execution_count": null,
   "id": "a99a5cf9",
   "metadata": {
    "vscode": {
     "languageId": "r"
    }
   },
   "outputs": [],
   "source": [
    "# Run the code below to see what happens\n",
    "my_vector <- c(1,2,3,4,5)\n",
    "my_vector * 100\n",
    "\n",
    "# This will return my_vector\n",
    "my_vector\n"
   ]
  },
  {
   "cell_type": "markdown",
   "id": "e1caff27",
   "metadata": {},
   "source": [
    "Remember, R will do the calculations, but if you want something saved, you have to assign it somewhere. Try writing some code to compute ```my_vector * 100``` and then assign the result back into ```my_vector```. If you do this, it will replace the old contents of ```my_vector``` with the new contents (i.e., the product of ```my_vector``` and 100). (Hint: you can use objects in the same command where you redefine their values)."
   ]
  },
  {
   "cell_type": "code",
   "execution_count": null,
   "id": "8c8fb49c",
   "metadata": {
    "vscode": {
     "languageId": "r"
    }
   },
   "outputs": [],
   "source": [
    "# This creates `my_vector` and stores 1, 2, 3, 4, 5 in it\n",
    "my_vector <- c(1,2,3,4,5)\n",
    "\n",
    "# Now write code to save `my_vector * 100` back into `my_vector`\n",
    "my_vector <- #replace this comment with your code\n"
   ]
  },
  {
   "cell_type": "markdown",
   "id": "4a3abc9f",
   "metadata": {},
   "source": [
    "We can also create Boolean vectors by subjecting a whole vector to a logical statement. Since a logical statement is an operation, R will apply it to every item in the handedness vector."
   ]
  },
  {
   "cell_type": "code",
   "execution_count": null,
   "id": "504b6e2f",
   "metadata": {
    "vscode": {
     "languageId": "r"
    }
   },
   "outputs": [],
   "source": [
    "handedness <- c(2,1,1,1,1,2,1,1,1)\n",
    "handedness_bool <- handedness == 1\n",
    "\n",
    "handedness_bool\n"
   ]
  },
  {
   "cell_type": "code",
   "execution_count": null,
   "id": "482ecb8e",
   "metadata": {
    "vscode": {
     "languageId": "r"
    }
   },
   "outputs": [],
   "source": [
    "# What do you expect from this code? Make a guess first, then run the code to see what happens. \n",
    "\n",
    "handedness <- c(2,1,1,1,1,2,1,1,1)\n",
    "footedness <- c(2,1,1,1,1,1,1,2,1)\n",
    "\n",
    "hand_foot_alignment <- handedness == footedness\n",
    "hand_foot_alignment"
   ]
  },
  {
   "cell_type": "markdown",
   "id": "0add59fb",
   "metadata": {},
   "source": [
    "Sometimes you will need to do something more complicated. Instead of modifying each value in a vector by the same amount, you want to make a different modification. E.g., say you want to know how much each person improved their SAT scores with practice, but you only have their first and last scores saved as data. Everyone improves at different rates, so you can't add the same score to each person. Instead, you could do ```end_score - beginning_score```. If both ```end_score``` and ```beginning_score``` are vectors of the same length, R will apply the operation to each item *pairwise*: the first item of ```beginning_score``` will be subtracted from the first item of ```end_score```, the second from the second, third from the third, and so on."
   ]
  },
  {
   "cell_type": "code",
   "execution_count": null,
   "id": "7fa7c0d8",
   "metadata": {
    "vscode": {
     "languageId": "r"
    }
   },
   "outputs": [],
   "source": [
    "end_score <- c(1400, 1450, 1500, 1200, 1150, 1600)\n",
    "beginning_score <- c(1350, 1400, 1400, 1200, 1100, 1400)\n",
    "\n",
    "#write code that will subtract beginning_score from end_score, and return the resulting vector\n",
    "change_score <- #write your code here"
   ]
  },
  {
   "cell_type": "markdown",
   "id": "0e771cc6",
   "metadata": {},
   "source": [
    "## 2.5 What makes good data?\n",
    "\n",
    "Data are meant to be a clear and accurate representation of some value out in the world. However, in many fields such as psychology, the thing that we are measuring is not a physical feature, but instead an unobservable theoretical concept, which we usually refer to as a **construct**. For example, let’s say that we want to test how well you understand the distinction between categorical, ordinal, and interval scales of measurement (do you remember? test yourself!). The professor could give you a pop quiz that would ask you several questions about these concepts and count how many you got right. This would be one way to try and measure the construct that is your knowledge. However, constructs are difficult to measure well. There are several things that can get in the way of good measurement, meaning your recorded data don't perfectly represent what the values are in the real world.\n",
    "\n",
    "### Reliability \n",
    "\n",
    "**Reliability** refers to the consistency of our measurements. One common form of reliability, known as **test-retest reliability**, measures how well the measurements agree if the same measurement is performed twice. For example, someone might give you a cognitive test of spatial reasoning twice, once today and once tomorrow, and compare your scores on the two days. If the test is a good measurement of your true spatial reasoning ability (which shouldn't change on such a short time scale), we would hope that the scores would be very similar to one another.\n",
    "\n",
    "Another way to assess reliability comes in cases where the data include subjective judgments. For example, let’s say that a researcher wants to determine whether a treatment changes how well an autistic child interacts with other children, which is measured by having experts watch the child and rate their interactions with the other children. In this case we would like to make sure that the answers don’t depend on who is doing the rating. That is, we would like for there to be high **inter-rater reliability**. This can be assessed by having more than one rater perform the rating, and then comparing their ratings to make sure that they agree well with one another.\n",
    "\n",
    "Reliability is important if we want to compare one measurement to another, because the relationship between two different variables can’t be any stronger than the relationship between either of the variables and itself (i.e., its reliability). An unreliable measure will never have a strong statistical relationship with any other measure. For this reason, researchers developing a new measurement (such as a new survey) will often go to great lengths to establish and improve its reliability.\n",
    "\n",
    "### Validity\n",
    "\n",
    "If a measured variable proves to be unreliable, there are a few reasons why. One is the **validity** of the variable. This means we want to make sure that we are actually measuring the construct that we think we are measuring. There are many different types of validity that are discussed in human subjects research; here are some common ones.\n",
    "\n",
    "**Face validity** - Does the measurement make sense on its face? If I were to tell you that I was going to measure a person’s blood pressure by looking at the color of their tongue, you would probably think that this was not a valid measure on its face. On the other hand, using a blood pressure cuff would have face validity. This is usually a first reality check before we dive into more complicated aspects of validity. If you read about a construct measurement that doesn't seem face valid to you (e.g., \"what your shirt color says about you!!\"), you should be immediately suspicious of it until there is good evidence of other validity.\n",
    "\n",
    "Is the measurement related to other measurements in an appropriate way? This is often subdivided into two aspects. **Convergent validity** means that the measurement should be closely related to other measures that are thought to reflect the same or similar construct. Let’s say that I am interested in measuring how extroverted a person is using either a questionnaire or an interview. Convergent validity would be demonstrated if both of these different measurements are closely related to one another. On the other hand, measurements thought to reflect different constructs should be unrelated, known as **divergent validity**. If my theory of personality says that extraversion and conscientiousness are two distinct constructs, then I should also see that my measurements of extraversion are unrelated to measurements of conscientiousness.\n",
    "\n",
    "Low validity can be a reason why a measured variable is unreliable. In that case, you are probably measuring something else that varies more than expected, or you're measuring just noise. But note that even if a variable is reliable, that doesn't automatically make it valid. I could score your well-being as \"excellent\" every day that you aren't in the hospital, which would probably have high test-retest reliability. But that misses important variations in mental health, financial security, social connection, etc. that would impact your sense of wellness. In this way, hospitalization is not an entirely valid measure of well-being. \n",
    "\n",
    "<img src=\"images/ch3-relyvalid.png\" width=\"600\">\n",
    "\n",
    "*A figure demonstrating the distinction between reliability and validity, using shots at a bullseye. The consistency of location of shots is a metaphor for reliability, and the accuracy of the shots with respect to the center of the bullseye.*\n",
    "\n",
    "### Measurement error \n",
    "\n",
    "Another reason for low reliability in data is **measurement error**. Even if we are measuring a valid construct, our recorded values may be different from reality because of an imperfect measurement system. Measurement error can come from lots of places - a poorly calibrated timer, participant motion during a brain imaging session, imperfect self insight while filling out a survey, etc. \n",
    "\n",
    "We generally want our measurement error to be as low as possible, so you'll need to think hard about how you can improve the quality of your measurement system (for example, using a better timer to measure reaction time). Another option to improve measurement error if your measurement system can't be perfected is to measure many times and average the values together. This is what is happening when you answer a survey with many similar questions, or do a psych study with many trials. \n",
    "\n",
    "### Outliers and missing values\n",
    "\n",
    "Reliability, validity, and measurement error are properties of an entire variable, meaning all data values recorded are affected in some way. However not every research participant is the same, so not every participant will have the same experience in your study. It is possible that most data points in your dataset are good data, but a few people misunderstand a question or or skip it for some personal reason. Humans are messy like that. In these cases, you'll have a few data points that don't represent the correct real world value. \n",
    "\n",
    "If some datapoint is very unusual compared to the rest of the dataset (e.g. someone reporting their age as \"211\" when everyone else is 18-24), that is called an **outlier**. Not all outliers are invalid data points - it's possible to get a very tall person in your sample of otherwise short people, for instance. But if a datapoint value is unusual because it is not recorded correctly, that is the kind of bad outlier than can mess up analyses. \n",
    "\n",
    "If a datapoint is missing entirely, that is a **missing value**. Some analyses can be computed with missing data included no sweat, but some others mathematically break and thus need researcher intervention. \n",
    "\n",
    "There are some actions a researcher can take to handle bad outliers and missing values while maintaining the integrity of their dataset. In chapters 4 and 5 we will discuss methods of identifying and dealing with bad data points from a larger set.  "
   ]
  },
  {
   "cell_type": "markdown",
   "id": "b1c2e220",
   "metadata": {},
   "source": [
    "## Chapter summary\n",
    "\n",
    "After reading this chapter, you should be able to:\n",
    "\n",
    "- Define a variable\n",
    "- Make a vector in R\n",
    "- Describe the difference between qualitative and quantitative data\n",
    "- Covert vectors of data into different data types\n",
    "- Explain the difference between categorical, ordinal, and interval data\n",
    "- Do basic math operations on vectors\n",
    "- Talk about the reasons data can be more or less reliable\n",
    "\n",
    "## New concepts\n",
    "\n",
    "- **data**: The quantities, characters, or symbols representing values from multiple entities, on which mathematical operations can be computed.\n",
    "- **vector**: A type of data structure in R that stores a list of elements. \n",
    "- **index**: The position in a vector of a particular value. One indexes a vector with the position number in order to access that value. \n",
    "- **negative indexing**: The process of accessing all values in a vector *except* the positions named. \n",
    "- **variable**: any characteristic, number, or quantity of an entity that can be measured or counted and that varies from entity to entity.\n",
    "- **data type**: The way a data value is represented in a computer. \n",
    "- **qualitative data**: Non-numerical information that describes characteristics or qualities. \n",
    "- **character**: a common way of representing qualitative data in R, with alphanumeric symbols surrounded by quotes.\n",
    "- **quantitative data**: Information that can be represented with numbers. \n",
    "- **numeric**: a common R data type for representing quantitative data. Subtypes include integer (int) for whole numbers and double (dbl) for decimals. \n",
    "- **Boolean**: a data type that can have only two possible values: true or false. \n",
    "- **scale of measurement**: The way values of a variable inherently relate to each other in the real world. \n",
    "- **categorical data**: A scale of measurement where data values cannot be ranked or numerically calculated on, only classified. Examples include names or places. \n",
    "- **ordinal data**: A scale of measurement where data values have a natural order, but the distance between each level is not physically defined. Examples include unitless rating scales.  \n",
    "- **interval data**: A scale of measurement where data values have a natural order and the distance between each level is physically defined and there is an equal distance between each subsequent value. Examples include temperature or distance. \n",
    "- **construct**: A theoretical psychological phenomenon one wishes to study, such as intelligence, mental health, prejudice, etc. \n",
    "- **reliability**: The consistency of values produced by a measurement method when measuring the same thing.  \n",
    "- **test-retest reliability**: A type of reliability representing the agreement between measurements conducted on the same entity at different time points. \n",
    "- **inter-rater reliability**: A type of reliability representing the agreement between different observers who rated the same entity on some variable. \n",
    "- **validity**: The extent to which a measurement tool accurately measures the construct it is intended to measure. \n",
    "- **face validity**: A type of validity where a measurement method makes sense for the construct \"on its face.\" \n",
    "- **convergent validity**: A type of validity where a measurement method of a construct produces similar values to measurements of closely related constructs. \n",
    "- **divergent validity**: A type of validity where a measurement method of a construct produces dissimilar values to measurements of unrelated constructs. \n",
    "- **measurement error**: Deviations between values produced by a measurement method and the true value of what is being measured. \n",
    "- **outlier**: A data value that is very different than the rest of the sample it belongs to. An outlier may or may not be a valid value. \n",
    "- **missing data**: Data values that are left blank or otherwise unrecorded during a research study. This could be due to equipment failure, participant non-compliance, etc. \n",
    "\n",
    "## New R functionality\n",
    "\n",
    "- [c()](https://www.rdocumentation.org/packages/base/versions/3.6.2/topics/c)\n",
    "- [max() & min()](https://www.digitalocean.com/community/tutorials/min-max-in-r)\n",
    "- [indexing](https://rspatial.org/intr/4-indexing.html)\n",
    "- [data types](https://www.geeksforgeeks.org/r-data-types/)\n",
    "- [str()](https://www.rdocumentation.org/packages/utils/versions/3.6.2/topics/str)\n",
    "- [as.character()](https://www.rdocumentation.org/packages/base/versions/3.6.2/topics/character)\n",
    "- [as.numeric()](https://www.rdocumentation.org/packages/base/versions/3.6.2/topics/numeric)\n"
   ]
  },
  {
   "cell_type": "markdown",
   "id": "b9c6e063",
   "metadata": {},
   "source": [
    "[Next: Chapter 3 - Organizing Data](https://colab.research.google.com/github/smburns47/Psyc158/blob/main/chapter-3.ipynb)"
   ]
  }
 ],
 "metadata": {
  "kernelspec": {
   "display_name": "R",
   "language": "R",
   "name": "ir"
  },
  "language_info": {
   "codemirror_mode": "r",
   "file_extension": ".r",
   "mimetype": "text/x-r-source",
   "name": "R",
   "pygments_lexer": "r",
   "version": "4.3.2"
  }
 },
 "nbformat": 4,
 "nbformat_minor": 5
}