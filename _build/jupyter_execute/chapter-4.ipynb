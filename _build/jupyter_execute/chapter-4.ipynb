{
 "cells": [
  {
   "cell_type": "markdown",
   "id": "9a90ac87",
   "metadata": {},
   "source": [
    "[Back to Table of Contents](https://www.shannonmburns.com/Psyc158/intro.html)\n",
    "\n",
    "[Previous: Chapter 3 - What are Data](https://colab.research.google.com/github/smburns47/Psyc158/blob/main/chapter-3.ipynb)"
   ]
  },
  {
   "cell_type": "markdown",
   "id": "907352d0",
   "metadata": {},
   "source": [
    "# Chapter 4 - Organizing Data\n",
    "\n",
    "## 4.1 The structure of data \n",
    "\n",
    "Data can come to us in many forms. If you collect data yourself, you may start out with numbers written on scraps of paper. Or you may get a computer file filled with numbers and words of various sorts, representing many variables at once. \n",
    "\n",
    "So far we have worked with one variable at a time, which is easy to visualize and understand simply by printing its vector. However, most real-world data has many variables stored at once. To manage this, it is necessary to organize and format data so that they are easy to analyze using statistical software. There is no one way to organize data, but there is a way that is most common, and that is what we recommend you use.\n",
    "\n",
    "This common way is called a **data frame**. Under this framework, data are stored into rectangular tables, with rows and columns. What goes on each row and column follows four principles:\n",
    "\n",
    "- Each column is a variable\n",
    "- Each row is an observation \n",
    "- The first row contains the names of all the variables\n",
    "- The data within a dataframe are from the same dataset\n",
    "\n",
    "Rectangular tables of this sort are represented in R using a new data type - conveniently, called a data frame. The columns are the variables; this is where the results of measures are kept. The rows are the cases sampled. Each value of different variables that are on the same row belong to the same observation (e.g., the same person, zip code, habitat, etc.) Data frames provide a way to save information such as column headings (i.e., variable names) in the same table as the actual data values.\n",
    "\n",
    "Principle 4 above simply states that the types of observations that form the rows cannot be mixed within a single table. So, for example, you wouldn’t have rows of college students intermixed with rows of cars or countries or couples. If you have a mix of observation types (e.g., students, families, countries), they each go in a different dataframe.\n",
    "\n",
    "## 4.2 Creating a data frame\n",
    "\n",
    "### Combining vectors\n",
    "Let's see how we create and work with data frames in R. Say we have two vectors, ```x1 <- c(1,2,3,4,5)``` and ```x2 <- c(18,21,20,23,20)```. We can combine these together into a dataframe using the ```data.frame()``` function."
   ]
  },
  {
   "cell_type": "code",
   "execution_count": null,
   "id": "0ae6a733",
   "metadata": {},
   "outputs": [],
   "source": [
    "x1 <- c(1,2,3,4,5)\n",
    "x2 <- c(18,21,20,23,20)\n",
    "data.frame(x1, x2)"
   ]
  },
  {
   "cell_type": "markdown",
   "id": "97f37a79",
   "metadata": {},
   "source": [
    "This function takes as arguments all the vectors you want to combine, and lines them up together as columns in the order you typed them in. This way, you imply that the second item in ```x1``` and the second item in ```x2``` belong to the same observation, since they appear on the same row in the dataframe. This function also gives the variables names based on what the vectors were named. Let's rewrite the code above to give ```x1``` and ```x2``` more meaningful variable names:"
   ]
  },
  {
   "cell_type": "code",
   "execution_count": null,
   "id": "f8c5994d",
   "metadata": {
    "scrolled": true
   },
   "outputs": [],
   "source": [
    "data.frame(user_id = x1, age = x2)\n",
    "\n",
    "#What do you think the <dbl> line in the data frame means? Try googling for an answer! "
   ]
  },
  {
   "cell_type": "markdown",
   "id": "3bae07b2",
   "metadata": {},
   "source": [
    "Using this approach, you can form a dataframe out of any set of variables - well, almost. Try out the code below, and see if you can find why it causes an error. What can we do to fix it? "
   ]
  },
  {
   "cell_type": "code",
   "execution_count": null,
   "id": "511b5aa9",
   "metadata": {},
   "outputs": [],
   "source": [
    "x1 <- c(1,2,3,4,5)\n",
    "x2 <- c(18,21,20,23)\n",
    "data.frame(user_id = x1, age = x2)"
   ]
  },
  {
   "cell_type": "markdown",
   "id": "b7feba26",
   "metadata": {},
   "source": [
    "Since a dataframe is a rectangle, in order for vectors to be combinable, they need to be the same lengths. "
   ]
  },
  {
   "cell_type": "markdown",
   "id": "5219983c",
   "metadata": {},
   "source": [
    "### Importing existing data\n",
    "\n",
    "The vast majority of the time in data analysis, you are not manually creating vectors and dataframes. Instead, you are importing an existing file of data. So for the rest of this chapter we're going to practice working with and understanding an example dataset from a study by [James et al. (2015)](https://journals.sagepub.com/stoken/default+domain/hQ2W4fbPrZVJ7eyNJaqu/full), on how playing Tetris may limit intrusive traumatic memories. In this study, 72 participants watched a traumatic video and were then put into one of four experimental conditions designed to test how often intrusive memories happened.\n",
    "\n",
    "You may have experience opening datasets in programs like Excel with an .xlsx extension. The extension tells you what kind of file format it is - .xlsx, for example, is an excel file. There are many file formats data can be saved in that are more or less easy to open in various software. Our Tetris Memories data is saved as a .csv, meaning a \"comma-separated value\" format, as this is really easy for computer programs to parse. If you were to open this file in a basic text editor program, you'd see rows are separated on different lines, and columns are separated by commas. In R, the ```read.csv()``` function can understand this format and create a rectangle dataframe for us. \n",
    "\n",
    "But before we can load our data, R has to know where on your computer it is located. By default, it only looks in what is called your **working directory** - a specific folder on your computer that R treats as its \"home base,\" per se. You can use the function ```getwd()``` to learn what your current working directory is."
   ]
  },
  {
   "cell_type": "code",
   "execution_count": null,
   "id": "0c26c8c5",
   "metadata": {},
   "outputs": [],
   "source": [
    "getwd()"
   ]
  },
  {
   "cell_type": "markdown",
   "id": "5503d076",
   "metadata": {},
   "source": [
    "Because this book is hosted on a website, the above code should show you the directory where these web files are stored on the web server. On your own computer, ```getwd()``` will return something different. The function ```setwd()``` will point R to a different directory. \n",
    "\n",
    "We've stored the ```tetrismemories.csv``` on another website, so R will be able load it if you use the function ```read.csv()``` and give it the web destination. Try it out below - the only argument you need for the function is the name of the file, in quotes."
   ]
  },
  {
   "cell_type": "code",
   "execution_count": null,
   "id": "0c497bcd",
   "metadata": {},
   "outputs": [],
   "source": [
    "read.csv(\"https://raw.githubusercontent.com/smburns47/Psyc158/main/tetrismemories.csv\")"
   ]
  },
  {
   "cell_type": "markdown",
   "id": "22de7d3c",
   "metadata": {},
   "source": [
    "If it lived on your own computer within the working directory, it would be even simpler to write: ```read.csv(\"tetrismemories.csv\").``` If the data lived in a different directory, for example in a folder called \"datasets\", you'd have to include the relative path to that file that in the filename for R to be able to find it. I.e., ```read.csv(\"datasets/tetrismemories.csv\")```."
   ]
  },
  {
   "cell_type": "markdown",
   "id": "e8bb4fc5",
   "metadata": {},
   "source": [
    "## 4.3 Looking at data\n",
    "\n",
    "The first thing to do when opening a dataset for the first time is to understand it - what each variable is, how many data points, what the variable data types are, etc. \n",
    "\n",
    "After you run the code above, you should see a big print out of the whole dataframe. You might be thinking to yourself, “Wow, that’s a lot to take in!” In fact, this would be considered a small dataset! Real data can have hundreds or thousands of datapoints stored together, with hundreds or thousands of variables recorded. It can get unweildy to look at a whole dataset at once. Thus its usually best to look at a summary of the data in a dataframe, or a sampling of it. \n",
    "\n",
    "We can use certain functions to do this summarizing for us. But first, we have to make sure we save our dataframe so we can keep using it over and over. Remember that we have a new data type, dataframe, which means it can be saved as an object itself. In the code below, read the dataframe into an object called ```tetrismemories```."
   ]
  },
  {
   "cell_type": "code",
   "execution_count": null,
   "id": "e2cfb029",
   "metadata": {},
   "outputs": [],
   "source": [
    "# read the data frame into an object called tetrismemories\n",
    "tetrismemories <- # your code here\n",
    "\n",
    "# check the data type of this object\n",
    "str(tetrismemories)"
   ]
  },
  {
   "cell_type": "markdown",
   "id": "42268ac9",
   "metadata": {},
   "source": [
    "A cool thing about the ```str()``` function is that, when you're working with a complex object like a dataframe that contains many values, it'll tell you the type of the object as a whole as well as the type of every variable within it. Look at the output above - what data type is the variable \"Condition\"? Can you find where it tells you the size of the dataframe? \n",
    "\n",
    "Using ```str()``` lets you summarize the information within a dataframe without opening the whole thing to view. Another way to do it, if you want to see how the dataframe is arranged, is to use the function ```head()```. This will show you just the first 6 lines of the dataframe."
   ]
  },
  {
   "cell_type": "code",
   "execution_count": null,
   "id": "dcb1deaa",
   "metadata": {},
   "outputs": [],
   "source": [
    "#run this code to see the head of the dataframe\n",
    "head(tetrismemories)"
   ]
  },
  {
   "cell_type": "markdown",
   "id": "4cd25a49",
   "metadata": {},
   "source": [
    "Next you probably want to know how big your dataset is - how many observations and how many variables you are working with. The height and width of a dataframe are known as **dimensions**, and the function ```dim()``` will tell you the size of each of them:"
   ]
  },
  {
   "cell_type": "code",
   "execution_count": null,
   "id": "0cbfd075",
   "metadata": {},
   "outputs": [],
   "source": [
    "dim(tetrismemories)"
   ]
  },
  {
   "cell_type": "markdown",
   "id": "0d6e37fd",
   "metadata": {},
   "source": [
    "The first dimension always corresponds to the number of rows, and the second dimension to the number of columns.\n",
    "\n",
    "You can also use code to find the size of specific dimensions of the dataframe. Since observations are rows and variables are columns, you can use specific functions to count how many rows and columns a data frame has. In R, these functions are nrow() (for number of rows) and ncol() (for number of columns)."
   ]
  },
  {
   "cell_type": "code",
   "execution_count": null,
   "id": "da84239a",
   "metadata": {},
   "outputs": [],
   "source": [
    "nrow(tetrismemories)\n",
    "\n",
    "#use ncol() to output the number of variables in tetrismemories\n"
   ]
  },
  {
   "cell_type": "markdown",
   "id": "cf99161d",
   "metadata": {},
   "source": [
    "## 4.4 Accessing variables\n",
    "\n",
    "Oftentimes we want to reference a specific variable within a dataframe. So long as a datafile was saved with the first line having the names of each variable, we can access it using the ```$``` symbol in R. If you want to specify the ```diary_compliance``` variable in the ```tetrismemories``` dataframe, for example, you would write ```tetrismemories$diary_compliance```. \n",
    "\n",
    "Try using the ```$``` symbol to print out just the variable ```diary_compliance``` from ```tetrismemories```."
   ]
  },
  {
   "cell_type": "code",
   "execution_count": null,
   "id": "0a8b3d29",
   "metadata": {},
   "outputs": [],
   "source": [
    "# Use the $ sign to print out the contents of the diary_compliance variable \n",
    "# in the tetrismemories data frame\n"
   ]
  },
  {
   "cell_type": "markdown",
   "id": "27957249",
   "metadata": {},
   "source": [
    "When R is asked to print out a single variable (such as ```diary_compliance```), R prints out each person’s value on the variable all in a row. You can then work with this variable as if it were a single vector, like we used in the previous chapter. This variable measures how many days people kept record of their intrusive memories. Try giving everyone an extra day in the study by adding 1 to the ```diary_compliance``` variable. (Remember that adding a constant to a vector adds that value to every item in the vector)."
   ]
  },
  {
   "cell_type": "code",
   "execution_count": null,
   "id": "9ab80062",
   "metadata": {},
   "outputs": [],
   "source": [
    "# Add 1 to everyone's diary_compliance value  , and print out the result\n"
   ]
  },
  {
   "cell_type": "markdown",
   "id": "5684bf7e",
   "metadata": {},
   "source": [
    "Usually you want to access variables this way - it has more meaning to humans reading code. But just so you know, you can also access variables using index notation with ```[]``` brackets. However, since we know a dataframe has two dimensions (rows and columns), we need to access data using indexing by providing a number value for both which row we want, and which column we want. Recall that rows are always the first dimension and columns are always the second, so we type our indexing like ```[row_num, col_num]```. \n",
    "\n",
    "If we want to print out the entirety of the third row from tetrismemories, we'd use ```tetrismemories[3,]```. Leaving nothing after the comma for column number allows R to return every value in the third row regardless of column. Likewise, returning the entirety of the third *column* from tetrismemories would look like ```tetrismemories[,3]```. Try it out in the code below. "
   ]
  },
  {
   "cell_type": "code",
   "execution_count": null,
   "id": "9ebfb281",
   "metadata": {},
   "outputs": [],
   "source": [
    "#Write code to return the 10th row of tetrismemories\n",
    "\n",
    "#Write code to return the 5th column of tetrismemories\n",
    "\n",
    "#What do you think this code will return?\n",
    "tetrismemories[10,5]"
   ]
  },
  {
   "cell_type": "markdown",
   "id": "4f9efbca",
   "metadata": {},
   "source": [
    "## 4.5 Subsetting data\n",
    "\n",
    "Sometimes you want to focus on a subset of your variables in a data frame. For example, you might care about just the variables ```condition``` and ```instrusive_memories``` in the ```tetrismemories``` dataframe. The output would be easier to read if it only included these variables and not all the others.\n",
    "\n",
    "We can use the ```select()``` function from the ```dplyr``` package to look at just a subset of variables. ```dplyr``` is a very commonly-used package that makes working with dataframes easy (click [here](https://www.rstudio.com/wp-content/uploads/2015/02/data-wrangling-cheatsheet.pdf) for a cheat sheet of many ```dplyr``` functions). When using ```select()```, we first need to tell R which dataframe, then which variables to select from that dataframe."
   ]
  },
  {
   "cell_type": "code",
   "execution_count": null,
   "id": "f12a8f7e",
   "metadata": {},
   "outputs": [],
   "source": [
    "install.packages(\"dplyr\")\n",
    "library(dplyr)\n",
    "\n",
    "#Make a prediction, what do you think this code will do? \n",
    "select(tetrismemories, condition, intrusive_memories)"
   ]
  },
  {
   "cell_type": "markdown",
   "id": "435e6581",
   "metadata": {},
   "source": [
    "You may need to scroll the output up and down to see it all. It’s quite a lot because the function ```select()``` will print out all the values of the selected variables. What the ```select()``` function actually does is return a new data frame with the selected subset of columns.\n",
    "\n",
    "If you want to look at just a few rows of a few variables, we can combine ```head()``` and ```select()``` together in a **nested function.**"
   ]
  },
  {
   "cell_type": "code",
   "execution_count": null,
   "id": "4f562d90",
   "metadata": {},
   "outputs": [],
   "source": [
    "head(select(tetrismemories, condition, intrusive_memories))"
   ]
  },
  {
   "cell_type": "markdown",
   "id": "3d53fadf",
   "metadata": {},
   "source": [
    "Nesting functions allows us to do multiple operations on one line. Nested functions always evaluate from the inside out - ```head()``` is applied to the result of ```select()```. In this case, a new data frame is made by ```select()```, and then ```head()``` returns the first six lines of it. Technically, you can nest as many functions as you want! But it does get harder to read the deeper you go, so beware what your future self will appreciate when reading the code again later. \n",
    "\n",
    "The ```select()``` function lets us look at a subset of variables. But sometimes you might want to look at a subset of observations. Notice the first person in the ```tetrismemories``` dataframe had 4 instrusive memories over the course of the study. Are they the only person with that many? What happens if we put 4 as an argument in ```select()```?"
   ]
  },
  {
   "cell_type": "code",
   "execution_count": null,
   "id": "d48e9801",
   "metadata": {},
   "outputs": [],
   "source": [
    "select(tetrismemories, 4)"
   ]
  },
  {
   "cell_type": "markdown",
   "id": "734037b2",
   "metadata": {},
   "source": [
    "```select()``` only works on *variables* (or columns of the data frame), not values. In this case, since you gave it the number 4 for the second argument, it thought you were asking for the 4th column, so it gave you that.  \n",
    "\n",
    "To get a subset of observations (or rows of the data frame) we use a different function: ```filter()```. This function filters the dataframe to show only those observations (rows) that match some criteria. For example, here is the code that will return only the observations where the number of memories is 4:"
   ]
  },
  {
   "cell_type": "code",
   "execution_count": null,
   "id": "d11ee02e",
   "metadata": {},
   "outputs": [],
   "source": [
    "filter(tetrismemories, intrusive_memories == 4)"
   ]
  },
  {
   "cell_type": "markdown",
   "id": "4b2d3f02",
   "metadata": {},
   "source": [
    "The function ```filter()```, like ```select()```, returns a data frame. In this case, the data frame has ten rows because ten people in the study reported having four intrusive memories. "
   ]
  },
  {
   "cell_type": "code",
   "execution_count": null,
   "id": "8d37dc03",
   "metadata": {},
   "outputs": [],
   "source": [
    "#How would you use filter() to return a dataframe of everyone who had *at least* 4 memories?\n"
   ]
  },
  {
   "cell_type": "markdown",
   "id": "6d18271f",
   "metadata": {},
   "source": [
    "One challenge for students is to keep track of the difference between an observation (e.g., participants, represented in rows), a variable (e.g., ```condition``` or ```intrusive_memories```, represented in columns), and the values a variable can take (e.g., 4, represented in cells). It is helpful to imagine the rows and columns of a data frame when you read about observations and variables, respectively. If the data are in a dataframe format like this (also known as \"tidy\"), the rows will always be observations and the columns, variables.\n",
    "\n",
    "In this course we will be providing most of the data you analyze in a tidy format. However, the world is not always tidy. One day, in the wild world outside of this course, you may have to transform a non-tidy data set into a tidy one."
   ]
  },
  {
   "cell_type": "markdown",
   "id": "eb47f961",
   "metadata": {},
   "source": [
    "## 4.6 Manipulating data\n",
    "\n",
    "Once we've chosen what data we're going to work with, we can use R commands to manipulate the data in various ways. Let’s look at a few common things you might need to do before analyzing your data:\n",
    "\n",
    "- identifying missing data\n",
    "- filtering data\n",
    "- creating new variables\n",
    "- recoding variables\n",
    "\n",
    "### Identifying missing data\n",
    "\n",
    "Sometimes (in fact, usually) we end up with some missing data in our data set. People don't always answer every question on a survey, someone didn't show up to their third doctor's appointment, etc. R represents missing data with the value NA (\"not available\"). It will also recode a blank cell in a file as NA. If your data set represents missing data in some other way (e.g., some people put a nonsense value like -999), you should recode the values as NA when working in R.  \n",
    "\n",
    "Let’s consider the ```tetris_total_score``` variable in the ```tetrismemories``` data frame. First, a function called ```is.na()``` can be used to tell you whether a datapoint is NA or not (it will return ```FALSE``` or ```TRUE```). If we apply that to an entire vector, it will return a vector of falses and trues corresponding to what indices in the vector have an NA value. "
   ]
  },
  {
   "cell_type": "code",
   "execution_count": null,
   "id": "91bbb651",
   "metadata": {
    "scrolled": true
   },
   "outputs": [],
   "source": [
    "# Using is.na() on the tetris_total_score variable to see where NA values might be\n",
    "\n",
    "is.na(tetrismemories$tetris_total_score) #remember variable names are case sensitive!"
   ]
  },
  {
   "cell_type": "markdown",
   "id": "a9801523",
   "metadata": {},
   "source": [
    "Based on this, we can easily see some missing data in this variable - there are ```TRUE``` results to the question \"is this datapoint NA?\" We can also count how many observations have this value by summing this boolean vector with nested functions (remember, ```TRUE``` is also represented as 1 in R, and ```FALSE``` as 0). "
   ]
  },
  {
   "cell_type": "code",
   "execution_count": null,
   "id": "442aabdf",
   "metadata": {
    "scrolled": true
   },
   "outputs": [],
   "source": [
    "sum(is.na(tetrismemories$tetris_total_score))"
   ]
  },
  {
   "cell_type": "markdown",
   "id": "62b94b40",
   "metadata": {},
   "source": [
    "In this dataframe, ```tetris_total_score``` is the score a participant got when they played tetris. Use the code window below to explore whether there are any missing values for a different variable in ```tetrismemories```. Why do you think ```tetris_total_score``` has some missing values?"
   ]
  },
  {
   "cell_type": "code",
   "execution_count": null,
   "id": "1b0dc36d",
   "metadata": {},
   "outputs": [],
   "source": [
    "#Write your code here\n"
   ]
  },
  {
   "cell_type": "markdown",
   "id": "2df9512b",
   "metadata": {},
   "source": [
    "Now that you can find missing data, the big question is - what to do about it? There is a whole area of study in quantitative psychology on what to do with missing data. This is an advanced topic, so we won't get into it in this course. Instead, in future lessons we'll tell you what actions to take for missing data, but just know that there are different opinions out there about what the *best* actions are. "
   ]
  },
  {
   "cell_type": "markdown",
   "id": "44652f52",
   "metadata": {},
   "source": [
    "### Filtering data\n",
    "\n",
    "One of these options is to remove all the observations from a dataset that are missing data on a variable you care about. We can use the ```filter()``` function, introduced previously, to remove observations with missing data from a data frame. For example:"
   ]
  },
  {
   "cell_type": "code",
   "execution_count": null,
   "id": "3aa022a3",
   "metadata": {},
   "outputs": [],
   "source": [
    "filter(tetrismemories, tetris_total_score != \"NA\")"
   ]
  },
  {
   "cell_type": "markdown",
   "id": "f4cc925e",
   "metadata": {},
   "source": [
    "Can you remember what the ```!=``` operator does? This code returns a data frame that includes only cases for which the variable ```tetris_total_score``` is *not* equal to NA. Note that the ```filter()``` function filters in, not out (i.e., keeps).\n",
    "\n",
    "As with anything in R, your filtered dataframe is only temporary unless you save it to an R object. So save the data with no missing ```tetris_total_score``` values in a new data frame called ```tetrismemories_subset```."
   ]
  },
  {
   "cell_type": "code",
   "execution_count": null,
   "id": "1c04f14c",
   "metadata": {},
   "outputs": [],
   "source": [
    "#Write code here to make your new dataframe tetrismemories_subset without any NA in tetris_total_score\n"
   ]
  },
  {
   "cell_type": "markdown",
   "id": "c4b909eb",
   "metadata": {},
   "source": [
    "What do you think would happen if we saved ```filter(tetrismemories, tetris_total_score != \"NA\")``` to the object name ```tetrismemories```? If we save the filtered data to the same data frame name, it will overwrite the original data frame. Doing this would mean we can no longer access the data we filtered out, and we'd have to reload the data file to get it back. This process is called **destructive editing**. In general, we don't want to do this - we don't want to permanently erase any data. Thus if you're manipulating data in a data frame, it's usually best to save the manipulated data as a new object. That way you can always access the original data again if needed. *Definitely* don't save manipulated data frames as a csv that replaces the original file you loaded the data from. "
   ]
  },
  {
   "cell_type": "markdown",
   "id": "2c6a0f24",
   "metadata": {},
   "source": [
    "### Creating new variables \n",
    "\n",
    "Often we use multiple measures of a single attribute because no single measure would be adequate. For instance, it would be difficult to measure school achievement with a grade score from just your English class. And as we talked about last chapter, aggregating over multiple measurements can help with measurement error.\n",
    "\n",
    "However, if you do have multiple measures, you probably will want to combine them into a single variable. In the case of school achievement, a good summary measure might be the average grade earned across all of a student’s courses.\n",
    "\n",
    "It is quite common to create new variables that mutate values from other variables. For example, in ```tetrismemories```, participants reported the total number of intrusive memories they experienced (```intrusive_memories```) over a certain number of days they kept track for (```diary_compliance```). We don't know how many memories per day they were having on average, but we could calculate this by dividing ```intrusive_memories``` by ```diary_compliance``` to make a new variable ```memory_rate```. \n",
    "\n",
    "Making a new variable in a data frame is easy. Simply assign the computed vector to a new variable name using the ```$``` symbol after the data frame name. E.g., ```tetrismemories$memory_rate <- tetrismemories$intrusive_memories / tetrismemories$diary_compliance```. If the variable ```memory_rate``` already exists in the dataframe, R will overwrite it with these new values. If it doesn't, R will create a new variable and append it as a new column to the end of ```tetrismemories```."
   ]
  },
  {
   "cell_type": "code",
   "execution_count": null,
   "id": "98331309",
   "metadata": {},
   "outputs": [],
   "source": [
    "# Create copy of dataset to avoid destructive editing\n",
    "tetrismemories2 <- tetrismemories\n",
    "\n",
    "# Look at all the variables in tetrismemories\n",
    "head(tetrismemories2)\n",
    "\n",
    "# Create a new variable in tetrismemories called memory_rate from intrusive_memories\n",
    "# and diary_compliance\n",
    "tetrismemories2$memory_rate <- tetrismemories$intrusive_memories / tetrismemories$diary_compliance\n",
    "\n",
    "#Look at the updated dataframe, and find where the new variable went\n",
    "head(tetrismemories2)"
   ]
  },
  {
   "cell_type": "markdown",
   "id": "a2e60c73",
   "metadata": {},
   "source": [
    "Whenever you make new variables, or even do anything else in R, it’s a good idea to check to make sure R did what you intended it to do. You can use the ```head()``` function for this. \n",
    "\n",
    "Sometimes you also might want to create a new variable that represents the data in a different way. For example, maybe in one analysis we want to look at only participants who gave memory reports for every day in the study (```diary_compliance == 10```). You can make a new boolean variable that is ```true``` for everyone with a 10 value, and ```false``` for everyone else."
   ]
  },
  {
   "cell_type": "code",
   "execution_count": null,
   "id": "b7f620a6",
   "metadata": {
    "scrolled": true
   },
   "outputs": [],
   "source": [
    "# making a new boolean variable to mark who was fully compliant\n",
    "tetrismemories2$full_compliance <- tetrismemories$diary_compliance == 10\n",
    "head(tetrismemories2)"
   ]
  },
  {
   "cell_type": "code",
   "execution_count": null,
   "id": "cd3a2e3b",
   "metadata": {},
   "outputs": [],
   "source": [
    "# Write some more code below, using filter(), to make a tetrismemories_subset data frame of only\n",
    "# participants who gave reports all 10 days. Does the size of this data frame match what you \n",
    "# expect from the code above?\n"
   ]
  },
  {
   "cell_type": "markdown",
   "id": "78c500cc",
   "metadata": {},
   "source": [
    "Another way of creating variables, but using a function instead of the ```$``` operator, is the ```mutate()``` function from the ```dplyr``` package. When you use ```mutate()```, you need to specify 3 things:\n",
    "\n",
    "- the data frame you want to modify\n",
    "- the name of the new variable that you’ll create\n",
    "- the value you will assign to the new variable\n",
    "\n",
    "Here is code that will make the same ```memory_rate``` variable we created earlier:"
   ]
  },
  {
   "cell_type": "code",
   "execution_count": null,
   "id": "b45453c0",
   "metadata": {},
   "outputs": [],
   "source": [
    "tetrismemories2 <- mutate(tetrismemories, memory_rate = intrusive_memories/diary_compliance)\n",
    "head(tetrismemories2)"
   ]
  },
  {
   "cell_type": "markdown",
   "id": "36cd3b60",
   "metadata": {},
   "source": [
    "```mutate()``` – like all of the ```dplyr``` functions – strictly operates on data frames. It’s not set up to work with lists, matrices, vectors, or other data structures. Thus this code is changing a dataset (\"mutating\" it) to have a new variable. The first argument is the data frame to mutate, and the second argument is called a \"name-value pair\". ```memory_rate``` is not a pre-defined argument in the ```mutate()``` function, but is a \"name\" you are choosing to which you assign a new \"value.\" "
   ]
  },
  {
   "cell_type": "code",
   "execution_count": null,
   "id": "0b932b5f",
   "metadata": {},
   "outputs": [],
   "source": [
    "# Use mutate as another way to make the full_compliance variable from above in tetrismemories2\n"
   ]
  },
  {
   "cell_type": "markdown",
   "id": "5d3db5ba",
   "metadata": {},
   "source": [
    "<div class=\"alert alert-block alert-info\">\n",
    "<b>Note</b>: Are we learning too many functions to memorize? Create a \"cheatsheet\" or page of notes just for keeping track of R functions and how to use them.\n",
    "</div>"
   ]
  },
  {
   "cell_type": "markdown",
   "id": "26980d9a",
   "metadata": {},
   "source": [
    "### Recoding variables\n",
    "\n",
    "There are some instances where you may want to change the way a variable is coded. For instance, the variable ```condition``` is coded 1-4, depending on which condition a participant was in:\n",
    "\n",
    "1. No-task control: These participants completed a 10-minute music filler task.\n",
    "2. Reactivation + Tetris: These participants were shown a series of images from the trauma film to\n",
    "reactivate the traumatic memories (i.e., reactivation task). After a 10-minute music filler task,\n",
    "participants played the video game Tetris for 12 minutes.\n",
    "3. Tetris Only: These participants played Tetris for 12 minutes, but did not complete the reactivation\n",
    "task.\n",
    "4. Reactivation Only: These participants completed the reactivation task, but did not play Tetris.\n",
    "\n",
    "Since these data are inherently qualitative, but currently stored as numbers, we want to transform them into the categorical data type. Recall the ```factor()``` function we learned last chapter, and turn this variable into a factor in ```tetrismemories2```."
   ]
  },
  {
   "cell_type": "code",
   "execution_count": null,
   "id": "bcdebfb3",
   "metadata": {},
   "outputs": [],
   "source": [
    "#Identify the data type of Cond\n",
    "str(tetrismemories2)\n",
    "\n",
    "#Recode condition into a factor, and save it over the original condition variable\n",
    "\n",
    "\n",
    "#Identify the data type of Cond again. Did it change?\n",
    "str(tetrismemories2)"
   ]
  },
  {
   "cell_type": "markdown",
   "id": "85639bb2",
   "metadata": {},
   "source": [
    "Remember that some functions take multiple arguments (such as the dataframe and the variable name), or one argument (just the variable, accessed with ```$```). This means you'll have to remember how functions work, or keep a cheatsheet you can refer back to. \n",
    "\n",
    "What if you don't want to change only the data type, but also the values in a variable? We learned last chapter that the function ```factor()``` can do this with its ```levels``` and ```labels``` arguments. Another way to do it is using the function ```recode()``` like this:\n",
    "\n",
    "```recode(tetrismemories2$condition, \"1\"=\"control\", \"2\"=\"react_tetris\", \"3\"=\"tetris\", \"4\"=\"react\")```\n",
    "\n",
    "In R, there are often multiple ways to do the same thing! In the ```recode()``` function, you need to put the old value in quotes; the new variable could be in quotes (if a character value) or not (if numerical). This function also uses the ```=``` assignment operator instead of ```<-```. This is just for telling R a momentary command inside an argument - you're not permanently assigning 1 in the workspace to have the value of \"control\". Keep using ```<-``` for assigning objects that stick around.\n",
    "\n",
    "As always, whenever we do anything, we might want to save it. Try saving the recoded version of ```condition``` as ```condition_recode```, a new variable in ```tetrismemories2```. Print a few observations of ```condition``` and ```condition_recode``` to check that your recode worked.\n"
   ]
  },
  {
   "cell_type": "code",
   "execution_count": null,
   "id": "7525af35",
   "metadata": {},
   "outputs": [],
   "source": [
    "# Save the recoded version of `condition` to `condition_recode`\n",
    "tetrismemories2$condition_recode <- recode(     )\n",
    "\n",
    "# Write code to print the first 6 observations of `condition` and `condition_recode` only\n",
    "\n"
   ]
  },
  {
   "cell_type": "markdown",
   "id": "d43fd23b",
   "metadata": {},
   "source": [
    "## 4.7 Saving data\n",
    "\n",
    "The majority of data projects you will ever work on will involve some data manipulation steps like this. We often do this to fix problems with raw data files or arrange things in a way that will give us easier time later in analysis. This whole process is called **data cleaning**. While we are only spending one chapter dedicated to this in this course, you will actually find (maybe to some [frustration](https://www.quora.com/Why-do-people-state-that-the-majority-of-work-for-a-data-scientist-is-data-cleaning-not-the-machine-learning-part)) that the majority of time you spend on a data file is cleaning, rather than analyzing. Once you get comfortable with statistics, analysis can be as simple as a few lines of code. But data cleaning can involve many steps and a lot of time figuring out what cleaning steps you even need to take!\n",
    "\n",
    "This is why it is very helpful to save the results of your cleaning after you're done. You don't want to have to go through all that again if you decide later on you want to do a different kind of data analysis. \n",
    "\n",
    "Much as we used ```read.csv()``` to read in data files to R, we can use ```write.csv()``` to save .csv files of our cleaned data. In its most basic use, it only needs two arguments: the data frame object you wish to save, and a string of the file name you wish to save it as (.csv extension must be included). So if we were to save the results of ```tetrismemories2```, we would simply type:"
   ]
  },
  {
   "cell_type": "code",
   "execution_count": null,
   "id": "2653fd59",
   "metadata": {},
   "outputs": [],
   "source": [
    "#saving a data frame into a csv file\n",
    "write.csv(tetrismemories2, \"tetrismemories2.csv\")"
   ]
  },
  {
   "cell_type": "markdown",
   "id": "f03326df",
   "metadata": {},
   "source": [
    "This would create a \"tetrismemories2.csv\" file in the current working directory. "
   ]
  },
  {
   "cell_type": "markdown",
   "id": "6323c693",
   "metadata": {},
   "source": [
    "## Chapter summary\n",
    "\n",
    "After reading this chapter, you should be able to:\n",
    "\n",
    "- load a dataset into R\n",
    "- Explain what the rows and columns of a dataframe mean\n",
    "- Access particular variables in a dataframe\n",
    "- Use select() and filter() to subset a dataframe\n",
    "- Identify missing data\n",
    "- Create and add a new variable to a dataframe\n",
    "- Recode a variable\n",
    "- Save a dataframe to a new file"
   ]
  },
  {
   "cell_type": "markdown",
   "id": "7e6dcc60",
   "metadata": {},
   "source": [
    "[Next: Chapter 5 - Describing Data](https://colab.research.google.com/github/smburns47/Psyc158/blob/main/chapter-5.ipynb)"
   ]
  }
 ],
 "metadata": {
  "kernelspec": {
   "display_name": "R",
   "language": "R",
   "name": "ir"
  },
  "language_info": {
   "codemirror_mode": "r",
   "file_extension": ".r",
   "mimetype": "text/x-r-source",
   "name": "R",
   "pygments_lexer": "r",
   "version": "4.2.3"
  }
 },
 "nbformat": 4,
 "nbformat_minor": 5
}