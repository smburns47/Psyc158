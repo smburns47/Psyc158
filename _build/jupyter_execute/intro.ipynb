{
 "cells": [
  {
   "cell_type": "markdown",
   "id": "ef1330c7",
   "metadata": {},
   "source": [
    "# Pomona College Psych 158 Online Textbook\n",
    "\n",
    "Welcome to Intro to Stats for Psych Science! This text is made for use in Psyc158 and the accompanying lab during the Fall 2022 semester at Pomona, taught by Professor Shannon Burns. Use the Table of Contents below to navigate to each chapter for readings. \n",
    "\n",
    "```{tableofcontents}\n",
    "```"
   ]
  }
 ],
 "metadata": {
  "kernelspec": {
   "display_name": "R",
   "language": "R",
   "name": "ir"
  },
  "language_info": {
   "codemirror_mode": "r",
   "file_extension": ".r",
   "mimetype": "text/x-r-source",
   "name": "R",
   "pygments_lexer": "r",
   "version": "4.1.3"
  }
 },
 "nbformat": 4,
 "nbformat_minor": 5
}