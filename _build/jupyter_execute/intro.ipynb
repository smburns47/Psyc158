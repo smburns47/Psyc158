{
 "cells": [
  {
   "cell_type": "markdown",
   "id": "ef1330c7",
   "metadata": {},
   "source": [
    "# Pomona College Psych 158 Online Textbook\n",
    "\n",
    "Welcome to Intro to Stats for Psych Science! This text is made for use in Psyc158 and the accompanying lab during the Fall 2022 semester at Pomona, taught by Professor Shannon Burns. \n",
    "\n",
    "The majority of this course is built by compiling resources from other statistics teachers. A great deal of credit for the content herein is due to the team that produced the [CourseKata](https://coursekata.org/) online textbook (Ji Y. Son, James W. Stigler, Adam Blake, Caylor Davis, Laura Fries, Karen Givvin, Mary Tucker, Icy Zhang); Russ Poldrack and his book [Statistical Thinking for the 21st Century](https://statsthinking21.github.io/statsthinking21-core-site/index.html); and Danielle Navarro's [Learning Statistics with R](https://learningstatisticswithr.com/lsr-0.6.pdf). If this book is helpful to you, please thank those scholars for the massive contribution they have made by writing the core of these lessons and making them publicly available. In addition, much thanks go to the team behind [mybinder.org](https://mybinder.org/) for enabling this book to live online in an interactable version. \n",
    "\n",
    "To get started, use the Table of Contents below to navigate to each chapter for readings. \n",
    "\n",
    "```{tableofcontents}\n",
    "```"
   ]
  }
 ],
 "metadata": {
  "kernelspec": {
   "display_name": "R",
   "language": "R",
   "name": "ir"
  },
  "language_info": {
   "codemirror_mode": "r",
   "file_extension": ".r",
   "mimetype": "text/x-r-source",
   "name": "R",
   "pygments_lexer": "r",
   "version": "4.1.2"
  }
 },
 "nbformat": 4,
 "nbformat_minor": 5
}