{
 "cells": [
  {
   "cell_type": "markdown",
   "id": "bb62ec5a",
   "metadata": {},
   "source": [
    "UNDER DEVELOPMENT!!!\n",
    "\n",
    "# Chapter 22 - Lying with Statistics\n",
    "\n",
    "- garden of forking paths / p-hacking\n",
    "- no correction for multiple comparison\n",
    "- HARKing\n",
    "- Optional stopping\n",
    "- Discretizing / binning\n",
    "- Violations of linear model assumptions\n",
    "- No direct comparison\n",
    "- Small samples\n",
    "- Over-reliance on significance testing\n",
    "- Correlation vs. causation\n",
    "- Misleading visualization"
   ]
  }
 ],
 "metadata": {
  "kernelspec": {
   "display_name": "R",
   "language": "R",
   "name": "ir"
  },
  "language_info": {
   "codemirror_mode": "r",
   "file_extension": ".r",
   "mimetype": "text/x-r-source",
   "name": "R",
   "pygments_lexer": "r",
   "version": "4.1.2"
  }
 },
 "nbformat": 4,
 "nbformat_minor": 5
}