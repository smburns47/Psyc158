{
 "cells": [
  {
   "cell_type": "markdown",
   "id": "9f3860e2",
   "metadata": {},
   "source": [
    "# Chapter 1 - Intro to Doing Statistics\n",
    "\n",
    "## 1.1 How to learn statistics\n",
    "\n",
    "Most people have learned something about statistics before they take a course in it. Many of you have even taken whole courses in statistics before this one. If you have, you have probably heard about some or all of these things: mean, variance, standard deviation, t test, p, F, ANOVA, regression, chi-square, normal distribution, z score, and so on.\n",
    "\n",
    "With such a long list, it’s no surprise that many students see statistics as a daunting subject to learn (especially if you're not very keen on math). This is completely normal! Even professional statisticians find it hard sometimes. They are always learning new things, and deepening their understanding. But don't get discouraged - if it feels hard, that just means you are making progress, not that you aren’t capable of getting there. In this course, we want to get you started along the pathway to understanding. At the end of the course you will understand more than you do now, and hopefully that will be useful to you. \n",
    "\n",
    "Most of the math classes you have taken before focused on solving problems and remembering equations. Because of how big the field of statistics can be, this course will work a bit differently. Instead of remembering a laundry list of disparate tools, we will focus more on understanding the deeper concepts that motivate them, and practicing statistical thinking. Understanding over memorizing, thinking over calculating. There will still be some math to do of course, and some equations do need to be simply remembered to be helpful. But all these things are a lot more interconnected than traditionally taught, so we will focus on those connections. \n",
    "\n",
    "## 1.2 Doing statistics with code\n",
    "\n",
    "Statistics has also been traditionally taught through a combination of hand-solved equations, and point and click software. This worked well enough for simple statistical questions about small amounts of data, but the 21st century no longer works that way. Instead, doing data analysis by writing computer code has become much more common. There are three big reasons for this: \n",
    "\n",
    "- **Large amounts of data** - Analyses that would have taken *years* in the 1950’s being calculated by hand can now be completed in a few seconds on a standard laptop computer using computer code. This change unleashes the ability to manage much larger amounts of data, and to ask questions in new and powerful ways.\n",
    "- **Reproducibility** - The [replication crisis in psychology](https://www.psychologytoday.com/us/basics/replication-crisis) over the last decade found that many prior research results could not be replicated. In some cases, even repeat analyses on the *same data* could not get the same originally published result. This is partially because, when statistics are done with point-and-click software, you can't verify whether someone clicked the right button. There's no ability to \"show your work.\" In contrast, doing statistics with code enables you to save all the code and share it, so anyone can verify what exactly you did and where any errors are, if any. \n",
    "- **Practical skill** - Increasingly, the world is a [data-driven place](https://www.forbes.com/sites/googlecloud/2020/05/20/how-the-world-became-data-driven-and-whats-next/?sh=61586b2557fc). Therefore, more and more employers value employees who know how to work with data and the computers that hold them. Even if you decide not to have a career in psychology or anything that uses statistics (though, as we said earlier, statistical thinking is all around us!), coding will be a valuable skill on your resume. \n",
    "\n",
    "Thus, in this course we will introduce you to some computer coding at the same time as you learn statistics. While this may seem daunting at this point in the course (learning two whole topics at once?!), research has shown that students actually learn statistics better by doing it through coding. It lets you get closer to the data for understanding it, allows you the autonomy to try out different things, and teaches you how to think through statistical problems logically. Therefor most of the coding we will learn in this course will be learned a couple steps at a time, along with the statistical lesson it can help you implement. But this chapter comes first in the class because, before learning anything about statistics, it helps to know a little bit of coding fundamentals. \n",
    "\n",
    "The specific coding language we will use in this course is simply called \"R.\" It is a very popular tool for doing statistics among data analysts in many fields, and is a relatively easy coding language for first-time users to pick up. In this chapter, we'll teach you the basic fundamentals of R, which actually are fundamental concepts for many computer coding languages. It all may seem a bit abstract at first, but once you practice with it this will help you understand more complex things you can do with code, and also the statistical concepts we will try put into code."
   ]
  },
  {
   "cell_type": "markdown",
   "id": "a56a5788",
   "metadata": {},
   "source": [
    "## 1.3 Getting started in R\n",
    "\n",
    "Let's get started with learning some R right now! For example, here’s a bit of R code. Read the code in the window below. Before you \"run\" it (make it do something), what do you think it will do?\n",
    "\n",
    "<div class=\"alert alert-block alert-info\">\n",
    "<b>Note</b>: To run code in a Google Colab notebook like this, hover over a code cell, and press the play button that appears on the left. \n",
    "</div>\n",
    "\n",
    "Press the \"Run\" button and see what happens:"
   ]
  },
  {
   "cell_type": "code",
   "execution_count": null,
   "id": "0894e789",
   "metadata": {},
   "outputs": [],
   "source": [
    "#execute your first bit of R code\n",
    "\n",
    "print(\"Hello world!\")"
   ]
  },
  {
   "cell_type": "markdown",
   "id": "b193bf47",
   "metadata": {},
   "source": [
    "Congrats, you are officially coding! Printing out the words \"Hello world!\" is the traditional first coding task when learning any computer language. Now, \"language\" is something to pay attention to here - think of coding as learning how to say things in a different way. While in English, you might tell someone \"Print the sentence 'hello world!'\", a computer needs you to speak to it in its own language for it to understand what you want. The fundamentals of this chapter will help you learn the \"vocabulary\" of the language that is R, so that you can represent English concepts in ways that the computer understands."
   ]
  },
  {
   "cell_type": "markdown",
   "id": "66f58f55",
   "metadata": {},
   "source": [
    "In a bit we'll cover the vocabularly you used above (the \"print\" word, parenteses, quotation marks, etc.) Let's go back to something you already know how to write that a computer can understand - arithmetic. \n",
    "\n",
    "Try running the code in the window below."
   ]
  },
  {
   "cell_type": "code",
   "execution_count": null,
   "id": "6b82d2a3",
   "metadata": {},
   "outputs": [],
   "source": [
    "# a few basic arithmetic things\n",
    "5 + 1\n",
    "10 - 3\n",
    "2 * 4\n",
    "9 / 3"
   ]
  },
  {
   "cell_type": "markdown",
   "id": "498f3cf5",
   "metadata": {},
   "source": [
    "Basic math symbols like ```+```, ```-```, ```*```, ```\\```, etc. can be used in R. For each line of code, R will evaluate it and return an output.   \n",
    "\n",
    "Notice that you can put more than one line of code in a single R window. When you press the Run button, all the commands in the window will be run, one after the other, in the order in which they appear."
   ]
  },
  {
   "cell_type": "markdown",
   "id": "08b698c2",
   "metadata": {},
   "source": [
    "## 1.4 Comments vs. commands\n",
    "\n",
    "Notice in the code block above that the four lines that included arithmetic statements produced printed results, but the first line with words on it didn't seem to do anything. That first line is what is called a **comment** - a section of code that we want a human to be able to read in the code file, but a computer to ignore when executing the code. In R, we use a '#' symbol at the beginning of the line to denote a comment. Any line that starts with a '#' will be ignored by R. In contrast, any line without a '#' at the beginning will be considered a **command** - a statement about what you want the computer to do for you.\n",
    "\n",
    "In practice, comments are used by the authors of some code to communicate with anyone trying to use that code. This includes describing the purpose of a chunk of code, what options are available for changing the code, keeping notes about what features will be added later, etc. You should get into the habit of using comments often. Not only do they help another person trying to use your code, sometimes that other person is you in the future who had forgotten why you did something! In this course we will use comments as a way to give you instructions for R exercises, and we will expect you to use comments for describing what you're doing in your submitted work. \n",
    "\n",
    "<div class=\"alert alert-block alert-info\">\n",
    "<b>Note</b>: If you want to write a comment that takes more than one line, it’s a good idea to put a # at the beginning of each line.\n",
    "</div>\n",
    "\n",
    "In the code window below, try typing whatever you want after a '#' at the front of the line. Then press Run."
   ]
  },
  {
   "cell_type": "code",
   "execution_count": null,
   "id": "1a01e508",
   "metadata": {},
   "outputs": [],
   "source": [
    "# type whatever you want\n",
    "# see... blah blah blah"
   ]
  },
  {
   "cell_type": "markdown",
   "id": "6fecd1e7",
   "metadata": {},
   "source": [
    "Notice that pressing 'Run' for this code chunk doesn't do anything, because lines that start with a # are ignored by R. "
   ]
  },
  {
   "cell_type": "markdown",
   "id": "afe2a51d",
   "metadata": {},
   "source": [
    "## 1.5 Objects\n",
    "\n",
    "Have you ever had an experience where you have forgotten to save your work? It’s a terrible feeling. Saving your work is also important in R. In R, we don’t just do calculations and look at the results on the R console. We usually save the results of the calculations somewhere we can find them and use later.\n",
    "\n",
    "Pretty much anything can be saved as an R **object**. Think of an object like a box that you can put anything into - a number, a message, etc. The **value** of the object is whatever is inside the box, while the **name** of the object is whatever you choose to name the object so that both you and the computer can refer to it later. After creating an object and assigning it a value, you can use the name of the object in later commands to stand in for its value. \n",
    "\n",
    "To assign an object (i.e., assign a value to the name), you need to use an **assignment operator**. Much like ```+``` and ```-``` are operators that tell the computer do some math, an assignment operator tells the computer to assign a value to an object name. In R, the assignment operator looks like an arrow: ```<-```. \n",
    "\n",
    "Here’s a simple example to show how it’s done. "
   ]
  },
  {
   "cell_type": "code",
   "execution_count": null,
   "id": "88892cec",
   "metadata": {},
   "outputs": [],
   "source": [
    "# This code will assign the number 47 to the R object favorite_number\n",
    "favorite_number <- 47\n",
    "\n",
    "# This code returns the value of my_favorite_number. Notice that you don't need to use the print() function \n",
    "# to print the contents of an R object; you can just type the name of the object\n",
    "favorite_number\n",
    "\n",
    "# now try making a new object, called 'birthday', and assign it the day of the month that you were born.\n"
   ]
  },
  {
   "cell_type": "markdown",
   "id": "2b5d2aae",
   "metadata": {},
   "source": [
    "Anything can be saved into an object, even if it's a complex command with lots of actions (or other objects!) in it. For example, compare the value of ```step3``` to the value of ```all_steps``` by printing them out and evaluating the answers."
   ]
  },
  {
   "cell_type": "code",
   "execution_count": null,
   "id": "4ca4f1a3",
   "metadata": {},
   "outputs": [],
   "source": [
    "step1 <- 2*3\n",
    "step2 <- 9/3\n",
    "step3 <- step1 + step2\n",
    "\n",
    "all_steps <- (2*3) + (9/3)\n",
    "\n",
    "step3\n",
    "all_steps"
   ]
  },
  {
   "cell_type": "markdown",
   "id": "a8757dba",
   "metadata": {},
   "source": [
    "You can name your objects almost anything. There are just a few rules to follow:\n",
    "\n",
    "- R is case-sensitive. Any little change in the name of an object will be considered a separate object (e.g., ```step1``` vs. ```Step1```). \n",
    "- You can use letters, numbers, underscores, and hyphens for your names, but they must always start with a letter.\n",
    "- Names need to be all one word (no spaces). \n",
    "\n",
    "In addition to these requirements by the language, the R user community has decided on preferred naming conventions, called a [style guide](http://adv-r.had.co.nz/Style.html), in order to make code easier to read and consistent across people. You don't have to follow this style guide for this course, but it would be a good idea to make these naming conventions into habit. \n",
    "\n",
    "Lastly, it's important to remember that R code is evaluated in order, from the top of the page to the bottom. Objects created first will be \"remembered\" in later code lines unless you overwrite them with a new value; but trying to access an object at the beginning of a code window when it isn't created until lower down will result in an error.  "
   ]
  },
  {
   "cell_type": "markdown",
   "id": "9184e30f",
   "metadata": {},
   "source": [
    "<div class=\"alert alert-block alert-info\">\n",
    "<b>Note</b>: In most other computing languages, this concept is actually called a \"variable.\" However, users of R use the word \"object\" instead, because the field of statistics also has a concept called a variable and we try not to use overlapping nomenclature. That way we don't confuse the two.  \n",
    "</div>"
   ]
  },
  {
   "cell_type": "markdown",
   "id": "73a5795c",
   "metadata": {},
   "source": [
    "## 1.6 Functions\n",
    "\n",
    "So far you know about operators, like doing arithmetic or assigning values to objects. All of these operators tell the computer to do \"a thing\" (add numbers, create an object, etc.)\n",
    "\n",
    "Oftentimes, we want the computer to do more complex things than there are operator symbols for. For this case, we use what's called a **function**. Functions will still do an operation, but are not limited to what individual symbols mean (in fact, operators are just special kinds of a functions). In thinking about the grammar of a coding language, objects are like nouns and functions are like verbs. \n",
    "\n",
    "We used a function at the very beginning of this chapter: ```print(\"Hello world!\")```. \n",
    "\n",
    "Functions have three basic parts. The first part is the name of the function (e.g., ```print```). The second part is the input to the function, which goes inside a pair of parentheses. We call these inputs **arguments**. Arguments are whatever objects or values you want to do operations with. Lastly, the **output** of a function is whatever result comes out of the operation.\n",
    "\n",
    "<div class=\"alert alert-block alert-info\">\n",
    "<b>Note</b>: In R, you can work with natural language by putting words or sentences between a pair of quotation marks \"\". Everything between the marks is called a string. We'll talk more about different data types in Chapter 3.\n",
    "</div>\n",
    "\n",
    "Sometimes a function takes only one argument (e.g., ```print(\"my message\")```. Sometimes, a function can take two or more, which are separated by commas (e.g., ```sum(1,2,3)```). Each function is unique in what it does, and in what arguments it requires to do its operation. As we move through the course, you will learn some important functions, as well as how to look up other less common ones.  \n",
    "\n",
    "Here we’ve put some instructions (as comments) into the code window. Write your code as a new line under each comment. See if your code works by clicking 'Run'. "
   ]
  },
  {
   "cell_type": "code",
   "execution_count": null,
   "id": "106780a7",
   "metadata": {},
   "outputs": [],
   "source": [
    "# Use the print() function to print the word \"hello\" (with the quotations)\n",
    "\n",
    "# Use the sum() function to add up the numbers 5, 10, and 15. \n"
   ]
  },
  {
   "cell_type": "markdown",
   "id": "1a0279a9",
   "metadata": {},
   "source": [
    "Notice that the actual R code are the lines you wrote in the code window, such as  ```sum(5,10,15)```  or  ```print(\"hello\")``` . The output or result of the code (e.g., 30) appears in a new area underneath the buttons after you click 'Run'."
   ]
  },
  {
   "cell_type": "markdown",
   "id": "22c55c43",
   "metadata": {},
   "source": [
    "## 1.7 Errors\n",
    "\n",
    "R is a very flexible language, with literally thousands of functions that can do many different things. However, one thing to be aware of is that R is very, very picky. For example, go back to your code above and delete the last parens in one of the functions. What happens?\n",
    "\n",
    "You probably got a returned message that said \"Error...\" Congratulations, you just caused your first computer bug! Get comfortable with this, because you will see a *lot* of errors in your time coding, throughout this class and beyond. Everyone, even the most experienced coders, will have errors in their code at first. When this happens to you, consider it the \"first draft\" of your code that you then refine until your code does what you want. No one writes a perfect essay on their first shot, and likewise no one writes perfect code the first time.\n",
    "\n",
    "Figuring out why your code had an error is a big part of programming. Usually when an error occurs, a message will appear telling you what it is. Unfortunately, while R is considered a relatively user-friendly coding language to write, it's error messages are not very easy to understand.  \n",
    "\n",
    "For instance, if you removed the last parens from the ```print()``` command, you probably got an error that said:\n",
    "\n",
    "```\n",
    "Error in parse(text = x, srcfile = src): <text>:6:0: unexpected end of input\n",
    "4: print('hello'\n",
    "5: \n",
    "  ^\n",
    "Traceback:\n",
    "```\n",
    "\n",
    "An easy error message would say something like \"looks like you forgot a parens!\" Sadly, computers are very literal with the instructions you give them - they don't know your *intent,* only the explicit commands you gave them. So when it tried to run ```print(\"hello\"``` as code, the computer doesn't know what that means - it expects functions to have both open and close parentheses. In this case, because the error says \"unexpected end of input,\" it didn't know what you were telling it to do. On the next line, the location of the ^ symbol tells you exactly where in the code this error happened - after the line without the close parens. \n",
    "\n",
    "You're likely to get more complex errors than this which are harder to understand. If you feel frustrated, remember this is part of the territory. To solve it, try asking your peers to review your code, or copy and pasting the error message into Google. If you're getting an error, likely someone else has gotten the same one before, and an answer will be out there if you do enough digging. You'll also get better at identifying and fixing your bugs as you get used to what errors you're likely to make. \n",
    "\n",
    "Below is some code with an error. See if you can figure out what it is, and fix it. (Hint: the rules that apply to object names also apply to funciton names!)"
   ]
  },
  {
   "cell_type": "code",
   "execution_count": null,
   "id": "2b48f1d0",
   "metadata": {},
   "outputs": [],
   "source": [
    "# Run the code below by pressing Run\n",
    "\n",
    "# Now debug the code - fix the mistake and press Run\n",
    "\n",
    "Sum(1,2)\n"
   ]
  },
  {
   "cell_type": "markdown",
   "id": "271f86cf",
   "metadata": {},
   "source": [
    "One thing to keep in mind - the sorts of errors that give you an error message are called **run-time errors.** These ones prevent the code from completing, so you know when they've happened. You can also get more insidious errors - the kind where your command was a real code command, but it didn't actually do what you intended. For example, maybe you wanted to print out the result of ```5 + 1```, but accidentally typed ```5 - 1```. The computer will still give you an answer without a warning, because ```5 + 1``` is a legal code command, but it will be the wrong answer. Double-check your work to watch out for these!"
   ]
  },
  {
   "cell_type": "markdown",
   "id": "cdd50916",
   "metadata": {},
   "source": [
    "## 1.8 Packages\n",
    "\n",
    "When you first install R on your computer, it comes with many base functions like ```print()``` and ```sum()```. However, the R coding community is always creating new functions to download, kind of like when you download DLC content to expand what you can do in a video game. In R, these collections of functions for download are called **packages**. Much of what you will do in this course uses base functions that come pre-installed, but sometimes you will have to install and load new packages. If you try to use functions from these packages without installing them first, R won't know what you're trying to do and will report an error. \n",
    "\n",
    "For example, try to run the code below. What happens? "
   ]
  },
  {
   "cell_type": "code",
   "execution_count": null,
   "id": "ad39103b",
   "metadata": {},
   "outputs": [],
   "source": [
    "read_csv(\"https://raw.githubusercontent.com/smburns47/Psyc158/main/mindsetmatters.csv\")"
   ]
  },
  {
   "cell_type": "markdown",
   "id": "34213d34",
   "metadata": {},
   "source": [
    "Installing new packages into your R environment is a two-step process. First, you need to download them from the online repository where they are stored. The default way to do this is to use the function ```install.packages('[PACKAGE_NAME]')```. This adds the package, and all the functions bundled in it, to your computer (stored in what R calls your **library**). But that isn't enough. As the second step, you need to load the package from your library so that R can use it. To do this, you use the function ```library(PACKAGE_NAME)```. Try it out below. "
   ]
  },
  {
   "cell_type": "code",
   "execution_count": null,
   "id": "9f736285",
   "metadata": {},
   "outputs": [],
   "source": [
    "#readr is a package that makes it easy to load datasets into R. Step 1, download it (this can take a few moments)\n",
    "install.packages(\"readr\")\n",
    "\n",
    "#next, load it so that all the functions are available to R\n",
    "library(readr)\n",
    "\n",
    "#now, try re-running the code from above. What happens now?\n",
    "read_csv(\"https://raw.githubusercontent.com/smburns47/Psyc158/main/mindsetmatters.csv\")"
   ]
  },
  {
   "cell_type": "markdown",
   "id": "dafb6e7c",
   "metadata": {},
   "source": [
    "Notice how ```install.packages()``` wants the package name to be in quotation marks, but ```library()``` doesn't. Some functions have different requirements for their arguments, and it can get confusing to memorize them all. Even though you will learn a lot, there are literally thousands of functions in R, more than anyone could remember. Even advanced users of R can’t remember it all.\n",
    "\n",
    "A good help for this is to create and maintain your own \"R cheatsheet\" - some document where you write down how to write functions you frequently need. In addition, you can search on the internet for functions you can’t remember. Thousands are hosted on the online repository called [CRAN](https://cran.r-project.org/web/packages/available_packages_by_name.html), or you can just Google \"R package for _____\". Not only will you find some new functions, but you’ll also find endless discussions about which ones are better than others. \n",
    "\n",
    "Additionally, if you know a function's name but don't remember how it works, type a ```?``` in front of the function name and R will point you to a link where you can read about it. E.g., ```?read_csv```. "
   ]
  },
  {
   "cell_type": "markdown",
   "id": "c38c1b42",
   "metadata": {},
   "source": [
    "## 1.9 Culture of coding\n",
    "\n",
    "Other classes you have taken in the past may have given you the expectation that the teacher will teach the student the right steps to follow for solving problems, and then the student's job is to remember the steps. This type of approach is not very helpful for learning statisticcs, and it's not going to help you learn programming.\n",
    "\n",
    "The best way to learn programming is to try things and see what happens. Write some code, run it, tweak it, see what changed, or think about why it didn’t work! Trial and error can be frustrating if we are not used to learning this way, and it may seem inefficient. But trial and error is a great way to learn because we learn from wrong answers as well as right ones. In this course we might sometimes ask you to run code that is wrong just to see what happens!\n",
    "\n",
    "By embracing the process of trial and error you will be learning about a whole new way of thinking and about the culture of programming. It will not always go in a straight line, getting better and better, but will be more like experimenting and exploring, making discoveries as you go. The benefit of exploring is that you will get a more thorough sense of R and statistics!"
   ]
  },
  {
   "cell_type": "markdown",
   "id": "227ed301",
   "metadata": {},
   "source": [
    "## Chapter summary\n",
    "\n",
    "After reading this chapter, you should be able to:\n",
    "\n",
    "- Explain why coding is valuable for statistics and psychology\n",
    "- Do some basic math in R\n",
    "- Explain the difference between commands and comments\n",
    "- Describe the three parts of objects\n",
    "- Describe three basic value types\n",
    "- Explain what functions are, and how to download more of them\n",
    "- Embrace the prospect of making errors, and think about how to start solving them when they happen"
   ]
  }
 ],
 "metadata": {
  "kernelspec": {
   "display_name": "R",
   "language": "R",
   "name": "ir"
  },
  "language_info": {
   "codemirror_mode": "r",
   "file_extension": ".r",
   "mimetype": "text/x-r-source",
   "name": "R",
   "pygments_lexer": "r",
   "version": "4.1.3"
  }
 },
 "nbformat": 4,
 "nbformat_minor": 5
}
