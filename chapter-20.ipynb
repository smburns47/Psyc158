{
 "cells": [
  {
   "cell_type": "markdown",
   "id": "1bfb9d4c",
   "metadata": {},
   "source": [
    "[Back to Table of Contents](https://www.shannonmburns.com/Psyc158/intro.html)\n",
    "\n",
    "[Previous: Chapter 19 - Model Bias](https://colab.research.google.com/github/smburns47/Psyc158/blob/main/chapter-19.ipynb)"
   ]
  },
  {
   "cell_type": "code",
   "execution_count": 121,
   "id": "14b5dbee",
   "metadata": {
    "scrolled": true
   },
   "outputs": [
    {
     "name": "stderr",
     "output_type": "stream",
     "text": [
      "Installing package into ‘/Library/Frameworks/R.framework/Versions/4.2-arm64’\n",
      "(as ‘lib’ is unspecified)\n",
      "\n"
     ]
    },
    {
     "name": "stdout",
     "output_type": "stream",
     "text": [
      "\n",
      "The downloaded binary packages are in\n",
      "\t/var/folders/mg/1wy1xcls587_h0tqnj42l5740000gn/T//Rtmpo3HL6S/downloaded_packages\n"
     ]
    },
    {
     "name": "stderr",
     "output_type": "stream",
     "text": [
      "Installing package into ‘/Library/Frameworks/R.framework/Versions/4.2-arm64’\n",
      "(as ‘lib’ is unspecified)\n",
      "\n"
     ]
    },
    {
     "name": "stdout",
     "output_type": "stream",
     "text": [
      "\n",
      "The downloaded binary packages are in\n",
      "\t/var/folders/mg/1wy1xcls587_h0tqnj42l5740000gn/T//Rtmpo3HL6S/downloaded_packages\n"
     ]
    },
    {
     "name": "stderr",
     "output_type": "stream",
     "text": [
      "Installing package into ‘/Library/Frameworks/R.framework/Versions/4.2-arm64’\n",
      "(as ‘lib’ is unspecified)\n",
      "\n"
     ]
    },
    {
     "name": "stdout",
     "output_type": "stream",
     "text": [
      "\n",
      "The downloaded binary packages are in\n",
      "\t/var/folders/mg/1wy1xcls587_h0tqnj42l5740000gn/T//Rtmpo3HL6S/downloaded_packages\n"
     ]
    }
   ],
   "source": [
    "# Run this first so it's ready by the time you need it\n",
    "install.packages(\"dplyr\")\n",
    "install.packages(\"ggformula\")\n",
    "install.packages(\"supernova\")\n",
    "library(dplyr)\n",
    "library(ggformula)\n",
    "library(supernova)\n",
    "trackscores <- read.csv(\"https://raw.githubusercontent.com/smburns47/Psyc158/main/trackscores.csv\")"
   ]
  },
  {
   "cell_type": "markdown",
   "id": "5ddafa7b",
   "metadata": {},
   "source": [
    "# Chapter 20 - Traditional Statistical Tools\n",
    "\n",
    "## 20.1 Different teaching philosophies\n",
    "\n",
    "In this course you have spent a long time learning about how to make predictions and do inference with the general linear model. However, most statistics students don't learn this framework for doing analysis. Instead, they learn an assortment of different statistical procedures like the t-test, ANOVA, chi-square, etc. Indeed many practicing researchers also use these tools instead of the GLM.\n",
    "\n",
    "So why learn the GLM at all if not as many people use it? There are two pedagogical reasons for why this course emphasized this method instead of the traditional content:\n",
    "\n",
    "1) **Traditional tools require learning how to do hypothesis testing first** - Traditional methods fundamentally depend on Null Hypothesis Significance testing. They start with defining a null hypothesis and cannot be interpreted without computing a t/F score and finding a p-value. This means to learn how to use these tools, students first have to learn about sampling distributions and significance testing. This is a rather abstract thing to learn first and impedes understanding for many people. This leads them to using intellectual short cuts like \"always look for p < 0.05\" despite the dangers of overrelying on that number. \n",
    "\n",
    "2) **Traditional tools are more variable, harder to remember** - When first starting out, the list of all the common statistical tools often seems daunting. They are calculated all different ways with different names and it's hard to remember what goes where. In contrast, the GLM is ultimatly one tool - $Y_i = b_0 + b_1X_i + e_i$. How many predictors you add to the equation and how you interpret the coefficients varies depending on your use situation, but just knowing about this one equation gets you 80% of the way there, making it a better starting point for building conceptual understanding.\n",
    "\n",
    "Despite the advantages of the GLM however, many people still use the traditional tools. Thus, it is good for you to be able to identify them and understand how they map onto what you have learned with the GLM. Ultimately, the GLM and these tools will give you the same answer and you can choose which you prefer in your own research. Knowing both will enable you to read and understand research reports no matter what method the authors used. You may even find that most of these tools build on concepts you've already learned. They're just a different way of showing that information. "
   ]
  },
  {
   "cell_type": "markdown",
   "id": "e74dc2e3",
   "metadata": {},
   "source": [
    "## 20.2 One-sample t-test\n",
    "\n",
    "Previously in chapter 11, we were introduced to the idea of a t-test. To explain it in more depth, let's start with the **one-sample t-test**. \n",
    "\n",
    "Let's say you are a track coach and you're assessing the progress of your runners' training. They all recorded their best times for running the 400m when they initially joined the team. Now after a month of training with track drills, you want to know if they, as a group, have improved. \n",
    "\n",
    "Here is some data from your team. We will filter it down to just those scores at tryouts and 1 month later at the first meet, then calculate their change in running times. Negative scores mean they got faster (less time to complete the 100m), positive scores mean they ran slower."
   ]
  },
  {
   "cell_type": "code",
   "execution_count": 122,
   "id": "af816283",
   "metadata": {
    "scrolled": true
   },
   "outputs": [
    {
     "data": {
      "text/html": [
       "<table class=\"dataframe\">\n",
       "<caption>A data.frame: 6 × 6</caption>\n",
       "<thead>\n",
       "\t<tr><th></th><th scope=col>athlete</th><th scope=col>session</th><th scope=col>condition</th><th scope=col>weight_training</th><th scope=col>track_training</th><th scope=col>time</th></tr>\n",
       "\t<tr><th></th><th scope=col>&lt;int&gt;</th><th scope=col>&lt;chr&gt;</th><th scope=col>&lt;chr&gt;</th><th scope=col>&lt;int&gt;</th><th scope=col>&lt;int&gt;</th><th scope=col>&lt;dbl&gt;</th></tr>\n",
       "</thead>\n",
       "<tbody>\n",
       "\t<tr><th scope=row>1</th><td>1</td><td>tryouts</td><td>no-training</td><td>0</td><td>0</td><td>48.80</td></tr>\n",
       "\t<tr><th scope=row>2</th><td>2</td><td>tryouts</td><td>no-training</td><td>0</td><td>0</td><td>49.17</td></tr>\n",
       "\t<tr><th scope=row>3</th><td>3</td><td>tryouts</td><td>no-training</td><td>0</td><td>0</td><td>49.58</td></tr>\n",
       "\t<tr><th scope=row>4</th><td>4</td><td>tryouts</td><td>no-training</td><td>0</td><td>0</td><td>47.27</td></tr>\n",
       "\t<tr><th scope=row>5</th><td>5</td><td>tryouts</td><td>no-training</td><td>0</td><td>0</td><td>48.48</td></tr>\n",
       "\t<tr><th scope=row>6</th><td>6</td><td>tryouts</td><td>no-training</td><td>0</td><td>0</td><td>50.66</td></tr>\n",
       "</tbody>\n",
       "</table>\n"
      ],
      "text/latex": [
       "A data.frame: 6 × 6\n",
       "\\begin{tabular}{r|llllll}\n",
       "  & athlete & session & condition & weight\\_training & track\\_training & time\\\\\n",
       "  & <int> & <chr> & <chr> & <int> & <int> & <dbl>\\\\\n",
       "\\hline\n",
       "\t1 & 1 & tryouts & no-training & 0 & 0 & 48.80\\\\\n",
       "\t2 & 2 & tryouts & no-training & 0 & 0 & 49.17\\\\\n",
       "\t3 & 3 & tryouts & no-training & 0 & 0 & 49.58\\\\\n",
       "\t4 & 4 & tryouts & no-training & 0 & 0 & 47.27\\\\\n",
       "\t5 & 5 & tryouts & no-training & 0 & 0 & 48.48\\\\\n",
       "\t6 & 6 & tryouts & no-training & 0 & 0 & 50.66\\\\\n",
       "\\end{tabular}\n"
      ],
      "text/markdown": [
       "\n",
       "A data.frame: 6 × 6\n",
       "\n",
       "| <!--/--> | athlete &lt;int&gt; | session &lt;chr&gt; | condition &lt;chr&gt; | weight_training &lt;int&gt; | track_training &lt;int&gt; | time &lt;dbl&gt; |\n",
       "|---|---|---|---|---|---|---|\n",
       "| 1 | 1 | tryouts | no-training | 0 | 0 | 48.80 |\n",
       "| 2 | 2 | tryouts | no-training | 0 | 0 | 49.17 |\n",
       "| 3 | 3 | tryouts | no-training | 0 | 0 | 49.58 |\n",
       "| 4 | 4 | tryouts | no-training | 0 | 0 | 47.27 |\n",
       "| 5 | 5 | tryouts | no-training | 0 | 0 | 48.48 |\n",
       "| 6 | 6 | tryouts | no-training | 0 | 0 | 50.66 |\n",
       "\n"
      ],
      "text/plain": [
       "  athlete session condition   weight_training track_training time \n",
       "1 1       tryouts no-training 0               0              48.80\n",
       "2 2       tryouts no-training 0               0              49.17\n",
       "3 3       tryouts no-training 0               0              49.58\n",
       "4 4       tryouts no-training 0               0              47.27\n",
       "5 5       tryouts no-training 0               0              48.48\n",
       "6 6       tryouts no-training 0               0              50.66"
      ]
     },
     "metadata": {},
     "output_type": "display_data"
    }
   ],
   "source": [
    "#take a look at how this dataset was organized\n",
    "head(trackscores)\n",
    "\n",
    "tryout_scores <- filter(trackscores, session==\"tryouts\", condition==\"track-training\")\n",
    "meet1_scores <- filter(trackscores, session==\"meet1\", condition==\"track-training\")\n",
    "\n",
    "change_scores <- meet1_scores$time - tryout_scores$time"
   ]
  },
  {
   "cell_type": "markdown",
   "id": "011252d1",
   "metadata": {},
   "source": [
    "If our question is restricted to just our team of runners and no one else, we can figure out their improvement really easily. We simply find the mean of their change scores:"
   ]
  },
  {
   "cell_type": "code",
   "execution_count": 123,
   "id": "64dd545c",
   "metadata": {
    "scrolled": true
   },
   "outputs": [
    {
     "data": {
      "text/html": [
       "-0.349"
      ],
      "text/latex": [
       "-0.349"
      ],
      "text/markdown": [
       "-0.349"
      ],
      "text/plain": [
       "[1] -0.349"
      ]
     },
     "metadata": {},
     "output_type": "display_data"
    }
   ],
   "source": [
    "mean(change_scores)"
   ]
  },
  {
   "cell_type": "markdown",
   "id": "1fa9b5c0",
   "metadata": {},
   "source": [
    "Great! This number means that, on average, our team ran faster than before after training for a month. If we only care about evaluating our current team, we can stop here and don't need to use any more statistics. \n",
    "\n",
    "But let's say our question goes beyond just our team. If we were to recruit new runners the following year, would they also improve their scores with this training regimen? Is it good enough to use for everyone?\n",
    "\n",
    "Now we are hypothesizing about data we don't have. At this point we need inferential statistics, and a one-sample t-test can help.\n",
    "\n",
    "A one-sample t-test answers a particular kind of question: is the mean of some data $\\bar{X}$ likely or unlikely to be from a population with a specific $\\mu$? In other words, if we think the population $\\mu$ is a particular value and our data sample is drawn from that population, is it reasonable or surprising to find that our sample's mean is the value we measured? \n",
    "\n",
    "For how this translates to our specific example: is our data sample likely to happen even in a population of runners who on average didn't improve? \n",
    "\n",
    "In order to do a one-sample t-test to answer this question, we first need to set down our idea about what $\\mu$ should be. This is specifying the null hypothesis. For our particular example, the data we are evaluating are improvements in running time. We want to know if these data came from a population of scores where there's no improvement. In such a population some people might run a bit faster than their initial time, some a bit slower, but on average there's no change. Thus, to set our null hypothesis: \n",
    "\n",
    "$$H_0: \\mu = 0$$\n",
    "\n",
    "When we calculated our data sample earlier, it was -0.349, not 0. Does that mean we can conclude these runners did not come from a population of no improvement? \n",
    "\n",
    "Not necessarily. Remember, due to random sampling, it is frequently possible to get a sample mean that is not the same value as the population mean:"
   ]
  },
  {
   "cell_type": "code",
   "execution_count": 52,
   "id": "b4b28c61",
   "metadata": {},
   "outputs": [
    {
     "data": {
      "text/html": [
       "-0.490656847829322"
      ],
      "text/latex": [
       "-0.490656847829322"
      ],
      "text/markdown": [
       "-0.490656847829322"
      ],
      "text/plain": [
       "[1] -0.4906568"
      ]
     },
     "metadata": {},
     "output_type": "display_data"
    }
   ],
   "source": [
    "set.seed(10)\n",
    "sim_sample <- rnorm(10, mean=0, sd=1) #random sample of 10 scores from population with mean 0\n",
    "mean(sim_sample)"
   ]
  },
  {
   "cell_type": "markdown",
   "id": "779acbcb",
   "metadata": {},
   "source": [
    "Thus we need a way refining our question: given a population $\\mu$ *and* an expected variation among samples from that population, is our sample really surprising or not?\n",
    "\n",
    "Enter the t-value. It is a way of scaling the difference between a sample and hypothesized population mean by the standard error of that population. For a one-sample t-test, this is calculated as: \n",
    "\n",
    "$$t = \\frac{\\bar{X} - \\mu}{SEM}$$\n",
    "\n",
    "If you recall from chapter 15, SEM in turn is calculated as:\n",
    "\n",
    "$$SEM = \\frac{\\hat{σ}}{\\sqrt{N}}$$\n",
    "\n",
    "All this together means that a t-value will be larger when there's a bigger difference between our sample mean and the hypothesized population mean, or when the standard error is smaller. \n",
    "\n",
    "The type of t-score we can get falls somewhere in the t distribution that we first encountered in chapter 16:\n",
    "\n",
    "<img src=\"images/ch16-tdist.png\" width=\"600\">\n",
    "\n",
    "You'll notice that the exact shape of the t distribution changes based on the degrees of freedom for our sample. That's because higher sample size Ns reduce the standard error, making it easier to get large t values even when a sample really is from a population with mean $\\mu$. The cumulative probability outside of our t-value is the corresponding p-value for that t-score, so t-scores in smaller sample sizes have larger p-values because there's a relatively larger amount of the distribution that is more extreme than that value compared to the t-distribution made of larger sample sizes.  \n",
    "\n",
    "Altogether, this means that to answer our question about whether our data likely come from a population of no improvement, we need to calculate a t-score and its associated p-value. The larger this t-score is, the more suprising it would be to draw a sample with our mean given a true population $\\mu = 0$. If the associated p-value is <0.05, we would decide it's so surprising that our sample probably came from a different sort of population instead - one with some alternative $\\mu$ that suggests improvement due to our training regimen. \n",
    "\n",
    "R provides us with a built-in function to quickly compute a one sample t-test:"
   ]
  },
  {
   "cell_type": "code",
   "execution_count": 124,
   "id": "004422bd",
   "metadata": {
    "scrolled": true
   },
   "outputs": [
    {
     "data": {
      "text/plain": [
       "\n",
       "\tOne Sample t-test\n",
       "\n",
       "data:  change_scores\n",
       "t = -1.9294, df = 9, p-value = 0.08575\n",
       "alternative hypothesis: true mean is not equal to 0\n",
       "95 percent confidence interval:\n",
       " -0.75818651  0.06018651\n",
       "sample estimates:\n",
       "mean of x \n",
       "   -0.349 \n"
      ]
     },
     "metadata": {},
     "output_type": "display_data"
    }
   ],
   "source": [
    "t.test(change_scores)"
   ]
  },
  {
   "cell_type": "markdown",
   "id": "7ee47fd7",
   "metadata": {},
   "source": [
    "The output of this function gives us information about the calculated t-score (-1.9294), the degrees of freedom of the test (9, which is N-1), and the p-value (0.08575). It also gives us a 95% CI for our estimate of the mean, [-0.758, 0.060]. Note that a t-value can be positive or negative, signifying if our sample mean is higher or lower than the hypothesized population mean.\n",
    "\n",
    "Based on these results, there is not enough evidence to reject the null hypothesis that our training regimen results in no improvement. In APA format, we would write these results as \"The mean change in running time was -0.349 seconds [-0.758, 0.060], but there was no significant improvement in running time for this sample of runners (*t(9)* = -1.93, *p* = 0.086).\" \n",
    "\n",
    "The different parts of doing a t-test (calculating a mean, null hypothesis, standard error, and p-value) are all concepts you've learned before. For this reason, a t-test is actually just another way of getting to the same answer as we previously did with the general linear model. Check out the t and p values in the model output below, and compare them to the results of the above t-test:"
   ]
  },
  {
   "cell_type": "code",
   "execution_count": 125,
   "id": "38a53ab5",
   "metadata": {
    "scrolled": true
   },
   "outputs": [
    {
     "data": {
      "text/plain": [
       "\n",
       "Call:\n",
       "lm(formula = change_scores ~ NULL)\n",
       "\n",
       "Residuals:\n",
       "    Min      1Q  Median      3Q     Max \n",
       "-0.8210 -0.3385 -0.0860  0.2540  1.0990 \n",
       "\n",
       "Coefficients:\n",
       "            Estimate Std. Error t value Pr(>|t|)  \n",
       "(Intercept)  -0.3490     0.1809  -1.929   0.0858 .\n",
       "---\n",
       "Signif. codes:  0 ‘***’ 0.001 ‘**’ 0.01 ‘*’ 0.05 ‘.’ 0.1 ‘ ’ 1\n",
       "\n",
       "Residual standard error: 0.572 on 9 degrees of freedom\n"
      ]
     },
     "metadata": {},
     "output_type": "display_data"
    }
   ],
   "source": [
    "summary(lm(change_scores ~ NULL))"
   ]
  },
  {
   "cell_type": "markdown",
   "id": "f635db2f",
   "metadata": {},
   "source": [
    "In the null model of the GLM framework, we are estimating the sample mean as $b_0$ and evaluating if it is significantly different from 0. In a one-sample t-test, we are evaluating whether a sample mean $\\bar{X}$ is significantly different from the null hypothesis $\\mu = 0$. These are the exact same question, just posed different ways. Thus, you can get the same result using a null model form of the GLM or the one-sample t-test.\n",
    "\n",
    "However, we should also point out that in the null model, the significance of $b_0$ is specifically compared in the context of a null hypothesis where $\\beta_0 = 0$. In the one-sample t-test, we can be more general that this. We don't have to restrict ourselves to a null hypothesis of 0. For instance, let's imagine that instead of running improvement, we are interested in whether our team's new running times are significantly better than the [Division III track and field recruiting cut off](https://www.ncsasports.org/mens-track-and-field/scholarship-standards) of 51.76. First we calculate the mean of everyone's new running times:"
   ]
  },
  {
   "cell_type": "code",
   "execution_count": 126,
   "id": "b631ab22",
   "metadata": {},
   "outputs": [
    {
     "data": {
      "text/html": [
       "48.354"
      ],
      "text/latex": [
       "48.354"
      ],
      "text/markdown": [
       "48.354"
      ],
      "text/plain": [
       "[1] 48.354"
      ]
     },
     "metadata": {},
     "output_type": "display_data"
    }
   ],
   "source": [
    "mean(meet1_scores$time)"
   ]
  },
  {
   "cell_type": "markdown",
   "id": "c8442258",
   "metadata": {},
   "source": [
    "Then we specify a null hypothesis:\n",
    "\n",
    "$$H_0: \\mu = 51.76$$\n",
    "\n",
    "This is a different null hypothesis than before. Now, we are wondering if our sample is likely to come from DIII track and field athletes, or if we should conclude they come from an even faster population.\n",
    "\n",
    "To specify a null hypothesis in a t-test that is different than 0, add the ```mu=``` argument to the ```t.test()``` with this specific null hypothesis value."
   ]
  },
  {
   "cell_type": "code",
   "execution_count": 127,
   "id": "86786290",
   "metadata": {
    "scrolled": true
   },
   "outputs": [
    {
     "data": {
      "text/plain": [
       "\n",
       "\tOne Sample t-test\n",
       "\n",
       "data:  meet1_scores$time\n",
       "t = -8.8662, df = 9, p-value = 9.65e-06\n",
       "alternative hypothesis: true mean is not equal to 51.76\n",
       "95 percent confidence interval:\n",
       " 47.48498 49.22302\n",
       "sample estimates:\n",
       "mean of x \n",
       "   48.354 \n"
      ]
     },
     "metadata": {},
     "output_type": "display_data"
    }
   ],
   "source": [
    "t.test(meet1_scores$time, mu=51.76)"
   ]
  },
  {
   "cell_type": "markdown",
   "id": "f8d01256",
   "metadata": {},
   "source": [
    "Based on these results, our sample mean of 48.354 would be very unusual if it were drawn from a population with $\\mu = 51.76$ (p < 0.001). Thus we reject this null hypothesis in favor of the alternative hypothesis that our team is from a faster population.  \n",
    "\n",
    "## 20.3 Independent-samples t-test\n",
    "\n",
    "A one sample t-test is used when you have one group of data, and want to understand how likely it is that that one group came from a particular population. If you have two separate groups of data and want to be able to distingush them from each other, this calls for a different kind of t-test called an **independent samples t-test** or **two-sample t-test**. \n",
    "\n",
    "Let's say you're still the track coach, but this time you want to compare how two different kinds of training impact your athletes. This time, you have half the team run track drills for a month and half the team do weights in the gym. Afterwards, you assess their running time on the 400m at their first meet. In this situation you no longer have one group of data like last time. You have two groups who went through different experiences that might make them different from each other. "
   ]
  },
  {
   "cell_type": "code",
   "execution_count": 130,
   "id": "6a5b31b1",
   "metadata": {},
   "outputs": [],
   "source": [
    "track_training <- filter(trackscores, session==\"meet1\", condition==\"track-training\")\n",
    "weight_training <- filter(trackscores, session==\"meet1\", condition==\"weight-training\")"
   ]
  },
  {
   "cell_type": "markdown",
   "id": "f08e91cf",
   "metadata": {},
   "source": [
    "An independent samples t-test answers the question \"are these two groups likely drawn from the same population?\" The null hypothesis of this question would be: \n",
    "\n",
    "$$H_0: \\mu_1 = \\mu_2$$\n",
    "\n",
    "Where $\\mu_1$ is the population from which group 1 came, and $\\mu_2$ is the population from which group 2 came. The alternative hypothesis, then, is that they come from different populations.\n",
    "\n",
    "An independent samples t-score is calculated a bit differently than a one-sample t-score. This one comes out to: \n",
    "\n",
    "$$ t = \\frac{\\bar{X}_1 - \\bar{X}_2}{s_p\\sqrt{\\frac{1}{n_1} + \\frac{1}{n_2}}} $$\n",
    "\n",
    "where $s_p$ stands for the *pooled* standard deviation, a way of combining the standard deviations of two samples:\n",
    "\n",
    "$$s_p = \\sqrt{\\frac{(n_1 - 1)s^2_1 + (n_2 - 1)s^2_2}{n_1 + n_2 + 2}} $$\n",
    "\n",
    "While this equation is more complicated, in general this t-score gets larger based on the same factors as the one-sample t-test. You will get a larger t-score, and thus more likely to reject the null hypothesis, if there is a large difference between the group means *or* if the sample sizes are large. \n",
    "\n",
    "In R we can use the same ```t.test()``` function to do an independent-samples t-test. We just need to include more arguments. Specifically, we need to pass the separate groups to compare as separate vectors, and then add a ```var.equal=``` flag to tell this function to use the pooled variance."
   ]
  },
  {
   "cell_type": "code",
   "execution_count": 131,
   "id": "3b6de518",
   "metadata": {
    "scrolled": true
   },
   "outputs": [
    {
     "data": {
      "text/plain": [
       "\n",
       "\tTwo Sample t-test\n",
       "\n",
       "data:  track_training$time and weight_training$time\n",
       "t = 2.1185, df = 18, p-value = 0.0483\n",
       "alternative hypothesis: true difference in means is not equal to 0\n",
       "95 percent confidence interval:\n",
       " 0.008564465 2.053435535\n",
       "sample estimates:\n",
       "mean of x mean of y \n",
       "   48.354    47.323 \n"
      ]
     },
     "metadata": {},
     "output_type": "display_data"
    }
   ],
   "source": [
    "t.test(track_training$time, weight_training$time, var.equal=TRUE)"
   ]
  },
  {
   "cell_type": "markdown",
   "id": "54e3d41f",
   "metadata": {},
   "source": [
    "Based on this result, what would you conclude about which populations each group likely came from?\n",
    "\n",
    "Again, it is possible to get this same result using the GLM approach we already know. However we have to reshape our data a bit in order to make this possible. In the ```t.test()``` command above we wanted to compare values on the outcome variable for the two different groups, so we needed to divide the data in this variable into two separate vectors. To use ```lm()```, we don't separate our data into different datasets. We merely include another variable that stores information about which group is which. "
   ]
  },
  {
   "cell_type": "code",
   "execution_count": 132,
   "id": "6941adc9",
   "metadata": {},
   "outputs": [
    {
     "data": {
      "text/plain": [
       "\n",
       "Call:\n",
       "lm(formula = time ~ condition, data = meet1)\n",
       "\n",
       "Residuals:\n",
       "    Min      1Q  Median      3Q     Max \n",
       "-1.8230 -0.7315  0.2120  0.6795  1.6960 \n",
       "\n",
       "Coefficients:\n",
       "                         Estimate Std. Error t value Pr(>|t|)    \n",
       "(Intercept)               48.3540     0.3441 140.515   <2e-16 ***\n",
       "conditionweight-training  -1.0310     0.4867  -2.119   0.0483 *  \n",
       "---\n",
       "Signif. codes:  0 ‘***’ 0.001 ‘**’ 0.01 ‘*’ 0.05 ‘.’ 0.1 ‘ ’ 1\n",
       "\n",
       "Residual standard error: 1.088 on 18 degrees of freedom\n",
       "Multiple R-squared:  0.1996,\tAdjusted R-squared:  0.1551 \n",
       "F-statistic: 4.488 on 1 and 18 DF,  p-value: 0.0483\n"
      ]
     },
     "metadata": {},
     "output_type": "display_data"
    },
    {
     "data": {
      "image/png": "[encoded data removed]",
      "text/plain": [
       "plot without title"
      ]
     },
     "metadata": {
      "image/png": {
       "height": 420,
       "width": 420
      }
     },
     "output_type": "display_data"
    }
   ],
   "source": [
    "#filtering to every time score during meet1, for track-training or weight-training athletes\n",
    "meet1 <- filter(trackscores, session=='meet1',\n",
    "                       (condition=='track-training' | condition=='weight-training'))\n",
    "\n",
    "#fitting glm version of test\n",
    "summary(lm(time ~ condition, data = meet1))\n",
    "\n",
    "#visualizing group differences\n",
    "gf_jitter(time ~ condition, data = meet1, size=3, color = ~condition, width=0.1) %>% \n",
    "    gf_summary(fun.data = \"mean_cl_boot\", size = 2, color = 'black')"
   ]
  },
  {
   "cell_type": "markdown",
   "id": "02524061",
   "metadata": {},
   "source": [
    "## 20.4 One-way ANOVA\n",
    "\n",
    "T-tests allow you to investigate differences in means between a population and one group of data, or two separate groups. Beyond that, you might encounter a situation where you want to investigate differences between more than two groups. E.g., instead of comparing just the athletes who did track training vs. weight training, you also have athletes who did neither type or both types of training. \n",
    "\n",
    "There's no t-test that helps you analyze more than two groups. Instead, we need to expand into a different kind of test known as a **one-way ANOVA**. \n",
    "\n",
    "To start, we recognize that we're interested in comparing the average 400m running time for the 4 different training conditions. In that sense, we’re still hypothesizing about differences in means, but between several groups. Specifically, it would be pretty uninteresting if no type of training made any difference in running time and all athletes were from the same population. Thus, our null hypothesis is:\n",
    "\n",
    "$$H_0: \\mu_1 = \\mu_2 = \\mu_3 = \\mu_4$$\n",
    "\n",
    "Where each $\\mu$ is the population from which that group number came. In contrast, the alternative hypothesis is that *at least one* of the four different training conditions results in different running times. We're not trying to predict which group(s) is different from which other group(s), just that at least one of those equal signs in the null hypothesis is not true. \n",
    "\n",
    "Because there are many different ways the null hypothesis could be false (1 =/= 3, 2 =/=3 & 4, etc.), this null hypothesis isn't possible to test in the t-test framework. There isn't one group difference to compare to one population parameter. Instead we use ANOVA, which stands for Analysis of Variance.\n",
    "\n",
    "The way this works is by looking at variation in data and figuring out how much variation is within a group of data, vs. between different groups. \n",
    "\n",
    "<img src=\"images/ch20-btwn-within.png\" width=\"800\">\n",
    "\n",
    "To quantify variation, we've used the idea of sum of squares before. We can use it again here to calculate new* kinds of sum of squares to represent, instead of deviations between data and model predictions, deviations between groups or within groups. We'll denote this as $SS_w$ for the within-group variation, where $\\bar{Y}_g$ is the mean of some group G:\n",
    "\n",
    "$$SS_w = \\sum_{i=1}^{N}(Y_i-\\bar{Y}_G)^2$$\n",
    "\n",
    "And here is $SS_b$ for the between-groups variation, where $\\bar{Y}$ is the mean of all data regardless of group:\n",
    "\n",
    "$$SS_b = \\sum_{i=1}^{N}(\\bar{Y}_G - \\bar{Y})^2$$\n",
    "\n",
    "Now that we've defined these different types of sum of squares, we can ask a specific mathematical question: is there more variation between the groups of data than within a group? Are the differences between individual scores because of which group they belong to, or just randomness? A ratio is a good way to represent this question:\n",
    "\n",
    "$$\\frac{SS_b}{SS_w}$$\n",
    "\n",
    "But wait, if we're calculating sum of squares then we know it's problematic to not consider the size of our dataset. Thus we should convert these values to mean squared error by dividing SS by the degrees of freedom. As usual, the degrees of freedom corresponds to the number of ways data can vary once we have some existing information about it. For the within-groups variability, what we’re calculating is the variation of the individual observations (N data points) around the group means (all the $\\bar{Y}_G$ estimates). In contrast, for the between groups variability, we’re interested in the variation of the group means (G data points) around the Grand Mean (1 $\\bar{Y}$ estimate). Therefore, the degrees of freedom here are:\n",
    "\n",
    "$$df_b = G - 1$$\n",
    "$$df_w = N - G$$\n",
    "\n",
    "The ratio of mean squared errors then is:\n",
    "\n",
    "$$\\frac{SS_b / df_b}{SS_w / df_w} = \\frac{MSE_b}{MSE_w}$$\n",
    "\n",
    "This ratio has a specific name: it is the **F-ratio** or the **F-statistic** ([sound familiar?](https://colab.research.google.com/github/smburns47/Psyc158/blob/main/chapter-17.ipynb#scrollTo=509057e3)).\n",
    "\n",
    "That's all a one-way ANOVA does: it calculates an F-statistic to compare between to within-group variation. If the value of this F-statistic is sufficiently large, that means the differences in the group means are so large that we'd be very surprised to hear they were actually sampled from the same population. We'd reject the null hypothesis in favor of an alternative, that at least one came from a different population. \n",
    "\n",
    "That brings us to doing a one-way ANOVA test in R. It is a fairly simple bit of code, using the function ```aov()```. You no longer need to save the data for the different groups into different vectors - we can keep it in one dataset like with a GLM model and simply pass a formula to ask how does the outcome variable vary as a function of group."
   ]
  },
  {
   "cell_type": "code",
   "execution_count": 133,
   "id": "254a40db",
   "metadata": {
    "scrolled": true
   },
   "outputs": [
    {
     "data": {
      "text/plain": [
       "Call:\n",
       "   aov(formula = time ~ condition, data = meet1)\n",
       "\n",
       "Terms:\n",
       "                condition Residuals\n",
       "Sum of Squares   25.67870  42.58394\n",
       "Deg. of Freedom         3        35\n",
       "\n",
       "Residual standard error: 1.103034\n",
       "Estimated effects may be unbalanced"
      ]
     },
     "metadata": {},
     "output_type": "display_data"
    },
    {
     "data": {
      "image/png": "[encoded data removed]",
      "text/plain": [
       "plot without title"
      ]
     },
     "metadata": {
      "image/png": {
       "height": 420,
       "width": 420
      }
     },
     "output_type": "display_data"
    }
   ],
   "source": [
    "#choosing all running times at meet1, regardless of condition\n",
    "meet1 <- filter(trackscores, session=='meet1')\n",
    "\n",
    "#running one-way ANOVA test\n",
    "anova_results <- aov(time ~ condition, data = meet1)\n",
    "anova_results\n",
    "\n",
    "#visualizing group differences\n",
    "gf_jitter(time ~ condition, data = meet1, size=3, color = ~condition, width=0.1) %>% \n",
    "    gf_summary(fun.data = \"mean_cl_boot\", size = 2, color = 'black')"
   ]
  },
  {
   "cell_type": "markdown",
   "id": "ffae86f5",
   "metadata": {},
   "source": [
    "The output of this code tells you $SS_b$ (Sum of Squares in the 'condition' column) and $SS_w$ (Sum of Squares in the 'Residuals' column). To get the corresponding F-statistic and p-value, wrap this command in the ```summary()``` function:"
   ]
  },
  {
   "cell_type": "code",
   "execution_count": 134,
   "id": "3971621f",
   "metadata": {
    "scrolled": true
   },
   "outputs": [
    {
     "data": {
      "text/plain": [
       "            Df Sum Sq Mean Sq F value   Pr(>F)    \n",
       "condition    3  25.68   8.560   7.035 0.000799 ***\n",
       "Residuals   35  42.58   1.217                     \n",
       "---\n",
       "Signif. codes:  0 ‘***’ 0.001 ‘**’ 0.01 ‘*’ 0.05 ‘.’ 0.1 ‘ ’ 1"
      ]
     },
     "metadata": {},
     "output_type": "display_data"
    }
   ],
   "source": [
    "summary(anova_results)"
   ]
  },
  {
   "cell_type": "markdown",
   "id": "b4393fb4",
   "metadata": {},
   "source": [
    "Since this p-value is <0.05, we'd reject the null hypothesis that all groups of athletes come from the same population. At least one of the group means is sufficiently different from at least one other that we decide there are different populations involved here - meaning, type of training matters for running time. In APA format, we'd write this as \"there was a significant effect of training type on running time *F*(3,36) = 7.035, *p* < 0.001.\"\n",
    "\n",
    "Now, at this moment we should pause so I can let you know that I actually lied to you earlier. $SS_b$ and $SS_w$ aren't new kinds of sum of squares at all. To see what I mean, here's the $SS_{model}$ and $SS_{error}$ from a GLM with the same formula:"
   ]
  },
  {
   "cell_type": "code",
   "execution_count": 136,
   "id": "12eeb1dc",
   "metadata": {},
   "outputs": [
    {
     "data": {
      "text/plain": [
       " Analysis of Variance Table (Type III SS)\n",
       " Model: time ~ condition\n",
       "\n",
       "                             SS df    MS     F   PRE     p\n",
       " ----- --------------- | ------ -- ----- ----- ----- -----\n",
       " Model (error reduced) | 25.679  3 8.560 7.035 .3762 .0008\n",
       " Error (from model)    | 42.584 35 1.217                  \n",
       " ----- --------------- | ------ -- ----- ----- ----- -----\n",
       " Total (empty model)   | 68.263 38 1.796                  "
      ]
     },
     "metadata": {},
     "output_type": "display_data"
    }
   ],
   "source": [
    "glm_results <- lm(time ~ condition, data = meet1)\n",
    "supernova(glm_results)"
   ]
  },
  {
   "cell_type": "markdown",
   "id": "9f5c42dc",
   "metadata": {},
   "source": [
    "$SS_b$ is the exact same value as $SS_{model}$, just with a different name. Both refer to the amount of variation explained by this grouping variable. Likewise, $SS_w$ is the same as $SS_{error}$, the amount of variation left unexplained. The F-statistic and p-value are also the same. That's why this is called an ANOVA table - it's the results of an ANOVA test. If we output the summary of a GLM model with ```condition``` predicting ```time```: "
   ]
  },
  {
   "cell_type": "code",
   "execution_count": 137,
   "id": "ab2dac70",
   "metadata": {
    "scrolled": true
   },
   "outputs": [
    {
     "data": {
      "text/plain": [
       "\n",
       "Call:\n",
       "lm(formula = time ~ condition, data = meet1)\n",
       "\n",
       "Residuals:\n",
       "    Min      1Q  Median      3Q     Max \n",
       "-2.5210 -0.6737  0.1790  0.7580  1.8667 \n",
       "\n",
       "Coefficients:\n",
       "                         Estimate Std. Error t value Pr(>|t|)    \n",
       "(Intercept)               47.0333     0.3677 127.920  < 2e-16 ***\n",
       "conditionno-training       2.0377     0.5068   4.021 0.000294 ***\n",
       "conditiontrack-training    1.3207     0.5068   2.606 0.013370 *  \n",
       "conditionweight-training   0.2897     0.5068   0.572 0.571280    \n",
       "---\n",
       "Signif. codes:  0 ‘***’ 0.001 ‘**’ 0.01 ‘*’ 0.05 ‘.’ 0.1 ‘ ’ 1\n",
       "\n",
       "Residual standard error: 1.103 on 35 degrees of freedom\n",
       "Multiple R-squared:  0.3762,\tAdjusted R-squared:  0.3227 \n",
       "F-statistic: 7.035 on 3 and 35 DF,  p-value: 0.0007993\n"
      ]
     },
     "metadata": {},
     "output_type": "display_data"
    }
   ],
   "source": [
    "summary(glm_results)"
   ]
  },
  {
   "cell_type": "markdown",
   "id": "2d901f02",
   "metadata": {},
   "source": [
    "That F-statistic and p-value for the significance of the whole model is also the same. Thus, a one-way ANOVA test is the exact same as testing a whole GLM model with multiple categorical predictors.\n",
    "\n",
    "Now there are some differences between a one-way ANOVA and GLM on the other kinds of information you get from the model. Specifically, the significance of differences between *particular* pairs of groups. At baseline, an ANOVA test can't tell you anything about this. It only tests the null hypothesis that all groups are the same. Any one pair being different results in rejecting the null hypothesis, but you don't know which pair(s) of groups were different. To get this answer, you need to perform an independent-samples t-test on each unique pair. Because this involves many tests, you also have to correct for multiple comparisons. \n",
    "\n",
    "In R, you can do this with one function ```pairwise()```, which takes an object holding the results of an ANOVA test and returns the significance of the difference between every unique group:"
   ]
  },
  {
   "cell_type": "code",
   "execution_count": 138,
   "id": "05ef0879",
   "metadata": {
    "scrolled": true
   },
   "outputs": [
    {
     "name": "stderr",
     "output_type": "stream",
     "text": [
      "\n",
      "\n",
      "\u001b[36m──\u001b[39m \u001b[1mTukey's Honestly Significant Differences\u001b[22m \u001b[36m────────────────────────────────────\u001b[39m\n",
      "\n",
      "Model: time ~ condition\n",
      "\n",
      "\u001b[1mcondition\u001b[22m\n",
      "\n",
      "Levels: 4\n",
      "\n",
      "Family-wise error-rate: 0.05\n",
      "\n"
     ]
    },
    {
     "data": {
      "text/plain": [
       "\n",
       "\n",
       "  group_1         group_2        diff pooled_se      q    df  lower  upper p_adj\n",
       "  \u001b[3m\u001b[90m<chr>\u001b[39m\u001b[23m           \u001b[3m\u001b[90m<chr>\u001b[39m\u001b[23m         \u001b[3m\u001b[90m<dbl>\u001b[39m\u001b[23m     \u001b[3m\u001b[90m<dbl>\u001b[39m\u001b[23m  \u001b[3m\u001b[90m<dbl>\u001b[39m\u001b[23m \u001b[3m\u001b[90m<int>\u001b[39m\u001b[23m  \u001b[3m\u001b[90m<dbl>\u001b[39m\u001b[23m  \u001b[3m\u001b[90m<dbl>\u001b[39m\u001b[23m \u001b[3m\u001b[90m<dbl>\u001b[39m\u001b[23m\n",
       "\u001b[90m1\u001b[39m no-training     both-traini…  2.038     0.358  5.686    35  0.671  3.404 .0016\n",
       "\u001b[90m2\u001b[39m track-training  both-traini…  1.321     0.358  3.685    35 -0.046  2.687 .0614\n",
       "\u001b[90m3\u001b[39m weight-training both-traini…  0.290     0.358  0.808    35 -1.077  1.656 .9399\n",
       "\u001b[90m4\u001b[39m track-training  no-training  -0.717     0.349 -2.056    35 -2.047  0.613 .4757\n",
       "\u001b[90m5\u001b[39m weight-training no-training  -1.748     0.349 -5.011    35 -3.078 -0.418 .0060\n",
       "\u001b[90m6\u001b[39m weight-training track-train… -1.031     0.349 -2.956    35 -2.361  0.299 .1762"
      ]
     },
     "metadata": {},
     "output_type": "display_data"
    }
   ],
   "source": [
    "pairwise(anova_results)"
   ]
  },
  {
   "cell_type": "markdown",
   "id": "eb6fbd72",
   "metadata": {},
   "source": [
    "The method of multiple comparison correction that ```pairwise()``` is using is called Tukey's Honestly Significance Differences, which adjusts the calculated p-values up rather than pulling down the critical p-value. \n",
    "\n",
    "Now compare these numbers to those in the summary report of the GLM model (where \"both-training\" is the reference group because it is first in the alphabet). For instance, look at the difference between the \"no-training\" and \"both-training\" conditions here, and then look at the estimate of the effect of \"no-training\". Both of these numbers are the same (2.038), indicating that both methods are finding the difference in means between the \"both-training\" condition and the \"no-training\" condition. However, the p-values for these lines are different.\n",
    "\n",
    "Why is that? The reason is, with the GLM model you don't need to do multiple comparisons correction. This is because a multiple regression is just one test. It calculates the standard error of each coefficient at once, in the context of the other predictors. This means it's essentially already doing multiple comparison correction. Further, it is only doing this correction for 3 comparisons with the reference group (\"both-training\" against the other three). \n",
    "\n",
    "In contrast with the pairwise tests after the ANOVA, these are all done independently on separate subgroups of data. In addition, all 6 possible pairwise comparisons are done. With more comparisons, that means you have to correct the p-value by more in order to keep the family-wise error rate at $\\alpha = 0.05$. With more correction, it is harder to find any one comparison as significant. This is also why the comparison between \"both-training\" and \"track-training\" is significant in the GLM (effect of \"track-training\", p = 0.0133) but not significant in the pairwise table of the ANOVA results (p = 0.0614). However, this is also why the pairwise table has comparisons for conditions like \"weight-training\" and \"track-training\", while the GLM doesn't. To get that result with a GLM approach, one of those conditions would need to be treated as the reference group. \n",
    "\n",
    "For this multiple comparisons reason, it is often better to use a GLM than a one-way ANOVA.\n",
    "\n",
    "## 20.5 Factorial ANOVA\n",
    "\n",
    "Of the traditional tools we've covered so far in this chapter, you can probably detect a general trend. So far we've looked at a fairly simple experimental design: each person falls into only one of several groups, and we want to know whether these groups have different means on some outcome variable. This assumes that there is only variable that matters for differences in the outcome value - which of these groups someone is in.\n",
    "\n",
    "But in the multiple regression version of the GLM framework, we learned that multiple different predictor variables can have separate effects on an outcome. They can even interact with each other, such that the effect of one predictor changes as a function of the value of another predictor. This might be a better way of understanding our athlete data - instead of four different categories of training regimens, maybe there is a more general effect of track-training and of weight-training that combine in order to produce someone's running time. Being in the \"both-training\" condition just means being a part of both of these general groups, instead of its own unique category.\n",
    "\n",
    "In the ANOVA approach to statistics, taking into account the effect of multiple grouping variables is called **factorial ANOVA**. Sometimes it is also called something like two-way ANOVA (which means two separate predictor variables) or 2x3 ANOVA (meaning there are two levels in the first predictor and 3 levels in the second). Like the one-way ANOVA, factorial ANOVA is a method of comparing group means to see if they come from the same population. So a sensible place to start would be to be explicit about a null hypothesis for these means. However, the fact the different training groups are made of combinations of multiple variables means there are several different means that one might be interested. To see this, let’s start by thinking about all the different sample means that we can calculate for this kind of design: \n",
    "\n",
    "Firstly, there’s the obvious idea that we might be interested in this table of group means for our athletes at their first meet:\n",
    "\n",
    "**Group means of running time for each combination of the separate training variables**\n",
    "\n",
    "|                    | No weight training | Weight training | Any weight training |\n",
    "| :----------------: | :----------------: | :-------------: | :-----------------: |\n",
    "| No track training  | 49.071             | 47.323          | 48.047              |\n",
    "| Track training     | 48.354             | 47.134          | 47.774              |\n",
    "| Any track training | 48.563             | 47.229          | 47.969              |\n",
    "\n",
    "In this table, the number in each cell stands for the group mean with that combination of track training type (row) and weight training type (column). The values in the last row are the means of each weight training group regardless of what type of track training they did. The values in the last column are the means of each track training group regardless of what type of weight training they did - aka the **marginal means**. The bottom right cell holds the grand mean, or the mean running time of everyone regardless of their value on any training variable.\n",
    "\n",
    "These are all group means, which are statistical estimates. That means there are population parameter versions of these values that our estimates came from. We can express our table above with those values instead: \n",
    "\n",
    "\n",
    "|                    | No weight training | Weight training | Any weight training |\n",
    "| :----------------: | :----------------: | :-------------: | :-----------------: |\n",
    "| No track training  | $\\mu_{11}$         | $\\mu_{12}$      | $\\mu_{1.}$          |\n",
    "| Track training     | $\\mu_{21}$         | $\\mu_{22}$      | $\\mu_{2.}$          |\n",
    "| Any track training | $\\mu_{.1}$         | $\\mu_{.2}$      | $\\mu_{..}$          |\n",
    "\n",
    "We have a bunch of $\\mu$ values with different subtexts. $\\mu_{11}$ means the population mean for the group in the first value of track training type and first value of the weight training type. $\\mu_{12}$ would be the population mean for the group in the first value of track training type and second value of the weight training type, and so on. A dot in the notation means any value for that variable. \n",
    "\n",
    "Now that we have this notation, it is straightforward to formulate and express some hypotheses. Let’s suppose that the goal is to find out two things: firstly, does track training have any effect on running time? And secondly, does weight training have any effect on running time? Formally, we write down our null hypotheses in terms of the equality of marginal means:\n",
    "\n",
    "row means are the same: $H_0: \\mu_{1.} = \\mu_{2.}$\n",
    "\n",
    "column means are the same: $H_0: \\mu_{.1} = \\mu_{.2}$\n",
    "\n",
    "Since this is a type of ANOVA, to test these hypotheses we investigate the within and between sum of squares for these groups. At this point, this is done the same way as a one-way ANOVA (which, in the case of two marginal means groups like here, also reduces to being the same thing as an independent samples t-test - it's all connected!). The one-way ANOVA is applied for the effect of track training and separately for the effect of weight training. \n",
    "\n",
    "In our dataset, information about athletes' training is also stored in two variables ```track_training``` and ```weight_training```. Try using the ```aov()``` function yourself using the formula ```time ~ track_training + weight_training``` in the dataset ```meet1``` in order to run this factorial ANOVA."
   ]
  },
  {
   "cell_type": "code",
   "execution_count": 139,
   "id": "12896cc0",
   "metadata": {
    "scrolled": true
   },
   "outputs": [
    {
     "data": {
      "text/plain": [
       "                Df Sum Sq Mean Sq F value   Pr(>F)    \n",
       "track_training   1   2.14   2.139    1.79    0.189    \n",
       "weight_training  1  23.10  23.095   19.32 9.36e-05 ***\n",
       "Residuals       36  43.03   1.195                     \n",
       "---\n",
       "Signif. codes:  0 ‘***’ 0.001 ‘**’ 0.01 ‘*’ 0.05 ‘.’ 0.1 ‘ ’ 1"
      ]
     },
     "metadata": {},
     "output_type": "display_data"
    }
   ],
   "source": [
    "#run aov() with the formula time ~ track_training + weight_training\n",
    "anova_results <- NULL\n",
    "\n",
    "summary(anova_results)"
   ]
  },
  {
   "cell_type": "markdown",
   "id": "891ac98c",
   "metadata": {},
   "source": [
    "In this table, remember we're getting $SS_b$ for the effect of each predictor (in the Sum Sq column) as well as $SS_w$ for the between group variation (that which is not explained by the grouping variables). We also get a corresponding F and p value for each separate predictor that tells us whether there is a significant difference in group means for different levels of that predictor. \n",
    "\n",
    "That's how to run a factorial ANOVA to test the differences in marginal means. However, that might not be the full story with our data. We may decide that $\\mu_{.1}$ and $\\mu_{.2}$ are different from each other, but what about $\\mu_{11}$ and $\\mu_{12}$ or $\\mu_{21}$ and $\\mu_{22}$? Is there always going to be the same difference in running time regardless of the value of track training, or might there be an interaction between these two variables? \n",
    "\n",
    "It is possible to include an interaction in a factorial ANOVA as well. However, since ANOVAs are all about sum of squares, we need to be able to compute a sum of squares for the interaction term as well as the main effects. We won't deal with the math of how to do this in the ANOVA framework, as you can easily run this factorial ANOVA in R: "
   ]
  },
  {
   "cell_type": "code",
   "execution_count": 141,
   "id": "f5dbe5ec",
   "metadata": {
    "scrolled": true
   },
   "outputs": [
    {
     "data": {
      "text/plain": [
       "Call:\n",
       "   aov(formula = time ~ track_training * weight_training, data = meet1)\n",
       "\n",
       "Terms:\n",
       "                track_training weight_training track_training:weight_training\n",
       "Sum of Squares         2.13936        23.09514                        0.44420\n",
       "Deg. of Freedom              1               1                              1\n",
       "                Residuals\n",
       "Sum of Squares   42.58394\n",
       "Deg. of Freedom        35\n",
       "\n",
       "Residual standard error: 1.103034\n",
       "Estimated effects may be unbalanced"
      ]
     },
     "metadata": {},
     "output_type": "display_data"
    },
    {
     "data": {
      "text/plain": [
       "                               Df Sum Sq Mean Sq F value  Pr(>F)    \n",
       "track_training                  1   2.14   2.139   1.758 0.19342    \n",
       "weight_training                 1  23.10  23.095  18.982 0.00011 ***\n",
       "track_training:weight_training  1   0.44   0.444   0.365 0.54959    \n",
       "Residuals                      35  42.58   1.217                    \n",
       "---\n",
       "Signif. codes:  0 ‘***’ 0.001 ‘**’ 0.01 ‘*’ 0.05 ‘.’ 0.1 ‘ ’ 1"
      ]
     },
     "metadata": {},
     "output_type": "display_data"
    }
   ],
   "source": [
    "#same formula as an interaction for a GLM \n",
    "anova_results <- aov(time ~ track_training*weight_training, data = meet1)\n",
    "\n",
    "anova_results\n",
    "summary(anova_results)"
   ]
  },
  {
   "cell_type": "markdown",
   "id": "0448ff19",
   "metadata": {},
   "source": [
    "As you might guess, you can run a comparable test using the GLM. It even uses the same formula:"
   ]
  },
  {
   "cell_type": "code",
   "execution_count": 143,
   "id": "25a5ea5a",
   "metadata": {
    "scrolled": false
   },
   "outputs": [
    {
     "data": {
      "text/plain": [
       "\n",
       "Call:\n",
       "lm(formula = time ~ track_training * weight_training, data = meet1)\n",
       "\n",
       "Residuals:\n",
       "    Min      1Q  Median      3Q     Max \n",
       "-2.5210 -0.6737  0.1790  0.7580  1.8667 \n",
       "\n",
       "Coefficients:\n",
       "                               Estimate Std. Error t value Pr(>|t|)    \n",
       "(Intercept)                     49.0710     0.3488 140.681  < 2e-16 ***\n",
       "track_training                  -0.7170     0.4933  -1.454  0.15499    \n",
       "weight_training                 -1.7480     0.4933  -3.544  0.00114 ** \n",
       "track_training:weight_training   0.4273     0.7072   0.604  0.54959    \n",
       "---\n",
       "Signif. codes:  0 ‘***’ 0.001 ‘**’ 0.01 ‘*’ 0.05 ‘.’ 0.1 ‘ ’ 1\n",
       "\n",
       "Residual standard error: 1.103 on 35 degrees of freedom\n",
       "Multiple R-squared:  0.3762,\tAdjusted R-squared:  0.3227 \n",
       "F-statistic: 7.035 on 3 and 35 DF,  p-value: 0.0007993\n"
      ]
     },
     "metadata": {},
     "output_type": "display_data"
    }
   ],
   "source": [
    "summary(lm(time ~ track_training*weight_training, data = meet1))"
   ]
  },
  {
   "cell_type": "markdown",
   "id": "a67a1aca",
   "metadata": {},
   "source": [
    "Wait, we've found another situation where the p-values from the ANOVA analysis don't exactly match those from the GLM. Before when this happened, this was because the we had to do extra multiple comparison corrections for the results of a one-way ANOVA. But at least the model level F-statistics matched. This time we have an even bigger issue - the factorial ANOVA is actually *wrong*. It's wrong for a very small, but impactful reason:"
   ]
  },
  {
   "cell_type": "code",
   "execution_count": 146,
   "id": "92b6195f",
   "metadata": {},
   "outputs": [
    {
     "data": {
      "text/plain": [
       "\n",
       "  both-training     no-training  track-training weight-training \n",
       "              9              10              10              10 "
      ]
     },
     "metadata": {},
     "output_type": "display_data"
    }
   ],
   "source": [
    "table(meet1$condition)"
   ]
  },
  {
   "cell_type": "markdown",
   "id": "fc7c7637",
   "metadata": {},
   "source": [
    "As we can see here, there aren't an equal number of data points in each level of each variable. In otherwords, our dataset is **unbalanced**. This isn't a problem for the GLM - it will still calculate the $SS_{model}$ and $SS_{error}$ of the model regardless of how many data points are in each condition. In the GLM then, the p-values we get are correct. But the way $SS_b$ and $SS_w$ are calculated in a factorial ANOVA is different, and depends on each group having the same number of datapoints. If the groups don't, these calculations are wrong and we get wrong p-values. To fix it, we'd have to [change the math that ANOVAs are based on](https://bookdown.org/ndphillips/YaRrr/type-i-type-ii-and-type-iii-anovas.html). \n",
    "\n",
    "A lot of practicing researchers don't know this about factorial ANOVAs. In consequence, many who are publishing the results of factorial ANOVAs with unbalanced datasets are reporting incorrect statistics that are hard to replicate. This is another reason why it is often better for you to use a GLM instead of an ANOVA for your analyses.  "
   ]
  },
  {
   "cell_type": "markdown",
   "id": "91883486",
   "metadata": {},
   "source": [
    "## 20.6 Correlation & multiple regression\n",
    "\n",
    "So far we are seeing how we can get similar results with traditional statistical tools as we do with the GLM, and thus use them interchangeably. However, we've also learned some situations where GLMs are more flexible and thus a better default to use (e.g., when using unbalanced data and/or multiple pairwise comparisons). \n",
    "\n",
    "There's another big limitation to know about for t-tests and ANOVAs - they can only ever handle categorical predictors. These tests were developed to compare group means for classic experimental designs, but they aren't helpful if you don't have separate conditions or groups as your manipulation.\n",
    "\n",
    "To accommodate this, **correlation** was developed. We've already learned about this traditional tool, but to review, a correlation expresses the strength of covariance between two quantitative variables. It is calculated as:\n",
    "\n",
    "$$r = \\frac{\\sum(X_i - \\bar{X})(Y_i - \\bar{Y})}{\\sqrt{\\sum(X_i - \\bar{X})^2 \\sum(Y_i - \\bar{Y})^2}} $$\n",
    "\n",
    "This is a statistical estimate\n"
   ]
  },
  {
   "cell_type": "markdown",
   "id": "59e42d60",
   "metadata": {},
   "source": [
    "## 20.7 Chi-square"
   ]
  },
  {
   "cell_type": "markdown",
   "id": "8569d84d",
   "metadata": {},
   "source": [
    "## 20.8 Repeated measures tests\n"
   ]
  },
  {
   "cell_type": "markdown",
   "id": "52ecb320",
   "metadata": {},
   "source": [
    "[Next: Chapter 21 - Alternate Approaches - Bayesian Statistics](https://colab.research.google.com/github/smburns47/Psyc158/blob/main/chapter-21.ipynb)"
   ]
  }
 ],
 "metadata": {
  "kernelspec": {
   "display_name": "R",
   "language": "R",
   "name": "ir"
  },
  "language_info": {
   "codemirror_mode": "r",
   "file_extension": ".r",
   "mimetype": "text/x-r-source",
   "name": "R",
   "pygments_lexer": "r",
   "version": "4.2.3"
  }
 },
 "nbformat": 4,
 "nbformat_minor": 5
}
