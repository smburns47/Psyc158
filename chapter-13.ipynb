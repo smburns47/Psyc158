{
 "cells": [
  {
   "cell_type": "code",
   "execution_count": null,
   "id": "169c2ec4",
   "metadata": {},
   "outputs": [],
   "source": [
    "# Run this first so it's ready by the time you need it\n",
    "install.packages(\"readr\")\n",
    "install.packages(\"supernova\")\n",
    "install.packages(\"ggformula\")\n",
    "library(readr)\n",
    "library(supernova)\n",
    "library(ggformula)\n",
    "AmesHousing <- read_csv(\"https://raw.githubusercontent.com/smburns47/Psyc158/main/AmesHousing.csv\")\n"
   ]
  },
  {
   "cell_type": "markdown",
   "id": "b779d5bb",
   "metadata": {},
   "source": [
    "coursekata chapter 7.10, 7.11, 7.12, 8.7\n",
    "\n",
    "# Chapter 13 - Multivariable Models\n",
    "\n",
    "You have now learned to specify models with single explanatory variables, either categorical or continous. We saw how adding variables like this can improve prediction accuracy beyond that of the empty model, getting us closer to understanding the underlying data generation process. \n",
    "\n",
    "It stands to reason that if one explanatory variable can help us, maybe more than one can help us even more. Afterall, most real world processes aren't so simple as being created by one input, and in our models in the previous chapter it looked like there was still plenty of unexplained variance to account for. So let's start building even more complex models, with multiple variables - **multivariable models**. \n",
    "\n",
    "First, we'll introduce a new dataset ```AmesHousing```. This is a dataset of houses in Ames, Iowa that were sold between 2006 and 2010 along with 80 variables about the house such as its size, construction date, quality of each room, etc. The price the house sold at is also included, and this is the outcome variable we are going to try and predict based on features about the houses. You can see the codebook for all these variables [here](https://www.kaggle.com/competitions/house-prices-advanced-regression-techniques/data). \n",
    "\n",
    "Stop at this point and consider, what aspects about a house are likely to influence its sale price? Specifically, what variables included in the dataset might be able to explain variation in housing price? "
   ]
  },
  {
   "cell_type": "markdown",
   "id": "f4a4b8b2",
   "metadata": {},
   "source": []
  }
 ],
 "metadata": {
  "kernelspec": {
   "display_name": "R",
   "language": "R",
   "name": "ir"
  },
  "language_info": {
   "codemirror_mode": "r",
   "file_extension": ".r",
   "mimetype": "text/x-r-source",
   "name": "R",
   "pygments_lexer": "r",
   "version": "4.1.2"
  }
 },
 "nbformat": 4,
 "nbformat_minor": 5
}
