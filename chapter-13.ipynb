{
 "cells": [
  {
   "cell_type": "markdown",
   "id": "b779d5bb",
   "metadata": {},
   "source": [
    "coursekata chapter 7.10, 7.11, 7.12, 8.7\n",
    "\n",
    "also permuting variables like squaring\n",
    "\n",
    "# Chapter 13 - Multivariable Models\n",
    "\n",
    "You have now learned to specify models with single explanatory variables, either categorical or continous. We saw how adding variables like this can improve prediction accuracy beyond that of the empty model, getting us closer to understanding the underlying data generation process. \n",
    "\n",
    "It stands to reason that if one explanatory variable can help us, maybe more than one can help us even more. Afterall, most real world processes aren't so simple as being created by one other variable, and in our models in the previous chapter it looked like there was still plenty of unexplained variance to account for. So let's start building even more complex models, with multiple variables - **multivariable models**. "
   ]
  },
  {
   "cell_type": "markdown",
   "id": "9ca9a59b",
   "metadata": {},
   "source": []
  }
 ],
 "metadata": {
  "kernelspec": {
   "display_name": "R",
   "language": "R",
   "name": "ir"
  },
  "language_info": {
   "codemirror_mode": "r",
   "file_extension": ".r",
   "mimetype": "text/x-r-source",
   "name": "R",
   "pygments_lexer": "r",
   "version": "4.1.2"
  }
 },
 "nbformat": 4,
 "nbformat_minor": 5
}
